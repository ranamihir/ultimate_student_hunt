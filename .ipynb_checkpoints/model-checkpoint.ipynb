{
 "cells": [
  {
   "cell_type": "code",
   "execution_count": 1,
   "metadata": {
    "collapsed": true
   },
   "outputs": [],
   "source": [
    "# Initial imports\n",
    "\n",
    "import numpy as np\n",
    "import pandas as pd \n",
    "from pandas import DataFrame, Series\n",
    "import matplotlib.pyplot as plt\n",
    "import seaborn as sns\n",
    "from scipy import stats\n",
    "\n",
    "%matplotlib inline"
   ]
  },
  {
   "cell_type": "code",
   "execution_count": 2,
   "metadata": {
    "collapsed": false
   },
   "outputs": [
    {
     "name": "stderr",
     "output_type": "stream",
     "text": [
      "/home/aman/anaconda2/lib/python2.7/site-packages/matplotlib/__init__.py:872: UserWarning: axes.color_cycle is deprecated and replaced with axes.prop_cycle; please use the latter.\n",
      "  warnings.warn(self.msg_depr % (key, alt_key))\n"
     ]
    }
   ],
   "source": [
    "# Imports for better visualization\n",
    "\n",
    "from collections import defaultdict\n",
    "import json\n",
    "\n",
    "import scipy as sp\n",
    "\n",
    "from matplotlib import rcParams\n",
    "import matplotlib.cm as cm\n",
    "import matplotlib as mpl\n",
    "\n",
    "#colorbrewer2 Dark2 qualitative color table\n",
    "dark2_colors = [(0.10588235294117647, 0.6196078431372549, 0.4666666666666667),\n",
    "                (0.8509803921568627, 0.37254901960784315, 0.00784313725490196),\n",
    "                (0.4588235294117647, 0.4392156862745098, 0.7019607843137254),\n",
    "                (0.9058823529411765, 0.1607843137254902, 0.5411764705882353),\n",
    "                (0.4, 0.6509803921568628, 0.11764705882352941),\n",
    "                (0.9019607843137255, 0.6705882352941176, 0.00784313725490196),\n",
    "                (0.6509803921568628, 0.4627450980392157, 0.11372549019607843)]\n",
    "\n",
    "rcParams['figure.figsize'] = (10, 6)\n",
    "rcParams['figure.dpi'] = 150\n",
    "rcParams['axes.color_cycle'] = dark2_colors\n",
    "rcParams['lines.linewidth'] = 2\n",
    "rcParams['axes.facecolor'] = 'white'\n",
    "rcParams['font.size'] = 14\n",
    "rcParams['patch.edgecolor'] = 'white'\n",
    "rcParams['patch.facecolor'] = dark2_colors[0]\n",
    "rcParams['font.family'] = 'StixGeneral'"
   ]
  },
  {
   "cell_type": "code",
   "execution_count": 3,
   "metadata": {
    "collapsed": false
   },
   "outputs": [],
   "source": [
    "# Load training data\n",
    "train_data = pd.read_csv('Dataset/Train.csv')"
   ]
  },
  {
   "cell_type": "code",
   "execution_count": 4,
   "metadata": {
    "collapsed": true
   },
   "outputs": [],
   "source": [
    "# Load testing data\n",
    "test_data = pd.read_csv('Dataset/Test.csv')"
   ]
  },
  {
   "cell_type": "code",
   "execution_count": 5,
   "metadata": {
    "collapsed": false
   },
   "outputs": [
    {
     "data": {
      "text/html": [
       "<div>\n",
       "<table border=\"1\" class=\"dataframe\">\n",
       "  <thead>\n",
       "    <tr style=\"text-align: right;\">\n",
       "      <th></th>\n",
       "      <th>ID</th>\n",
       "      <th>Park_ID</th>\n",
       "      <th>Date</th>\n",
       "      <th>Direction_Of_Wind</th>\n",
       "      <th>Average_Breeze_Speed</th>\n",
       "      <th>Max_Breeze_Speed</th>\n",
       "      <th>Min_Breeze_Speed</th>\n",
       "      <th>Var1</th>\n",
       "      <th>Average_Atmospheric_Pressure</th>\n",
       "      <th>Max_Atmospheric_Pressure</th>\n",
       "      <th>Min_Atmospheric_Pressure</th>\n",
       "      <th>Min_Ambient_Pollution</th>\n",
       "      <th>Max_Ambient_Pollution</th>\n",
       "      <th>Average_Moisture_In_Park</th>\n",
       "      <th>Max_Moisture_In_Park</th>\n",
       "      <th>Min_Moisture_In_Park</th>\n",
       "      <th>Location_Type</th>\n",
       "      <th>Footfall</th>\n",
       "    </tr>\n",
       "  </thead>\n",
       "  <tbody>\n",
       "    <tr>\n",
       "      <th>0</th>\n",
       "      <td>3311712</td>\n",
       "      <td>12</td>\n",
       "      <td>01-09-1990</td>\n",
       "      <td>194.0</td>\n",
       "      <td>37.24</td>\n",
       "      <td>60.8</td>\n",
       "      <td>15.2</td>\n",
       "      <td>92.1300</td>\n",
       "      <td>8225.0</td>\n",
       "      <td>8259.0</td>\n",
       "      <td>8211.0</td>\n",
       "      <td>92.0</td>\n",
       "      <td>304.0</td>\n",
       "      <td>255.0</td>\n",
       "      <td>288.0</td>\n",
       "      <td>222.0</td>\n",
       "      <td>3</td>\n",
       "      <td>1406</td>\n",
       "    </tr>\n",
       "    <tr>\n",
       "      <th>1</th>\n",
       "      <td>3311812</td>\n",
       "      <td>12</td>\n",
       "      <td>02-09-1990</td>\n",
       "      <td>285.0</td>\n",
       "      <td>32.68</td>\n",
       "      <td>60.8</td>\n",
       "      <td>7.6</td>\n",
       "      <td>14.1100</td>\n",
       "      <td>8232.0</td>\n",
       "      <td>8280.0</td>\n",
       "      <td>8205.0</td>\n",
       "      <td>172.0</td>\n",
       "      <td>332.0</td>\n",
       "      <td>252.0</td>\n",
       "      <td>297.0</td>\n",
       "      <td>204.0</td>\n",
       "      <td>3</td>\n",
       "      <td>1409</td>\n",
       "    </tr>\n",
       "    <tr>\n",
       "      <th>2</th>\n",
       "      <td>3311912</td>\n",
       "      <td>12</td>\n",
       "      <td>03-09-1990</td>\n",
       "      <td>319.0</td>\n",
       "      <td>43.32</td>\n",
       "      <td>60.8</td>\n",
       "      <td>15.2</td>\n",
       "      <td>35.6900</td>\n",
       "      <td>8321.0</td>\n",
       "      <td>8355.0</td>\n",
       "      <td>8283.0</td>\n",
       "      <td>236.0</td>\n",
       "      <td>292.0</td>\n",
       "      <td>219.0</td>\n",
       "      <td>279.0</td>\n",
       "      <td>165.0</td>\n",
       "      <td>3</td>\n",
       "      <td>1386</td>\n",
       "    </tr>\n",
       "    <tr>\n",
       "      <th>3</th>\n",
       "      <td>3312012</td>\n",
       "      <td>12</td>\n",
       "      <td>04-09-1990</td>\n",
       "      <td>297.0</td>\n",
       "      <td>25.84</td>\n",
       "      <td>38.0</td>\n",
       "      <td>7.6</td>\n",
       "      <td>0.0249</td>\n",
       "      <td>8379.0</td>\n",
       "      <td>8396.0</td>\n",
       "      <td>8358.0</td>\n",
       "      <td>272.0</td>\n",
       "      <td>324.0</td>\n",
       "      <td>225.0</td>\n",
       "      <td>261.0</td>\n",
       "      <td>192.0</td>\n",
       "      <td>3</td>\n",
       "      <td>1365</td>\n",
       "    </tr>\n",
       "    <tr>\n",
       "      <th>4</th>\n",
       "      <td>3312112</td>\n",
       "      <td>12</td>\n",
       "      <td>05-09-1990</td>\n",
       "      <td>207.0</td>\n",
       "      <td>28.88</td>\n",
       "      <td>45.6</td>\n",
       "      <td>7.6</td>\n",
       "      <td>0.8300</td>\n",
       "      <td>8372.0</td>\n",
       "      <td>8393.0</td>\n",
       "      <td>8335.0</td>\n",
       "      <td>236.0</td>\n",
       "      <td>332.0</td>\n",
       "      <td>234.0</td>\n",
       "      <td>273.0</td>\n",
       "      <td>183.0</td>\n",
       "      <td>3</td>\n",
       "      <td>1413</td>\n",
       "    </tr>\n",
       "  </tbody>\n",
       "</table>\n",
       "</div>"
      ],
      "text/plain": [
       "        ID  Park_ID        Date  Direction_Of_Wind  Average_Breeze_Speed  \\\n",
       "0  3311712       12  01-09-1990              194.0                 37.24   \n",
       "1  3311812       12  02-09-1990              285.0                 32.68   \n",
       "2  3311912       12  03-09-1990              319.0                 43.32   \n",
       "3  3312012       12  04-09-1990              297.0                 25.84   \n",
       "4  3312112       12  05-09-1990              207.0                 28.88   \n",
       "\n",
       "   Max_Breeze_Speed  Min_Breeze_Speed     Var1  Average_Atmospheric_Pressure  \\\n",
       "0              60.8              15.2  92.1300                        8225.0   \n",
       "1              60.8               7.6  14.1100                        8232.0   \n",
       "2              60.8              15.2  35.6900                        8321.0   \n",
       "3              38.0               7.6   0.0249                        8379.0   \n",
       "4              45.6               7.6   0.8300                        8372.0   \n",
       "\n",
       "   Max_Atmospheric_Pressure  Min_Atmospheric_Pressure  Min_Ambient_Pollution  \\\n",
       "0                    8259.0                    8211.0                   92.0   \n",
       "1                    8280.0                    8205.0                  172.0   \n",
       "2                    8355.0                    8283.0                  236.0   \n",
       "3                    8396.0                    8358.0                  272.0   \n",
       "4                    8393.0                    8335.0                  236.0   \n",
       "\n",
       "   Max_Ambient_Pollution  Average_Moisture_In_Park  Max_Moisture_In_Park  \\\n",
       "0                  304.0                     255.0                 288.0   \n",
       "1                  332.0                     252.0                 297.0   \n",
       "2                  292.0                     219.0                 279.0   \n",
       "3                  324.0                     225.0                 261.0   \n",
       "4                  332.0                     234.0                 273.0   \n",
       "\n",
       "   Min_Moisture_In_Park  Location_Type  Footfall  \n",
       "0                 222.0              3      1406  \n",
       "1                 204.0              3      1409  \n",
       "2                 165.0              3      1386  \n",
       "3                 192.0              3      1365  \n",
       "4                 183.0              3      1413  "
      ]
     },
     "execution_count": 5,
     "metadata": {},
     "output_type": "execute_result"
    }
   ],
   "source": [
    "train_data.head()"
   ]
  },
  {
   "cell_type": "code",
   "execution_count": 6,
   "metadata": {
    "collapsed": false
   },
   "outputs": [
    {
     "data": {
      "text/html": [
       "<div>\n",
       "<table border=\"1\" class=\"dataframe\">\n",
       "  <thead>\n",
       "    <tr style=\"text-align: right;\">\n",
       "      <th></th>\n",
       "      <th>ID</th>\n",
       "      <th>Park_ID</th>\n",
       "      <th>Date</th>\n",
       "      <th>Direction_Of_Wind</th>\n",
       "      <th>Average_Breeze_Speed</th>\n",
       "      <th>Max_Breeze_Speed</th>\n",
       "      <th>Min_Breeze_Speed</th>\n",
       "      <th>Var1</th>\n",
       "      <th>Average_Atmospheric_Pressure</th>\n",
       "      <th>Max_Atmospheric_Pressure</th>\n",
       "      <th>Min_Atmospheric_Pressure</th>\n",
       "      <th>Min_Ambient_Pollution</th>\n",
       "      <th>Max_Ambient_Pollution</th>\n",
       "      <th>Average_Moisture_In_Park</th>\n",
       "      <th>Max_Moisture_In_Park</th>\n",
       "      <th>Min_Moisture_In_Park</th>\n",
       "      <th>Location_Type</th>\n",
       "    </tr>\n",
       "  </thead>\n",
       "  <tbody>\n",
       "    <tr>\n",
       "      <th>0</th>\n",
       "      <td>3725712</td>\n",
       "      <td>12</td>\n",
       "      <td>01-01-2002</td>\n",
       "      <td>233.0</td>\n",
       "      <td>55.48</td>\n",
       "      <td>76.0</td>\n",
       "      <td>38.0</td>\n",
       "      <td>0.0249</td>\n",
       "      <td>8259.0</td>\n",
       "      <td>8300.0</td>\n",
       "      <td>8211.0</td>\n",
       "      <td>260.0</td>\n",
       "      <td>316.0</td>\n",
       "      <td>243.0</td>\n",
       "      <td>285.0</td>\n",
       "      <td>210.0</td>\n",
       "      <td>3</td>\n",
       "    </tr>\n",
       "    <tr>\n",
       "      <th>1</th>\n",
       "      <td>3725812</td>\n",
       "      <td>12</td>\n",
       "      <td>02-01-2002</td>\n",
       "      <td>211.0</td>\n",
       "      <td>108.68</td>\n",
       "      <td>152.0</td>\n",
       "      <td>60.8</td>\n",
       "      <td>154.3800</td>\n",
       "      <td>8208.0</td>\n",
       "      <td>8294.0</td>\n",
       "      <td>8136.0</td>\n",
       "      <td>120.0</td>\n",
       "      <td>280.0</td>\n",
       "      <td>252.0</td>\n",
       "      <td>291.0</td>\n",
       "      <td>201.0</td>\n",
       "      <td>3</td>\n",
       "    </tr>\n",
       "    <tr>\n",
       "      <th>2</th>\n",
       "      <td>3725912</td>\n",
       "      <td>12</td>\n",
       "      <td>03-01-2002</td>\n",
       "      <td>237.0</td>\n",
       "      <td>95.76</td>\n",
       "      <td>121.6</td>\n",
       "      <td>83.6</td>\n",
       "      <td>34.8600</td>\n",
       "      <td>8252.0</td>\n",
       "      <td>8304.0</td>\n",
       "      <td>8146.0</td>\n",
       "      <td>236.0</td>\n",
       "      <td>292.0</td>\n",
       "      <td>234.0</td>\n",
       "      <td>270.0</td>\n",
       "      <td>207.0</td>\n",
       "      <td>3</td>\n",
       "    </tr>\n",
       "    <tr>\n",
       "      <th>3</th>\n",
       "      <td>3726012</td>\n",
       "      <td>12</td>\n",
       "      <td>04-01-2002</td>\n",
       "      <td>286.0</td>\n",
       "      <td>101.08</td>\n",
       "      <td>129.2</td>\n",
       "      <td>83.6</td>\n",
       "      <td>34.0300</td>\n",
       "      <td>8146.0</td>\n",
       "      <td>8249.0</td>\n",
       "      <td>8092.0</td>\n",
       "      <td>204.0</td>\n",
       "      <td>284.0</td>\n",
       "      <td>228.0</td>\n",
       "      <td>264.0</td>\n",
       "      <td>201.0</td>\n",
       "      <td>3</td>\n",
       "    </tr>\n",
       "    <tr>\n",
       "      <th>4</th>\n",
       "      <td>3726112</td>\n",
       "      <td>12</td>\n",
       "      <td>05-01-2002</td>\n",
       "      <td>281.0</td>\n",
       "      <td>63.08</td>\n",
       "      <td>83.6</td>\n",
       "      <td>45.6</td>\n",
       "      <td>4.9800</td>\n",
       "      <td>8341.0</td>\n",
       "      <td>8376.0</td>\n",
       "      <td>8259.0</td>\n",
       "      <td>144.0</td>\n",
       "      <td>316.0</td>\n",
       "      <td>237.0</td>\n",
       "      <td>279.0</td>\n",
       "      <td>213.0</td>\n",
       "      <td>3</td>\n",
       "    </tr>\n",
       "  </tbody>\n",
       "</table>\n",
       "</div>"
      ],
      "text/plain": [
       "        ID  Park_ID        Date  Direction_Of_Wind  Average_Breeze_Speed  \\\n",
       "0  3725712       12  01-01-2002              233.0                 55.48   \n",
       "1  3725812       12  02-01-2002              211.0                108.68   \n",
       "2  3725912       12  03-01-2002              237.0                 95.76   \n",
       "3  3726012       12  04-01-2002              286.0                101.08   \n",
       "4  3726112       12  05-01-2002              281.0                 63.08   \n",
       "\n",
       "   Max_Breeze_Speed  Min_Breeze_Speed      Var1  Average_Atmospheric_Pressure  \\\n",
       "0              76.0              38.0    0.0249                        8259.0   \n",
       "1             152.0              60.8  154.3800                        8208.0   \n",
       "2             121.6              83.6   34.8600                        8252.0   \n",
       "3             129.2              83.6   34.0300                        8146.0   \n",
       "4              83.6              45.6    4.9800                        8341.0   \n",
       "\n",
       "   Max_Atmospheric_Pressure  Min_Atmospheric_Pressure  Min_Ambient_Pollution  \\\n",
       "0                    8300.0                    8211.0                  260.0   \n",
       "1                    8294.0                    8136.0                  120.0   \n",
       "2                    8304.0                    8146.0                  236.0   \n",
       "3                    8249.0                    8092.0                  204.0   \n",
       "4                    8376.0                    8259.0                  144.0   \n",
       "\n",
       "   Max_Ambient_Pollution  Average_Moisture_In_Park  Max_Moisture_In_Park  \\\n",
       "0                  316.0                     243.0                 285.0   \n",
       "1                  280.0                     252.0                 291.0   \n",
       "2                  292.0                     234.0                 270.0   \n",
       "3                  284.0                     228.0                 264.0   \n",
       "4                  316.0                     237.0                 279.0   \n",
       "\n",
       "   Min_Moisture_In_Park  Location_Type  \n",
       "0                 210.0              3  \n",
       "1                 201.0              3  \n",
       "2                 207.0              3  \n",
       "3                 201.0              3  \n",
       "4                 213.0              3  "
      ]
     },
     "execution_count": 6,
     "metadata": {},
     "output_type": "execute_result"
    }
   ],
   "source": [
    "test_data.head()"
   ]
  },
  {
   "cell_type": "code",
   "execution_count": 7,
   "metadata": {
    "collapsed": false
   },
   "outputs": [
    {
     "data": {
      "text/plain": [
       "(114539, 18)"
      ]
     },
     "execution_count": 7,
     "metadata": {},
     "output_type": "execute_result"
    }
   ],
   "source": [
    "train_data.shape"
   ]
  },
  {
   "cell_type": "code",
   "execution_count": 8,
   "metadata": {
    "collapsed": false
   },
   "outputs": [
    {
     "data": {
      "text/plain": [
       "ID                              False\n",
       "Park_ID                         False\n",
       "Date                            False\n",
       "Direction_Of_Wind                True\n",
       "Average_Breeze_Speed             True\n",
       "Max_Breeze_Speed                 True\n",
       "Min_Breeze_Speed                 True\n",
       "Var1                             True\n",
       "Average_Atmospheric_Pressure     True\n",
       "Max_Atmospheric_Pressure         True\n",
       "Min_Atmospheric_Pressure         True\n",
       "Min_Ambient_Pollution            True\n",
       "Max_Ambient_Pollution            True\n",
       "Average_Moisture_In_Park         True\n",
       "Max_Moisture_In_Park             True\n",
       "Min_Moisture_In_Park             True\n",
       "Location_Type                   False\n",
       "Footfall                        False\n",
       "dtype: bool"
      ]
     },
     "execution_count": 8,
     "metadata": {},
     "output_type": "execute_result"
    }
   ],
   "source": [
    "train_data.isnull().any()"
   ]
  },
  {
   "cell_type": "code",
   "execution_count": 9,
   "metadata": {
    "collapsed": false
   },
   "outputs": [
    {
     "data": {
      "text/plain": [
       "(39420, 17)"
      ]
     },
     "execution_count": 9,
     "metadata": {},
     "output_type": "execute_result"
    }
   ],
   "source": [
    "test_data.shape"
   ]
  },
  {
   "cell_type": "code",
   "execution_count": 10,
   "metadata": {
    "collapsed": false
   },
   "outputs": [
    {
     "data": {
      "text/plain": [
       "ID                              False\n",
       "Park_ID                         False\n",
       "Date                            False\n",
       "Direction_Of_Wind                True\n",
       "Average_Breeze_Speed             True\n",
       "Max_Breeze_Speed                 True\n",
       "Min_Breeze_Speed                 True\n",
       "Var1                             True\n",
       "Average_Atmospheric_Pressure     True\n",
       "Max_Atmospheric_Pressure         True\n",
       "Min_Atmospheric_Pressure         True\n",
       "Min_Ambient_Pollution            True\n",
       "Max_Ambient_Pollution            True\n",
       "Average_Moisture_In_Park         True\n",
       "Max_Moisture_In_Park             True\n",
       "Min_Moisture_In_Park             True\n",
       "Location_Type                   False\n",
       "dtype: bool"
      ]
     },
     "execution_count": 10,
     "metadata": {},
     "output_type": "execute_result"
    }
   ],
   "source": [
    "test_data.isnull().any()"
   ]
  },
  {
   "cell_type": "code",
   "execution_count": 11,
   "metadata": {
    "collapsed": true
   },
   "outputs": [],
   "source": [
    "data = train_data.append(test_data, ignore_index=True)"
   ]
  },
  {
   "cell_type": "code",
   "execution_count": 12,
   "metadata": {
    "collapsed": false
   },
   "outputs": [
    {
     "data": {
      "text/html": [
       "<div>\n",
       "<table border=\"1\" class=\"dataframe\">\n",
       "  <thead>\n",
       "    <tr style=\"text-align: right;\">\n",
       "      <th></th>\n",
       "      <th>Average_Atmospheric_Pressure</th>\n",
       "      <th>Average_Breeze_Speed</th>\n",
       "      <th>Average_Moisture_In_Park</th>\n",
       "      <th>Date</th>\n",
       "      <th>Direction_Of_Wind</th>\n",
       "      <th>Footfall</th>\n",
       "      <th>ID</th>\n",
       "      <th>Location_Type</th>\n",
       "      <th>Max_Ambient_Pollution</th>\n",
       "      <th>Max_Atmospheric_Pressure</th>\n",
       "      <th>Max_Breeze_Speed</th>\n",
       "      <th>Max_Moisture_In_Park</th>\n",
       "      <th>Min_Ambient_Pollution</th>\n",
       "      <th>Min_Atmospheric_Pressure</th>\n",
       "      <th>Min_Breeze_Speed</th>\n",
       "      <th>Min_Moisture_In_Park</th>\n",
       "      <th>Park_ID</th>\n",
       "      <th>Var1</th>\n",
       "    </tr>\n",
       "  </thead>\n",
       "  <tbody>\n",
       "    <tr>\n",
       "      <th>0</th>\n",
       "      <td>8225.0</td>\n",
       "      <td>37.24</td>\n",
       "      <td>255.0</td>\n",
       "      <td>01-09-1990</td>\n",
       "      <td>194.0</td>\n",
       "      <td>1406.0</td>\n",
       "      <td>3311712</td>\n",
       "      <td>3</td>\n",
       "      <td>304.0</td>\n",
       "      <td>8259.0</td>\n",
       "      <td>60.8</td>\n",
       "      <td>288.0</td>\n",
       "      <td>92.0</td>\n",
       "      <td>8211.0</td>\n",
       "      <td>15.2</td>\n",
       "      <td>222.0</td>\n",
       "      <td>12</td>\n",
       "      <td>92.1300</td>\n",
       "    </tr>\n",
       "    <tr>\n",
       "      <th>1</th>\n",
       "      <td>8232.0</td>\n",
       "      <td>32.68</td>\n",
       "      <td>252.0</td>\n",
       "      <td>02-09-1990</td>\n",
       "      <td>285.0</td>\n",
       "      <td>1409.0</td>\n",
       "      <td>3311812</td>\n",
       "      <td>3</td>\n",
       "      <td>332.0</td>\n",
       "      <td>8280.0</td>\n",
       "      <td>60.8</td>\n",
       "      <td>297.0</td>\n",
       "      <td>172.0</td>\n",
       "      <td>8205.0</td>\n",
       "      <td>7.6</td>\n",
       "      <td>204.0</td>\n",
       "      <td>12</td>\n",
       "      <td>14.1100</td>\n",
       "    </tr>\n",
       "    <tr>\n",
       "      <th>2</th>\n",
       "      <td>8321.0</td>\n",
       "      <td>43.32</td>\n",
       "      <td>219.0</td>\n",
       "      <td>03-09-1990</td>\n",
       "      <td>319.0</td>\n",
       "      <td>1386.0</td>\n",
       "      <td>3311912</td>\n",
       "      <td>3</td>\n",
       "      <td>292.0</td>\n",
       "      <td>8355.0</td>\n",
       "      <td>60.8</td>\n",
       "      <td>279.0</td>\n",
       "      <td>236.0</td>\n",
       "      <td>8283.0</td>\n",
       "      <td>15.2</td>\n",
       "      <td>165.0</td>\n",
       "      <td>12</td>\n",
       "      <td>35.6900</td>\n",
       "    </tr>\n",
       "    <tr>\n",
       "      <th>3</th>\n",
       "      <td>8379.0</td>\n",
       "      <td>25.84</td>\n",
       "      <td>225.0</td>\n",
       "      <td>04-09-1990</td>\n",
       "      <td>297.0</td>\n",
       "      <td>1365.0</td>\n",
       "      <td>3312012</td>\n",
       "      <td>3</td>\n",
       "      <td>324.0</td>\n",
       "      <td>8396.0</td>\n",
       "      <td>38.0</td>\n",
       "      <td>261.0</td>\n",
       "      <td>272.0</td>\n",
       "      <td>8358.0</td>\n",
       "      <td>7.6</td>\n",
       "      <td>192.0</td>\n",
       "      <td>12</td>\n",
       "      <td>0.0249</td>\n",
       "    </tr>\n",
       "    <tr>\n",
       "      <th>4</th>\n",
       "      <td>8372.0</td>\n",
       "      <td>28.88</td>\n",
       "      <td>234.0</td>\n",
       "      <td>05-09-1990</td>\n",
       "      <td>207.0</td>\n",
       "      <td>1413.0</td>\n",
       "      <td>3312112</td>\n",
       "      <td>3</td>\n",
       "      <td>332.0</td>\n",
       "      <td>8393.0</td>\n",
       "      <td>45.6</td>\n",
       "      <td>273.0</td>\n",
       "      <td>236.0</td>\n",
       "      <td>8335.0</td>\n",
       "      <td>7.6</td>\n",
       "      <td>183.0</td>\n",
       "      <td>12</td>\n",
       "      <td>0.8300</td>\n",
       "    </tr>\n",
       "  </tbody>\n",
       "</table>\n",
       "</div>"
      ],
      "text/plain": [
       "   Average_Atmospheric_Pressure  Average_Breeze_Speed  \\\n",
       "0                        8225.0                 37.24   \n",
       "1                        8232.0                 32.68   \n",
       "2                        8321.0                 43.32   \n",
       "3                        8379.0                 25.84   \n",
       "4                        8372.0                 28.88   \n",
       "\n",
       "   Average_Moisture_In_Park        Date  Direction_Of_Wind  Footfall       ID  \\\n",
       "0                     255.0  01-09-1990              194.0    1406.0  3311712   \n",
       "1                     252.0  02-09-1990              285.0    1409.0  3311812   \n",
       "2                     219.0  03-09-1990              319.0    1386.0  3311912   \n",
       "3                     225.0  04-09-1990              297.0    1365.0  3312012   \n",
       "4                     234.0  05-09-1990              207.0    1413.0  3312112   \n",
       "\n",
       "   Location_Type  Max_Ambient_Pollution  Max_Atmospheric_Pressure  \\\n",
       "0              3                  304.0                    8259.0   \n",
       "1              3                  332.0                    8280.0   \n",
       "2              3                  292.0                    8355.0   \n",
       "3              3                  324.0                    8396.0   \n",
       "4              3                  332.0                    8393.0   \n",
       "\n",
       "   Max_Breeze_Speed  Max_Moisture_In_Park  Min_Ambient_Pollution  \\\n",
       "0              60.8                 288.0                   92.0   \n",
       "1              60.8                 297.0                  172.0   \n",
       "2              60.8                 279.0                  236.0   \n",
       "3              38.0                 261.0                  272.0   \n",
       "4              45.6                 273.0                  236.0   \n",
       "\n",
       "   Min_Atmospheric_Pressure  Min_Breeze_Speed  Min_Moisture_In_Park  Park_ID  \\\n",
       "0                    8211.0              15.2                 222.0       12   \n",
       "1                    8205.0               7.6                 204.0       12   \n",
       "2                    8283.0              15.2                 165.0       12   \n",
       "3                    8358.0               7.6                 192.0       12   \n",
       "4                    8335.0               7.6                 183.0       12   \n",
       "\n",
       "      Var1  \n",
       "0  92.1300  \n",
       "1  14.1100  \n",
       "2  35.6900  \n",
       "3   0.0249  \n",
       "4   0.8300  "
      ]
     },
     "execution_count": 12,
     "metadata": {},
     "output_type": "execute_result"
    }
   ],
   "source": [
    "data.head()"
   ]
  },
  {
   "cell_type": "code",
   "execution_count": 13,
   "metadata": {
    "collapsed": false
   },
   "outputs": [
    {
     "data": {
      "text/plain": [
       "(153959, 18)"
      ]
     },
     "execution_count": 13,
     "metadata": {},
     "output_type": "execute_result"
    }
   ],
   "source": [
    "data.shape"
   ]
  },
  {
   "cell_type": "code",
   "execution_count": 14,
   "metadata": {
    "collapsed": false
   },
   "outputs": [
    {
     "data": {
      "text/plain": [
       "Average_Atmospheric_Pressure    float64\n",
       "Average_Breeze_Speed            float64\n",
       "Average_Moisture_In_Park        float64\n",
       "Date                             object\n",
       "Direction_Of_Wind               float64\n",
       "Footfall                        float64\n",
       "ID                                int64\n",
       "Location_Type                     int64\n",
       "Max_Ambient_Pollution           float64\n",
       "Max_Atmospheric_Pressure        float64\n",
       "Max_Breeze_Speed                float64\n",
       "Max_Moisture_In_Park            float64\n",
       "Min_Ambient_Pollution           float64\n",
       "Min_Atmospheric_Pressure        float64\n",
       "Min_Breeze_Speed                float64\n",
       "Min_Moisture_In_Park            float64\n",
       "Park_ID                           int64\n",
       "Var1                            float64\n",
       "dtype: object"
      ]
     },
     "execution_count": 14,
     "metadata": {},
     "output_type": "execute_result"
    }
   ],
   "source": [
    "data.dtypes"
   ]
  },
  {
   "cell_type": "code",
   "execution_count": 15,
   "metadata": {
    "collapsed": false
   },
   "outputs": [],
   "source": [
    "data['Footfall'].fillna(0, inplace=True)"
   ]
  },
  {
   "cell_type": "code",
   "execution_count": 16,
   "metadata": {
    "collapsed": false
   },
   "outputs": [
    {
     "data": {
      "text/plain": [
       "Average_Atmospheric_Pressure     True\n",
       "Average_Breeze_Speed             True\n",
       "Average_Moisture_In_Park         True\n",
       "Date                            False\n",
       "Direction_Of_Wind                True\n",
       "Footfall                        False\n",
       "ID                              False\n",
       "Location_Type                   False\n",
       "Max_Ambient_Pollution            True\n",
       "Max_Atmospheric_Pressure         True\n",
       "Max_Breeze_Speed                 True\n",
       "Max_Moisture_In_Park             True\n",
       "Min_Ambient_Pollution            True\n",
       "Min_Atmospheric_Pressure         True\n",
       "Min_Breeze_Speed                 True\n",
       "Min_Moisture_In_Park             True\n",
       "Park_ID                         False\n",
       "Var1                             True\n",
       "dtype: bool"
      ]
     },
     "execution_count": 16,
     "metadata": {},
     "output_type": "execute_result"
    }
   ],
   "source": [
    "data.isnull().any()"
   ]
  },
  {
   "cell_type": "code",
   "execution_count": 17,
   "metadata": {
    "collapsed": true
   },
   "outputs": [],
   "source": [
    "def normalize_feature(df, feature):\n",
    "    return (df['Average_' + feature] - df['Min_' + feature])/(df['Max_' + feature] - df['Min_' + feature])"
   ]
  },
  {
   "cell_type": "code",
   "execution_count": 18,
   "metadata": {
    "collapsed": false
   },
   "outputs": [],
   "source": [
    "data['pressure'] = normalize_feature(data, 'Atmospheric_Pressure')"
   ]
  },
  {
   "cell_type": "code",
   "execution_count": 19,
   "metadata": {
    "collapsed": false
   },
   "outputs": [
    {
     "data": {
      "text/html": [
       "<div>\n",
       "<table border=\"1\" class=\"dataframe\">\n",
       "  <thead>\n",
       "    <tr style=\"text-align: right;\">\n",
       "      <th></th>\n",
       "      <th>Average_Atmospheric_Pressure</th>\n",
       "      <th>Average_Breeze_Speed</th>\n",
       "      <th>Average_Moisture_In_Park</th>\n",
       "      <th>Date</th>\n",
       "      <th>Direction_Of_Wind</th>\n",
       "      <th>Footfall</th>\n",
       "      <th>ID</th>\n",
       "      <th>Location_Type</th>\n",
       "      <th>Max_Ambient_Pollution</th>\n",
       "      <th>Max_Atmospheric_Pressure</th>\n",
       "      <th>Max_Breeze_Speed</th>\n",
       "      <th>Max_Moisture_In_Park</th>\n",
       "      <th>Min_Ambient_Pollution</th>\n",
       "      <th>Min_Atmospheric_Pressure</th>\n",
       "      <th>Min_Breeze_Speed</th>\n",
       "      <th>Min_Moisture_In_Park</th>\n",
       "      <th>Park_ID</th>\n",
       "      <th>Var1</th>\n",
       "      <th>pressure</th>\n",
       "    </tr>\n",
       "  </thead>\n",
       "  <tbody>\n",
       "    <tr>\n",
       "      <th>0</th>\n",
       "      <td>8225.0</td>\n",
       "      <td>37.24</td>\n",
       "      <td>255.0</td>\n",
       "      <td>01-09-1990</td>\n",
       "      <td>194.0</td>\n",
       "      <td>1406.0</td>\n",
       "      <td>3311712</td>\n",
       "      <td>3</td>\n",
       "      <td>304.0</td>\n",
       "      <td>8259.0</td>\n",
       "      <td>60.8</td>\n",
       "      <td>288.0</td>\n",
       "      <td>92.0</td>\n",
       "      <td>8211.0</td>\n",
       "      <td>15.2</td>\n",
       "      <td>222.0</td>\n",
       "      <td>12</td>\n",
       "      <td>92.1300</td>\n",
       "      <td>0.291667</td>\n",
       "    </tr>\n",
       "    <tr>\n",
       "      <th>1</th>\n",
       "      <td>8232.0</td>\n",
       "      <td>32.68</td>\n",
       "      <td>252.0</td>\n",
       "      <td>02-09-1990</td>\n",
       "      <td>285.0</td>\n",
       "      <td>1409.0</td>\n",
       "      <td>3311812</td>\n",
       "      <td>3</td>\n",
       "      <td>332.0</td>\n",
       "      <td>8280.0</td>\n",
       "      <td>60.8</td>\n",
       "      <td>297.0</td>\n",
       "      <td>172.0</td>\n",
       "      <td>8205.0</td>\n",
       "      <td>7.6</td>\n",
       "      <td>204.0</td>\n",
       "      <td>12</td>\n",
       "      <td>14.1100</td>\n",
       "      <td>0.360000</td>\n",
       "    </tr>\n",
       "    <tr>\n",
       "      <th>2</th>\n",
       "      <td>8321.0</td>\n",
       "      <td>43.32</td>\n",
       "      <td>219.0</td>\n",
       "      <td>03-09-1990</td>\n",
       "      <td>319.0</td>\n",
       "      <td>1386.0</td>\n",
       "      <td>3311912</td>\n",
       "      <td>3</td>\n",
       "      <td>292.0</td>\n",
       "      <td>8355.0</td>\n",
       "      <td>60.8</td>\n",
       "      <td>279.0</td>\n",
       "      <td>236.0</td>\n",
       "      <td>8283.0</td>\n",
       "      <td>15.2</td>\n",
       "      <td>165.0</td>\n",
       "      <td>12</td>\n",
       "      <td>35.6900</td>\n",
       "      <td>0.527778</td>\n",
       "    </tr>\n",
       "    <tr>\n",
       "      <th>3</th>\n",
       "      <td>8379.0</td>\n",
       "      <td>25.84</td>\n",
       "      <td>225.0</td>\n",
       "      <td>04-09-1990</td>\n",
       "      <td>297.0</td>\n",
       "      <td>1365.0</td>\n",
       "      <td>3312012</td>\n",
       "      <td>3</td>\n",
       "      <td>324.0</td>\n",
       "      <td>8396.0</td>\n",
       "      <td>38.0</td>\n",
       "      <td>261.0</td>\n",
       "      <td>272.0</td>\n",
       "      <td>8358.0</td>\n",
       "      <td>7.6</td>\n",
       "      <td>192.0</td>\n",
       "      <td>12</td>\n",
       "      <td>0.0249</td>\n",
       "      <td>0.552632</td>\n",
       "    </tr>\n",
       "    <tr>\n",
       "      <th>4</th>\n",
       "      <td>8372.0</td>\n",
       "      <td>28.88</td>\n",
       "      <td>234.0</td>\n",
       "      <td>05-09-1990</td>\n",
       "      <td>207.0</td>\n",
       "      <td>1413.0</td>\n",
       "      <td>3312112</td>\n",
       "      <td>3</td>\n",
       "      <td>332.0</td>\n",
       "      <td>8393.0</td>\n",
       "      <td>45.6</td>\n",
       "      <td>273.0</td>\n",
       "      <td>236.0</td>\n",
       "      <td>8335.0</td>\n",
       "      <td>7.6</td>\n",
       "      <td>183.0</td>\n",
       "      <td>12</td>\n",
       "      <td>0.8300</td>\n",
       "      <td>0.637931</td>\n",
       "    </tr>\n",
       "  </tbody>\n",
       "</table>\n",
       "</div>"
      ],
      "text/plain": [
       "   Average_Atmospheric_Pressure  Average_Breeze_Speed  \\\n",
       "0                        8225.0                 37.24   \n",
       "1                        8232.0                 32.68   \n",
       "2                        8321.0                 43.32   \n",
       "3                        8379.0                 25.84   \n",
       "4                        8372.0                 28.88   \n",
       "\n",
       "   Average_Moisture_In_Park        Date  Direction_Of_Wind  Footfall       ID  \\\n",
       "0                     255.0  01-09-1990              194.0    1406.0  3311712   \n",
       "1                     252.0  02-09-1990              285.0    1409.0  3311812   \n",
       "2                     219.0  03-09-1990              319.0    1386.0  3311912   \n",
       "3                     225.0  04-09-1990              297.0    1365.0  3312012   \n",
       "4                     234.0  05-09-1990              207.0    1413.0  3312112   \n",
       "\n",
       "   Location_Type  Max_Ambient_Pollution  Max_Atmospheric_Pressure  \\\n",
       "0              3                  304.0                    8259.0   \n",
       "1              3                  332.0                    8280.0   \n",
       "2              3                  292.0                    8355.0   \n",
       "3              3                  324.0                    8396.0   \n",
       "4              3                  332.0                    8393.0   \n",
       "\n",
       "   Max_Breeze_Speed  Max_Moisture_In_Park  Min_Ambient_Pollution  \\\n",
       "0              60.8                 288.0                   92.0   \n",
       "1              60.8                 297.0                  172.0   \n",
       "2              60.8                 279.0                  236.0   \n",
       "3              38.0                 261.0                  272.0   \n",
       "4              45.6                 273.0                  236.0   \n",
       "\n",
       "   Min_Atmospheric_Pressure  Min_Breeze_Speed  Min_Moisture_In_Park  Park_ID  \\\n",
       "0                    8211.0              15.2                 222.0       12   \n",
       "1                    8205.0               7.6                 204.0       12   \n",
       "2                    8283.0              15.2                 165.0       12   \n",
       "3                    8358.0               7.6                 192.0       12   \n",
       "4                    8335.0               7.6                 183.0       12   \n",
       "\n",
       "      Var1  pressure  \n",
       "0  92.1300  0.291667  \n",
       "1  14.1100  0.360000  \n",
       "2  35.6900  0.527778  \n",
       "3   0.0249  0.552632  \n",
       "4   0.8300  0.637931  "
      ]
     },
     "execution_count": 19,
     "metadata": {},
     "output_type": "execute_result"
    }
   ],
   "source": [
    "data.head()"
   ]
  },
  {
   "cell_type": "code",
   "execution_count": 20,
   "metadata": {
    "collapsed": true
   },
   "outputs": [],
   "source": [
    "data['Average_Wind_Speed'] = np.abs(data['Average_Breeze_Speed']*np.cos((data['Direction_Of_Wind'] % 180)*(np.pi/180)))\n",
    "data['Max_Wind_Speed'] = np.abs(data['Max_Breeze_Speed']*np.cos((data['Direction_Of_Wind'] % 180)*(np.pi/180)))\n",
    "data['Min_Wind_Speed'] = np.abs(data['Min_Breeze_Speed']*np.cos((data['Direction_Of_Wind'] % 180)*(np.pi/180)))"
   ]
  },
  {
   "cell_type": "code",
   "execution_count": 21,
   "metadata": {
    "collapsed": false
   },
   "outputs": [],
   "source": [
    "data['wind'] = normalize_feature(data, 'Wind_Speed')"
   ]
  },
  {
   "cell_type": "code",
   "execution_count": 22,
   "metadata": {
    "collapsed": false,
    "scrolled": false
   },
   "outputs": [
    {
     "data": {
      "text/html": [
       "<div>\n",
       "<table border=\"1\" class=\"dataframe\">\n",
       "  <thead>\n",
       "    <tr style=\"text-align: right;\">\n",
       "      <th></th>\n",
       "      <th>Average_Atmospheric_Pressure</th>\n",
       "      <th>Average_Breeze_Speed</th>\n",
       "      <th>Average_Moisture_In_Park</th>\n",
       "      <th>Date</th>\n",
       "      <th>Direction_Of_Wind</th>\n",
       "      <th>Footfall</th>\n",
       "      <th>ID</th>\n",
       "      <th>Location_Type</th>\n",
       "      <th>Max_Ambient_Pollution</th>\n",
       "      <th>Max_Atmospheric_Pressure</th>\n",
       "      <th>...</th>\n",
       "      <th>Min_Atmospheric_Pressure</th>\n",
       "      <th>Min_Breeze_Speed</th>\n",
       "      <th>Min_Moisture_In_Park</th>\n",
       "      <th>Park_ID</th>\n",
       "      <th>Var1</th>\n",
       "      <th>pressure</th>\n",
       "      <th>Average_Wind_Speed</th>\n",
       "      <th>Max_Wind_Speed</th>\n",
       "      <th>Min_Wind_Speed</th>\n",
       "      <th>wind</th>\n",
       "    </tr>\n",
       "  </thead>\n",
       "  <tbody>\n",
       "    <tr>\n",
       "      <th>0</th>\n",
       "      <td>8225.0</td>\n",
       "      <td>37.24</td>\n",
       "      <td>255.0</td>\n",
       "      <td>01-09-1990</td>\n",
       "      <td>194.0</td>\n",
       "      <td>1406.0</td>\n",
       "      <td>3311712</td>\n",
       "      <td>3</td>\n",
       "      <td>304.0</td>\n",
       "      <td>8259.0</td>\n",
       "      <td>...</td>\n",
       "      <td>8211.0</td>\n",
       "      <td>15.2</td>\n",
       "      <td>222.0</td>\n",
       "      <td>12</td>\n",
       "      <td>92.1300</td>\n",
       "      <td>0.291667</td>\n",
       "      <td>36.133813</td>\n",
       "      <td>58.993980</td>\n",
       "      <td>14.748495</td>\n",
       "      <td>0.483333</td>\n",
       "    </tr>\n",
       "    <tr>\n",
       "      <th>1</th>\n",
       "      <td>8232.0</td>\n",
       "      <td>32.68</td>\n",
       "      <td>252.0</td>\n",
       "      <td>02-09-1990</td>\n",
       "      <td>285.0</td>\n",
       "      <td>1409.0</td>\n",
       "      <td>3311812</td>\n",
       "      <td>3</td>\n",
       "      <td>332.0</td>\n",
       "      <td>8280.0</td>\n",
       "      <td>...</td>\n",
       "      <td>8205.0</td>\n",
       "      <td>7.6</td>\n",
       "      <td>204.0</td>\n",
       "      <td>12</td>\n",
       "      <td>14.1100</td>\n",
       "      <td>0.360000</td>\n",
       "      <td>8.458206</td>\n",
       "      <td>15.736198</td>\n",
       "      <td>1.967025</td>\n",
       "      <td>0.471429</td>\n",
       "    </tr>\n",
       "    <tr>\n",
       "      <th>2</th>\n",
       "      <td>8321.0</td>\n",
       "      <td>43.32</td>\n",
       "      <td>219.0</td>\n",
       "      <td>03-09-1990</td>\n",
       "      <td>319.0</td>\n",
       "      <td>1386.0</td>\n",
       "      <td>3311912</td>\n",
       "      <td>3</td>\n",
       "      <td>292.0</td>\n",
       "      <td>8355.0</td>\n",
       "      <td>...</td>\n",
       "      <td>8283.0</td>\n",
       "      <td>15.2</td>\n",
       "      <td>165.0</td>\n",
       "      <td>12</td>\n",
       "      <td>35.6900</td>\n",
       "      <td>0.527778</td>\n",
       "      <td>32.694019</td>\n",
       "      <td>45.886342</td>\n",
       "      <td>11.471586</td>\n",
       "      <td>0.616667</td>\n",
       "    </tr>\n",
       "    <tr>\n",
       "      <th>3</th>\n",
       "      <td>8379.0</td>\n",
       "      <td>25.84</td>\n",
       "      <td>225.0</td>\n",
       "      <td>04-09-1990</td>\n",
       "      <td>297.0</td>\n",
       "      <td>1365.0</td>\n",
       "      <td>3312012</td>\n",
       "      <td>3</td>\n",
       "      <td>324.0</td>\n",
       "      <td>8396.0</td>\n",
       "      <td>...</td>\n",
       "      <td>8358.0</td>\n",
       "      <td>7.6</td>\n",
       "      <td>192.0</td>\n",
       "      <td>12</td>\n",
       "      <td>0.0249</td>\n",
       "      <td>0.552632</td>\n",
       "      <td>11.731115</td>\n",
       "      <td>17.251639</td>\n",
       "      <td>3.450328</td>\n",
       "      <td>0.600000</td>\n",
       "    </tr>\n",
       "    <tr>\n",
       "      <th>4</th>\n",
       "      <td>8372.0</td>\n",
       "      <td>28.88</td>\n",
       "      <td>234.0</td>\n",
       "      <td>05-09-1990</td>\n",
       "      <td>207.0</td>\n",
       "      <td>1413.0</td>\n",
       "      <td>3312112</td>\n",
       "      <td>3</td>\n",
       "      <td>332.0</td>\n",
       "      <td>8393.0</td>\n",
       "      <td>...</td>\n",
       "      <td>8335.0</td>\n",
       "      <td>7.6</td>\n",
       "      <td>183.0</td>\n",
       "      <td>12</td>\n",
       "      <td>0.8300</td>\n",
       "      <td>0.637931</td>\n",
       "      <td>25.732268</td>\n",
       "      <td>40.629898</td>\n",
       "      <td>6.771650</td>\n",
       "      <td>0.560000</td>\n",
       "    </tr>\n",
       "  </tbody>\n",
       "</table>\n",
       "<p>5 rows × 23 columns</p>\n",
       "</div>"
      ],
      "text/plain": [
       "   Average_Atmospheric_Pressure  Average_Breeze_Speed  \\\n",
       "0                        8225.0                 37.24   \n",
       "1                        8232.0                 32.68   \n",
       "2                        8321.0                 43.32   \n",
       "3                        8379.0                 25.84   \n",
       "4                        8372.0                 28.88   \n",
       "\n",
       "   Average_Moisture_In_Park        Date  Direction_Of_Wind  Footfall       ID  \\\n",
       "0                     255.0  01-09-1990              194.0    1406.0  3311712   \n",
       "1                     252.0  02-09-1990              285.0    1409.0  3311812   \n",
       "2                     219.0  03-09-1990              319.0    1386.0  3311912   \n",
       "3                     225.0  04-09-1990              297.0    1365.0  3312012   \n",
       "4                     234.0  05-09-1990              207.0    1413.0  3312112   \n",
       "\n",
       "   Location_Type  Max_Ambient_Pollution  Max_Atmospheric_Pressure    ...     \\\n",
       "0              3                  304.0                    8259.0    ...      \n",
       "1              3                  332.0                    8280.0    ...      \n",
       "2              3                  292.0                    8355.0    ...      \n",
       "3              3                  324.0                    8396.0    ...      \n",
       "4              3                  332.0                    8393.0    ...      \n",
       "\n",
       "   Min_Atmospheric_Pressure  Min_Breeze_Speed  Min_Moisture_In_Park  Park_ID  \\\n",
       "0                    8211.0              15.2                 222.0       12   \n",
       "1                    8205.0               7.6                 204.0       12   \n",
       "2                    8283.0              15.2                 165.0       12   \n",
       "3                    8358.0               7.6                 192.0       12   \n",
       "4                    8335.0               7.6                 183.0       12   \n",
       "\n",
       "      Var1  pressure  Average_Wind_Speed  Max_Wind_Speed  Min_Wind_Speed  \\\n",
       "0  92.1300  0.291667           36.133813       58.993980       14.748495   \n",
       "1  14.1100  0.360000            8.458206       15.736198        1.967025   \n",
       "2  35.6900  0.527778           32.694019       45.886342       11.471586   \n",
       "3   0.0249  0.552632           11.731115       17.251639        3.450328   \n",
       "4   0.8300  0.637931           25.732268       40.629898        6.771650   \n",
       "\n",
       "       wind  \n",
       "0  0.483333  \n",
       "1  0.471429  \n",
       "2  0.616667  \n",
       "3  0.600000  \n",
       "4  0.560000  \n",
       "\n",
       "[5 rows x 23 columns]"
      ]
     },
     "execution_count": 22,
     "metadata": {},
     "output_type": "execute_result"
    }
   ],
   "source": [
    "data.head()"
   ]
  },
  {
   "cell_type": "code",
   "execution_count": 23,
   "metadata": {
    "collapsed": true
   },
   "outputs": [],
   "source": [
    "data['moisture'] = normalize_feature(data, 'Moisture_In_Park')"
   ]
  },
  {
   "cell_type": "code",
   "execution_count": 24,
   "metadata": {
    "collapsed": false
   },
   "outputs": [
    {
     "data": {
      "text/html": [
       "<div>\n",
       "<table border=\"1\" class=\"dataframe\">\n",
       "  <thead>\n",
       "    <tr style=\"text-align: right;\">\n",
       "      <th></th>\n",
       "      <th>Average_Atmospheric_Pressure</th>\n",
       "      <th>Average_Breeze_Speed</th>\n",
       "      <th>Average_Moisture_In_Park</th>\n",
       "      <th>Date</th>\n",
       "      <th>Direction_Of_Wind</th>\n",
       "      <th>Footfall</th>\n",
       "      <th>ID</th>\n",
       "      <th>Location_Type</th>\n",
       "      <th>Max_Ambient_Pollution</th>\n",
       "      <th>Max_Atmospheric_Pressure</th>\n",
       "      <th>...</th>\n",
       "      <th>Min_Breeze_Speed</th>\n",
       "      <th>Min_Moisture_In_Park</th>\n",
       "      <th>Park_ID</th>\n",
       "      <th>Var1</th>\n",
       "      <th>pressure</th>\n",
       "      <th>Average_Wind_Speed</th>\n",
       "      <th>Max_Wind_Speed</th>\n",
       "      <th>Min_Wind_Speed</th>\n",
       "      <th>wind</th>\n",
       "      <th>moisture</th>\n",
       "    </tr>\n",
       "  </thead>\n",
       "  <tbody>\n",
       "    <tr>\n",
       "      <th>0</th>\n",
       "      <td>8225.0</td>\n",
       "      <td>37.24</td>\n",
       "      <td>255.0</td>\n",
       "      <td>01-09-1990</td>\n",
       "      <td>194.0</td>\n",
       "      <td>1406.0</td>\n",
       "      <td>3311712</td>\n",
       "      <td>3</td>\n",
       "      <td>304.0</td>\n",
       "      <td>8259.0</td>\n",
       "      <td>...</td>\n",
       "      <td>15.2</td>\n",
       "      <td>222.0</td>\n",
       "      <td>12</td>\n",
       "      <td>92.1300</td>\n",
       "      <td>0.291667</td>\n",
       "      <td>36.133813</td>\n",
       "      <td>58.993980</td>\n",
       "      <td>14.748495</td>\n",
       "      <td>0.483333</td>\n",
       "      <td>0.500000</td>\n",
       "    </tr>\n",
       "    <tr>\n",
       "      <th>1</th>\n",
       "      <td>8232.0</td>\n",
       "      <td>32.68</td>\n",
       "      <td>252.0</td>\n",
       "      <td>02-09-1990</td>\n",
       "      <td>285.0</td>\n",
       "      <td>1409.0</td>\n",
       "      <td>3311812</td>\n",
       "      <td>3</td>\n",
       "      <td>332.0</td>\n",
       "      <td>8280.0</td>\n",
       "      <td>...</td>\n",
       "      <td>7.6</td>\n",
       "      <td>204.0</td>\n",
       "      <td>12</td>\n",
       "      <td>14.1100</td>\n",
       "      <td>0.360000</td>\n",
       "      <td>8.458206</td>\n",
       "      <td>15.736198</td>\n",
       "      <td>1.967025</td>\n",
       "      <td>0.471429</td>\n",
       "      <td>0.516129</td>\n",
       "    </tr>\n",
       "    <tr>\n",
       "      <th>2</th>\n",
       "      <td>8321.0</td>\n",
       "      <td>43.32</td>\n",
       "      <td>219.0</td>\n",
       "      <td>03-09-1990</td>\n",
       "      <td>319.0</td>\n",
       "      <td>1386.0</td>\n",
       "      <td>3311912</td>\n",
       "      <td>3</td>\n",
       "      <td>292.0</td>\n",
       "      <td>8355.0</td>\n",
       "      <td>...</td>\n",
       "      <td>15.2</td>\n",
       "      <td>165.0</td>\n",
       "      <td>12</td>\n",
       "      <td>35.6900</td>\n",
       "      <td>0.527778</td>\n",
       "      <td>32.694019</td>\n",
       "      <td>45.886342</td>\n",
       "      <td>11.471586</td>\n",
       "      <td>0.616667</td>\n",
       "      <td>0.473684</td>\n",
       "    </tr>\n",
       "    <tr>\n",
       "      <th>3</th>\n",
       "      <td>8379.0</td>\n",
       "      <td>25.84</td>\n",
       "      <td>225.0</td>\n",
       "      <td>04-09-1990</td>\n",
       "      <td>297.0</td>\n",
       "      <td>1365.0</td>\n",
       "      <td>3312012</td>\n",
       "      <td>3</td>\n",
       "      <td>324.0</td>\n",
       "      <td>8396.0</td>\n",
       "      <td>...</td>\n",
       "      <td>7.6</td>\n",
       "      <td>192.0</td>\n",
       "      <td>12</td>\n",
       "      <td>0.0249</td>\n",
       "      <td>0.552632</td>\n",
       "      <td>11.731115</td>\n",
       "      <td>17.251639</td>\n",
       "      <td>3.450328</td>\n",
       "      <td>0.600000</td>\n",
       "      <td>0.478261</td>\n",
       "    </tr>\n",
       "    <tr>\n",
       "      <th>4</th>\n",
       "      <td>8372.0</td>\n",
       "      <td>28.88</td>\n",
       "      <td>234.0</td>\n",
       "      <td>05-09-1990</td>\n",
       "      <td>207.0</td>\n",
       "      <td>1413.0</td>\n",
       "      <td>3312112</td>\n",
       "      <td>3</td>\n",
       "      <td>332.0</td>\n",
       "      <td>8393.0</td>\n",
       "      <td>...</td>\n",
       "      <td>7.6</td>\n",
       "      <td>183.0</td>\n",
       "      <td>12</td>\n",
       "      <td>0.8300</td>\n",
       "      <td>0.637931</td>\n",
       "      <td>25.732268</td>\n",
       "      <td>40.629898</td>\n",
       "      <td>6.771650</td>\n",
       "      <td>0.560000</td>\n",
       "      <td>0.566667</td>\n",
       "    </tr>\n",
       "  </tbody>\n",
       "</table>\n",
       "<p>5 rows × 24 columns</p>\n",
       "</div>"
      ],
      "text/plain": [
       "   Average_Atmospheric_Pressure  Average_Breeze_Speed  \\\n",
       "0                        8225.0                 37.24   \n",
       "1                        8232.0                 32.68   \n",
       "2                        8321.0                 43.32   \n",
       "3                        8379.0                 25.84   \n",
       "4                        8372.0                 28.88   \n",
       "\n",
       "   Average_Moisture_In_Park        Date  Direction_Of_Wind  Footfall       ID  \\\n",
       "0                     255.0  01-09-1990              194.0    1406.0  3311712   \n",
       "1                     252.0  02-09-1990              285.0    1409.0  3311812   \n",
       "2                     219.0  03-09-1990              319.0    1386.0  3311912   \n",
       "3                     225.0  04-09-1990              297.0    1365.0  3312012   \n",
       "4                     234.0  05-09-1990              207.0    1413.0  3312112   \n",
       "\n",
       "   Location_Type  Max_Ambient_Pollution  Max_Atmospheric_Pressure    ...     \\\n",
       "0              3                  304.0                    8259.0    ...      \n",
       "1              3                  332.0                    8280.0    ...      \n",
       "2              3                  292.0                    8355.0    ...      \n",
       "3              3                  324.0                    8396.0    ...      \n",
       "4              3                  332.0                    8393.0    ...      \n",
       "\n",
       "   Min_Breeze_Speed  Min_Moisture_In_Park  Park_ID     Var1  pressure  \\\n",
       "0              15.2                 222.0       12  92.1300  0.291667   \n",
       "1               7.6                 204.0       12  14.1100  0.360000   \n",
       "2              15.2                 165.0       12  35.6900  0.527778   \n",
       "3               7.6                 192.0       12   0.0249  0.552632   \n",
       "4               7.6                 183.0       12   0.8300  0.637931   \n",
       "\n",
       "   Average_Wind_Speed  Max_Wind_Speed  Min_Wind_Speed      wind  moisture  \n",
       "0           36.133813       58.993980       14.748495  0.483333  0.500000  \n",
       "1            8.458206       15.736198        1.967025  0.471429  0.516129  \n",
       "2           32.694019       45.886342       11.471586  0.616667  0.473684  \n",
       "3           11.731115       17.251639        3.450328  0.600000  0.478261  \n",
       "4           25.732268       40.629898        6.771650  0.560000  0.566667  \n",
       "\n",
       "[5 rows x 24 columns]"
      ]
     },
     "execution_count": 24,
     "metadata": {},
     "output_type": "execute_result"
    }
   ],
   "source": [
    "data.head()"
   ]
  },
  {
   "cell_type": "code",
   "execution_count": 25,
   "metadata": {
    "collapsed": false
   },
   "outputs": [],
   "source": [
    "data_locations = pd.get_dummies(data['Location_Type'], prefix='location_')\n",
    "\n",
    "data = pd.concat([data.drop(['Location_Type'], axis=1), data_locations], axis=1)"
   ]
  },
  {
   "cell_type": "code",
   "execution_count": 26,
   "metadata": {
    "collapsed": false
   },
   "outputs": [
    {
     "data": {
      "text/html": [
       "<div>\n",
       "<table border=\"1\" class=\"dataframe\">\n",
       "  <thead>\n",
       "    <tr style=\"text-align: right;\">\n",
       "      <th></th>\n",
       "      <th>Average_Atmospheric_Pressure</th>\n",
       "      <th>Average_Breeze_Speed</th>\n",
       "      <th>Average_Moisture_In_Park</th>\n",
       "      <th>Date</th>\n",
       "      <th>Direction_Of_Wind</th>\n",
       "      <th>Footfall</th>\n",
       "      <th>ID</th>\n",
       "      <th>Max_Ambient_Pollution</th>\n",
       "      <th>Max_Atmospheric_Pressure</th>\n",
       "      <th>Max_Breeze_Speed</th>\n",
       "      <th>...</th>\n",
       "      <th>pressure</th>\n",
       "      <th>Average_Wind_Speed</th>\n",
       "      <th>Max_Wind_Speed</th>\n",
       "      <th>Min_Wind_Speed</th>\n",
       "      <th>wind</th>\n",
       "      <th>moisture</th>\n",
       "      <th>location__1</th>\n",
       "      <th>location__2</th>\n",
       "      <th>location__3</th>\n",
       "      <th>location__4</th>\n",
       "    </tr>\n",
       "  </thead>\n",
       "  <tbody>\n",
       "    <tr>\n",
       "      <th>0</th>\n",
       "      <td>8225.0</td>\n",
       "      <td>37.24</td>\n",
       "      <td>255.0</td>\n",
       "      <td>01-09-1990</td>\n",
       "      <td>194.0</td>\n",
       "      <td>1406.0</td>\n",
       "      <td>3311712</td>\n",
       "      <td>304.0</td>\n",
       "      <td>8259.0</td>\n",
       "      <td>60.8</td>\n",
       "      <td>...</td>\n",
       "      <td>0.291667</td>\n",
       "      <td>36.133813</td>\n",
       "      <td>58.993980</td>\n",
       "      <td>14.748495</td>\n",
       "      <td>0.483333</td>\n",
       "      <td>0.500000</td>\n",
       "      <td>0.0</td>\n",
       "      <td>0.0</td>\n",
       "      <td>1.0</td>\n",
       "      <td>0.0</td>\n",
       "    </tr>\n",
       "    <tr>\n",
       "      <th>1</th>\n",
       "      <td>8232.0</td>\n",
       "      <td>32.68</td>\n",
       "      <td>252.0</td>\n",
       "      <td>02-09-1990</td>\n",
       "      <td>285.0</td>\n",
       "      <td>1409.0</td>\n",
       "      <td>3311812</td>\n",
       "      <td>332.0</td>\n",
       "      <td>8280.0</td>\n",
       "      <td>60.8</td>\n",
       "      <td>...</td>\n",
       "      <td>0.360000</td>\n",
       "      <td>8.458206</td>\n",
       "      <td>15.736198</td>\n",
       "      <td>1.967025</td>\n",
       "      <td>0.471429</td>\n",
       "      <td>0.516129</td>\n",
       "      <td>0.0</td>\n",
       "      <td>0.0</td>\n",
       "      <td>1.0</td>\n",
       "      <td>0.0</td>\n",
       "    </tr>\n",
       "    <tr>\n",
       "      <th>2</th>\n",
       "      <td>8321.0</td>\n",
       "      <td>43.32</td>\n",
       "      <td>219.0</td>\n",
       "      <td>03-09-1990</td>\n",
       "      <td>319.0</td>\n",
       "      <td>1386.0</td>\n",
       "      <td>3311912</td>\n",
       "      <td>292.0</td>\n",
       "      <td>8355.0</td>\n",
       "      <td>60.8</td>\n",
       "      <td>...</td>\n",
       "      <td>0.527778</td>\n",
       "      <td>32.694019</td>\n",
       "      <td>45.886342</td>\n",
       "      <td>11.471586</td>\n",
       "      <td>0.616667</td>\n",
       "      <td>0.473684</td>\n",
       "      <td>0.0</td>\n",
       "      <td>0.0</td>\n",
       "      <td>1.0</td>\n",
       "      <td>0.0</td>\n",
       "    </tr>\n",
       "    <tr>\n",
       "      <th>3</th>\n",
       "      <td>8379.0</td>\n",
       "      <td>25.84</td>\n",
       "      <td>225.0</td>\n",
       "      <td>04-09-1990</td>\n",
       "      <td>297.0</td>\n",
       "      <td>1365.0</td>\n",
       "      <td>3312012</td>\n",
       "      <td>324.0</td>\n",
       "      <td>8396.0</td>\n",
       "      <td>38.0</td>\n",
       "      <td>...</td>\n",
       "      <td>0.552632</td>\n",
       "      <td>11.731115</td>\n",
       "      <td>17.251639</td>\n",
       "      <td>3.450328</td>\n",
       "      <td>0.600000</td>\n",
       "      <td>0.478261</td>\n",
       "      <td>0.0</td>\n",
       "      <td>0.0</td>\n",
       "      <td>1.0</td>\n",
       "      <td>0.0</td>\n",
       "    </tr>\n",
       "    <tr>\n",
       "      <th>4</th>\n",
       "      <td>8372.0</td>\n",
       "      <td>28.88</td>\n",
       "      <td>234.0</td>\n",
       "      <td>05-09-1990</td>\n",
       "      <td>207.0</td>\n",
       "      <td>1413.0</td>\n",
       "      <td>3312112</td>\n",
       "      <td>332.0</td>\n",
       "      <td>8393.0</td>\n",
       "      <td>45.6</td>\n",
       "      <td>...</td>\n",
       "      <td>0.637931</td>\n",
       "      <td>25.732268</td>\n",
       "      <td>40.629898</td>\n",
       "      <td>6.771650</td>\n",
       "      <td>0.560000</td>\n",
       "      <td>0.566667</td>\n",
       "      <td>0.0</td>\n",
       "      <td>0.0</td>\n",
       "      <td>1.0</td>\n",
       "      <td>0.0</td>\n",
       "    </tr>\n",
       "  </tbody>\n",
       "</table>\n",
       "<p>5 rows × 27 columns</p>\n",
       "</div>"
      ],
      "text/plain": [
       "   Average_Atmospheric_Pressure  Average_Breeze_Speed  \\\n",
       "0                        8225.0                 37.24   \n",
       "1                        8232.0                 32.68   \n",
       "2                        8321.0                 43.32   \n",
       "3                        8379.0                 25.84   \n",
       "4                        8372.0                 28.88   \n",
       "\n",
       "   Average_Moisture_In_Park        Date  Direction_Of_Wind  Footfall       ID  \\\n",
       "0                     255.0  01-09-1990              194.0    1406.0  3311712   \n",
       "1                     252.0  02-09-1990              285.0    1409.0  3311812   \n",
       "2                     219.0  03-09-1990              319.0    1386.0  3311912   \n",
       "3                     225.0  04-09-1990              297.0    1365.0  3312012   \n",
       "4                     234.0  05-09-1990              207.0    1413.0  3312112   \n",
       "\n",
       "   Max_Ambient_Pollution  Max_Atmospheric_Pressure  Max_Breeze_Speed  \\\n",
       "0                  304.0                    8259.0              60.8   \n",
       "1                  332.0                    8280.0              60.8   \n",
       "2                  292.0                    8355.0              60.8   \n",
       "3                  324.0                    8396.0              38.0   \n",
       "4                  332.0                    8393.0              45.6   \n",
       "\n",
       "      ...       pressure  Average_Wind_Speed  Max_Wind_Speed  Min_Wind_Speed  \\\n",
       "0     ...       0.291667           36.133813       58.993980       14.748495   \n",
       "1     ...       0.360000            8.458206       15.736198        1.967025   \n",
       "2     ...       0.527778           32.694019       45.886342       11.471586   \n",
       "3     ...       0.552632           11.731115       17.251639        3.450328   \n",
       "4     ...       0.637931           25.732268       40.629898        6.771650   \n",
       "\n",
       "       wind  moisture  location__1  location__2  location__3  location__4  \n",
       "0  0.483333  0.500000          0.0          0.0          1.0          0.0  \n",
       "1  0.471429  0.516129          0.0          0.0          1.0          0.0  \n",
       "2  0.616667  0.473684          0.0          0.0          1.0          0.0  \n",
       "3  0.600000  0.478261          0.0          0.0          1.0          0.0  \n",
       "4  0.560000  0.566667          0.0          0.0          1.0          0.0  \n",
       "\n",
       "[5 rows x 27 columns]"
      ]
     },
     "execution_count": 26,
     "metadata": {},
     "output_type": "execute_result"
    }
   ],
   "source": [
    "data.head()"
   ]
  },
  {
   "cell_type": "code",
   "execution_count": 27,
   "metadata": {
    "collapsed": true
   },
   "outputs": [],
   "source": [
    "data['pollution'] = (data['Max_Ambient_Pollution'] + data['Min_Ambient_Pollution'])/2"
   ]
  },
  {
   "cell_type": "code",
   "execution_count": 28,
   "metadata": {
    "collapsed": true
   },
   "outputs": [],
   "source": [
    "from sklearn import preprocessing\n",
    "\n",
    "min_max_scaler = preprocessing.MinMaxScaler()"
   ]
  },
  {
   "cell_type": "code",
   "execution_count": 29,
   "metadata": {
    "collapsed": true
   },
   "outputs": [],
   "source": [
    "def min_max_scaling(data, feature):\n",
    "    feat = data[data[feature].notnull()][feature].values\n",
    "    feat_scaled = min_max_scaler.fit_transform(feat.reshape(-1,1))\n",
    "    return pd.DataFrame(feat_scaled)"
   ]
  },
  {
   "cell_type": "code",
   "execution_count": 30,
   "metadata": {
    "collapsed": false
   },
   "outputs": [],
   "source": [
    "data['pollution'] = min_max_scaling(data, 'pollution')"
   ]
  },
  {
   "cell_type": "code",
   "execution_count": 31,
   "metadata": {
    "collapsed": false
   },
   "outputs": [
    {
     "data": {
      "text/html": [
       "<div>\n",
       "<table border=\"1\" class=\"dataframe\">\n",
       "  <thead>\n",
       "    <tr style=\"text-align: right;\">\n",
       "      <th></th>\n",
       "      <th>Average_Atmospheric_Pressure</th>\n",
       "      <th>Average_Breeze_Speed</th>\n",
       "      <th>Average_Moisture_In_Park</th>\n",
       "      <th>Date</th>\n",
       "      <th>Direction_Of_Wind</th>\n",
       "      <th>Footfall</th>\n",
       "      <th>ID</th>\n",
       "      <th>Max_Ambient_Pollution</th>\n",
       "      <th>Max_Atmospheric_Pressure</th>\n",
       "      <th>Max_Breeze_Speed</th>\n",
       "      <th>...</th>\n",
       "      <th>Average_Wind_Speed</th>\n",
       "      <th>Max_Wind_Speed</th>\n",
       "      <th>Min_Wind_Speed</th>\n",
       "      <th>wind</th>\n",
       "      <th>moisture</th>\n",
       "      <th>location__1</th>\n",
       "      <th>location__2</th>\n",
       "      <th>location__3</th>\n",
       "      <th>location__4</th>\n",
       "      <th>pollution</th>\n",
       "    </tr>\n",
       "  </thead>\n",
       "  <tbody>\n",
       "    <tr>\n",
       "      <th>0</th>\n",
       "      <td>8225.0</td>\n",
       "      <td>37.24</td>\n",
       "      <td>255.0</td>\n",
       "      <td>01-09-1990</td>\n",
       "      <td>194.0</td>\n",
       "      <td>1406.0</td>\n",
       "      <td>3311712</td>\n",
       "      <td>304.0</td>\n",
       "      <td>8259.0</td>\n",
       "      <td>60.8</td>\n",
       "      <td>...</td>\n",
       "      <td>36.133813</td>\n",
       "      <td>58.993980</td>\n",
       "      <td>14.748495</td>\n",
       "      <td>0.483333</td>\n",
       "      <td>0.500000</td>\n",
       "      <td>0.0</td>\n",
       "      <td>0.0</td>\n",
       "      <td>1.0</td>\n",
       "      <td>0.0</td>\n",
       "      <td>0.554913</td>\n",
       "    </tr>\n",
       "    <tr>\n",
       "      <th>1</th>\n",
       "      <td>8232.0</td>\n",
       "      <td>32.68</td>\n",
       "      <td>252.0</td>\n",
       "      <td>02-09-1990</td>\n",
       "      <td>285.0</td>\n",
       "      <td>1409.0</td>\n",
       "      <td>3311812</td>\n",
       "      <td>332.0</td>\n",
       "      <td>8280.0</td>\n",
       "      <td>60.8</td>\n",
       "      <td>...</td>\n",
       "      <td>8.458206</td>\n",
       "      <td>15.736198</td>\n",
       "      <td>1.967025</td>\n",
       "      <td>0.471429</td>\n",
       "      <td>0.516129</td>\n",
       "      <td>0.0</td>\n",
       "      <td>0.0</td>\n",
       "      <td>1.0</td>\n",
       "      <td>0.0</td>\n",
       "      <td>0.710983</td>\n",
       "    </tr>\n",
       "    <tr>\n",
       "      <th>2</th>\n",
       "      <td>8321.0</td>\n",
       "      <td>43.32</td>\n",
       "      <td>219.0</td>\n",
       "      <td>03-09-1990</td>\n",
       "      <td>319.0</td>\n",
       "      <td>1386.0</td>\n",
       "      <td>3311912</td>\n",
       "      <td>292.0</td>\n",
       "      <td>8355.0</td>\n",
       "      <td>60.8</td>\n",
       "      <td>...</td>\n",
       "      <td>32.694019</td>\n",
       "      <td>45.886342</td>\n",
       "      <td>11.471586</td>\n",
       "      <td>0.616667</td>\n",
       "      <td>0.473684</td>\n",
       "      <td>0.0</td>\n",
       "      <td>0.0</td>\n",
       "      <td>1.0</td>\n",
       "      <td>0.0</td>\n",
       "      <td>0.745665</td>\n",
       "    </tr>\n",
       "    <tr>\n",
       "      <th>3</th>\n",
       "      <td>8379.0</td>\n",
       "      <td>25.84</td>\n",
       "      <td>225.0</td>\n",
       "      <td>04-09-1990</td>\n",
       "      <td>297.0</td>\n",
       "      <td>1365.0</td>\n",
       "      <td>3312012</td>\n",
       "      <td>324.0</td>\n",
       "      <td>8396.0</td>\n",
       "      <td>38.0</td>\n",
       "      <td>...</td>\n",
       "      <td>11.731115</td>\n",
       "      <td>17.251639</td>\n",
       "      <td>3.450328</td>\n",
       "      <td>0.600000</td>\n",
       "      <td>0.478261</td>\n",
       "      <td>0.0</td>\n",
       "      <td>0.0</td>\n",
       "      <td>1.0</td>\n",
       "      <td>0.0</td>\n",
       "      <td>0.843931</td>\n",
       "    </tr>\n",
       "    <tr>\n",
       "      <th>4</th>\n",
       "      <td>8372.0</td>\n",
       "      <td>28.88</td>\n",
       "      <td>234.0</td>\n",
       "      <td>05-09-1990</td>\n",
       "      <td>207.0</td>\n",
       "      <td>1413.0</td>\n",
       "      <td>3312112</td>\n",
       "      <td>332.0</td>\n",
       "      <td>8393.0</td>\n",
       "      <td>45.6</td>\n",
       "      <td>...</td>\n",
       "      <td>25.732268</td>\n",
       "      <td>40.629898</td>\n",
       "      <td>6.771650</td>\n",
       "      <td>0.560000</td>\n",
       "      <td>0.566667</td>\n",
       "      <td>0.0</td>\n",
       "      <td>0.0</td>\n",
       "      <td>1.0</td>\n",
       "      <td>0.0</td>\n",
       "      <td>0.803468</td>\n",
       "    </tr>\n",
       "  </tbody>\n",
       "</table>\n",
       "<p>5 rows × 28 columns</p>\n",
       "</div>"
      ],
      "text/plain": [
       "   Average_Atmospheric_Pressure  Average_Breeze_Speed  \\\n",
       "0                        8225.0                 37.24   \n",
       "1                        8232.0                 32.68   \n",
       "2                        8321.0                 43.32   \n",
       "3                        8379.0                 25.84   \n",
       "4                        8372.0                 28.88   \n",
       "\n",
       "   Average_Moisture_In_Park        Date  Direction_Of_Wind  Footfall       ID  \\\n",
       "0                     255.0  01-09-1990              194.0    1406.0  3311712   \n",
       "1                     252.0  02-09-1990              285.0    1409.0  3311812   \n",
       "2                     219.0  03-09-1990              319.0    1386.0  3311912   \n",
       "3                     225.0  04-09-1990              297.0    1365.0  3312012   \n",
       "4                     234.0  05-09-1990              207.0    1413.0  3312112   \n",
       "\n",
       "   Max_Ambient_Pollution  Max_Atmospheric_Pressure  Max_Breeze_Speed  \\\n",
       "0                  304.0                    8259.0              60.8   \n",
       "1                  332.0                    8280.0              60.8   \n",
       "2                  292.0                    8355.0              60.8   \n",
       "3                  324.0                    8396.0              38.0   \n",
       "4                  332.0                    8393.0              45.6   \n",
       "\n",
       "     ...      Average_Wind_Speed  Max_Wind_Speed  Min_Wind_Speed      wind  \\\n",
       "0    ...               36.133813       58.993980       14.748495  0.483333   \n",
       "1    ...                8.458206       15.736198        1.967025  0.471429   \n",
       "2    ...               32.694019       45.886342       11.471586  0.616667   \n",
       "3    ...               11.731115       17.251639        3.450328  0.600000   \n",
       "4    ...               25.732268       40.629898        6.771650  0.560000   \n",
       "\n",
       "   moisture  location__1  location__2  location__3  location__4  pollution  \n",
       "0  0.500000          0.0          0.0          1.0          0.0   0.554913  \n",
       "1  0.516129          0.0          0.0          1.0          0.0   0.710983  \n",
       "2  0.473684          0.0          0.0          1.0          0.0   0.745665  \n",
       "3  0.478261          0.0          0.0          1.0          0.0   0.843931  \n",
       "4  0.566667          0.0          0.0          1.0          0.0   0.803468  \n",
       "\n",
       "[5 rows x 28 columns]"
      ]
     },
     "execution_count": 31,
     "metadata": {},
     "output_type": "execute_result"
    }
   ],
   "source": [
    "data.head()"
   ]
  },
  {
   "cell_type": "code",
   "execution_count": 32,
   "metadata": {
    "collapsed": false
   },
   "outputs": [
    {
     "data": {
      "text/plain": [
       "count    142757.000000\n",
       "mean         18.680243\n",
       "std          37.983644\n",
       "min           0.000000\n",
       "25%           0.000000\n",
       "50%           0.830000\n",
       "75%          21.580000\n",
       "max        1181.090000\n",
       "Name: Var1, dtype: float64"
      ]
     },
     "execution_count": 32,
     "metadata": {},
     "output_type": "execute_result"
    }
   ],
   "source": [
    "data[data['Var1'].notnull()]['Var1'].describe()"
   ]
  },
  {
   "cell_type": "code",
   "execution_count": 33,
   "metadata": {
    "collapsed": false
   },
   "outputs": [],
   "source": [
    "data['Var1'] = min_max_scaling(data, 'Var1')"
   ]
  },
  {
   "cell_type": "code",
   "execution_count": 34,
   "metadata": {
    "collapsed": false
   },
   "outputs": [
    {
     "data": {
      "text/html": [
       "<div>\n",
       "<table border=\"1\" class=\"dataframe\">\n",
       "  <thead>\n",
       "    <tr style=\"text-align: right;\">\n",
       "      <th></th>\n",
       "      <th>Average_Atmospheric_Pressure</th>\n",
       "      <th>Average_Breeze_Speed</th>\n",
       "      <th>Average_Moisture_In_Park</th>\n",
       "      <th>Date</th>\n",
       "      <th>Direction_Of_Wind</th>\n",
       "      <th>Footfall</th>\n",
       "      <th>ID</th>\n",
       "      <th>Max_Ambient_Pollution</th>\n",
       "      <th>Max_Atmospheric_Pressure</th>\n",
       "      <th>Max_Breeze_Speed</th>\n",
       "      <th>...</th>\n",
       "      <th>Average_Wind_Speed</th>\n",
       "      <th>Max_Wind_Speed</th>\n",
       "      <th>Min_Wind_Speed</th>\n",
       "      <th>wind</th>\n",
       "      <th>moisture</th>\n",
       "      <th>location__1</th>\n",
       "      <th>location__2</th>\n",
       "      <th>location__3</th>\n",
       "      <th>location__4</th>\n",
       "      <th>pollution</th>\n",
       "    </tr>\n",
       "  </thead>\n",
       "  <tbody>\n",
       "    <tr>\n",
       "      <th>0</th>\n",
       "      <td>8225.0</td>\n",
       "      <td>37.24</td>\n",
       "      <td>255.0</td>\n",
       "      <td>01-09-1990</td>\n",
       "      <td>194.0</td>\n",
       "      <td>1406.0</td>\n",
       "      <td>3311712</td>\n",
       "      <td>304.0</td>\n",
       "      <td>8259.0</td>\n",
       "      <td>60.8</td>\n",
       "      <td>...</td>\n",
       "      <td>36.133813</td>\n",
       "      <td>58.993980</td>\n",
       "      <td>14.748495</td>\n",
       "      <td>0.483333</td>\n",
       "      <td>0.500000</td>\n",
       "      <td>0.0</td>\n",
       "      <td>0.0</td>\n",
       "      <td>1.0</td>\n",
       "      <td>0.0</td>\n",
       "      <td>0.554913</td>\n",
       "    </tr>\n",
       "    <tr>\n",
       "      <th>1</th>\n",
       "      <td>8232.0</td>\n",
       "      <td>32.68</td>\n",
       "      <td>252.0</td>\n",
       "      <td>02-09-1990</td>\n",
       "      <td>285.0</td>\n",
       "      <td>1409.0</td>\n",
       "      <td>3311812</td>\n",
       "      <td>332.0</td>\n",
       "      <td>8280.0</td>\n",
       "      <td>60.8</td>\n",
       "      <td>...</td>\n",
       "      <td>8.458206</td>\n",
       "      <td>15.736198</td>\n",
       "      <td>1.967025</td>\n",
       "      <td>0.471429</td>\n",
       "      <td>0.516129</td>\n",
       "      <td>0.0</td>\n",
       "      <td>0.0</td>\n",
       "      <td>1.0</td>\n",
       "      <td>0.0</td>\n",
       "      <td>0.710983</td>\n",
       "    </tr>\n",
       "    <tr>\n",
       "      <th>2</th>\n",
       "      <td>8321.0</td>\n",
       "      <td>43.32</td>\n",
       "      <td>219.0</td>\n",
       "      <td>03-09-1990</td>\n",
       "      <td>319.0</td>\n",
       "      <td>1386.0</td>\n",
       "      <td>3311912</td>\n",
       "      <td>292.0</td>\n",
       "      <td>8355.0</td>\n",
       "      <td>60.8</td>\n",
       "      <td>...</td>\n",
       "      <td>32.694019</td>\n",
       "      <td>45.886342</td>\n",
       "      <td>11.471586</td>\n",
       "      <td>0.616667</td>\n",
       "      <td>0.473684</td>\n",
       "      <td>0.0</td>\n",
       "      <td>0.0</td>\n",
       "      <td>1.0</td>\n",
       "      <td>0.0</td>\n",
       "      <td>0.745665</td>\n",
       "    </tr>\n",
       "    <tr>\n",
       "      <th>3</th>\n",
       "      <td>8379.0</td>\n",
       "      <td>25.84</td>\n",
       "      <td>225.0</td>\n",
       "      <td>04-09-1990</td>\n",
       "      <td>297.0</td>\n",
       "      <td>1365.0</td>\n",
       "      <td>3312012</td>\n",
       "      <td>324.0</td>\n",
       "      <td>8396.0</td>\n",
       "      <td>38.0</td>\n",
       "      <td>...</td>\n",
       "      <td>11.731115</td>\n",
       "      <td>17.251639</td>\n",
       "      <td>3.450328</td>\n",
       "      <td>0.600000</td>\n",
       "      <td>0.478261</td>\n",
       "      <td>0.0</td>\n",
       "      <td>0.0</td>\n",
       "      <td>1.0</td>\n",
       "      <td>0.0</td>\n",
       "      <td>0.843931</td>\n",
       "    </tr>\n",
       "    <tr>\n",
       "      <th>4</th>\n",
       "      <td>8372.0</td>\n",
       "      <td>28.88</td>\n",
       "      <td>234.0</td>\n",
       "      <td>05-09-1990</td>\n",
       "      <td>207.0</td>\n",
       "      <td>1413.0</td>\n",
       "      <td>3312112</td>\n",
       "      <td>332.0</td>\n",
       "      <td>8393.0</td>\n",
       "      <td>45.6</td>\n",
       "      <td>...</td>\n",
       "      <td>25.732268</td>\n",
       "      <td>40.629898</td>\n",
       "      <td>6.771650</td>\n",
       "      <td>0.560000</td>\n",
       "      <td>0.566667</td>\n",
       "      <td>0.0</td>\n",
       "      <td>0.0</td>\n",
       "      <td>1.0</td>\n",
       "      <td>0.0</td>\n",
       "      <td>0.803468</td>\n",
       "    </tr>\n",
       "  </tbody>\n",
       "</table>\n",
       "<p>5 rows × 28 columns</p>\n",
       "</div>"
      ],
      "text/plain": [
       "   Average_Atmospheric_Pressure  Average_Breeze_Speed  \\\n",
       "0                        8225.0                 37.24   \n",
       "1                        8232.0                 32.68   \n",
       "2                        8321.0                 43.32   \n",
       "3                        8379.0                 25.84   \n",
       "4                        8372.0                 28.88   \n",
       "\n",
       "   Average_Moisture_In_Park        Date  Direction_Of_Wind  Footfall       ID  \\\n",
       "0                     255.0  01-09-1990              194.0    1406.0  3311712   \n",
       "1                     252.0  02-09-1990              285.0    1409.0  3311812   \n",
       "2                     219.0  03-09-1990              319.0    1386.0  3311912   \n",
       "3                     225.0  04-09-1990              297.0    1365.0  3312012   \n",
       "4                     234.0  05-09-1990              207.0    1413.0  3312112   \n",
       "\n",
       "   Max_Ambient_Pollution  Max_Atmospheric_Pressure  Max_Breeze_Speed  \\\n",
       "0                  304.0                    8259.0              60.8   \n",
       "1                  332.0                    8280.0              60.8   \n",
       "2                  292.0                    8355.0              60.8   \n",
       "3                  324.0                    8396.0              38.0   \n",
       "4                  332.0                    8393.0              45.6   \n",
       "\n",
       "     ...      Average_Wind_Speed  Max_Wind_Speed  Min_Wind_Speed      wind  \\\n",
       "0    ...               36.133813       58.993980       14.748495  0.483333   \n",
       "1    ...                8.458206       15.736198        1.967025  0.471429   \n",
       "2    ...               32.694019       45.886342       11.471586  0.616667   \n",
       "3    ...               11.731115       17.251639        3.450328  0.600000   \n",
       "4    ...               25.732268       40.629898        6.771650  0.560000   \n",
       "\n",
       "   moisture  location__1  location__2  location__3  location__4  pollution  \n",
       "0  0.500000          0.0          0.0          1.0          0.0   0.554913  \n",
       "1  0.516129          0.0          0.0          1.0          0.0   0.710983  \n",
       "2  0.473684          0.0          0.0          1.0          0.0   0.745665  \n",
       "3  0.478261          0.0          0.0          1.0          0.0   0.843931  \n",
       "4  0.566667          0.0          0.0          1.0          0.0   0.803468  \n",
       "\n",
       "[5 rows x 28 columns]"
      ]
     },
     "execution_count": 34,
     "metadata": {},
     "output_type": "execute_result"
    }
   ],
   "source": [
    "data.head()"
   ]
  },
  {
   "cell_type": "code",
   "execution_count": 35,
   "metadata": {
    "collapsed": false
   },
   "outputs": [
    {
     "data": {
      "text/plain": [
       "count    142757.000000\n",
       "mean          0.015816\n",
       "std           0.032160\n",
       "min           0.000000\n",
       "25%           0.000000\n",
       "50%           0.000703\n",
       "75%           0.018271\n",
       "max           1.000000\n",
       "Name: Var1, dtype: float64"
      ]
     },
     "execution_count": 35,
     "metadata": {},
     "output_type": "execute_result"
    }
   ],
   "source": [
    "data[data['Var1'].notnull()]['Var1'].describe()"
   ]
  },
  {
   "cell_type": "code",
   "execution_count": 36,
   "metadata": {
    "collapsed": false,
    "scrolled": true
   },
   "outputs": [
    {
     "data": {
      "text/plain": [
       "39    5600\n",
       "26    5600\n",
       "13    5600\n",
       "14    5600\n",
       "15    5600\n",
       "16    5600\n",
       "18    5600\n",
       "20    5600\n",
       "21    5600\n",
       "22    5600\n",
       "23    5600\n",
       "24    5600\n",
       "38    5600\n",
       "25    5600\n",
       "27    5600\n",
       "28    5600\n",
       "29    5600\n",
       "30    5600\n",
       "31    5600\n",
       "32    5600\n",
       "33    5600\n",
       "34    5600\n",
       "35    5600\n",
       "36    5600\n",
       "37    5600\n",
       "12    5600\n",
       "17    5358\n",
       "19    3001\n",
       "Name: Park_ID, dtype: int64"
      ]
     },
     "execution_count": 36,
     "metadata": {},
     "output_type": "execute_result"
    }
   ],
   "source": [
    "data['Park_ID'].value_counts()"
   ]
  },
  {
   "cell_type": "code",
   "execution_count": 37,
   "metadata": {
    "collapsed": true
   },
   "outputs": [],
   "source": [
    "def extract_day(t):\n",
    "    t = pd.to_datetime(t, format='%d-%m-%Y')\n",
    "    return t.weekday()"
   ]
  },
  {
   "cell_type": "code",
   "execution_count": 38,
   "metadata": {
    "collapsed": false
   },
   "outputs": [],
   "source": [
    "data['day'] = data['Date'].apply(extract_day)"
   ]
  },
  {
   "cell_type": "code",
   "execution_count": 39,
   "metadata": {
    "collapsed": false
   },
   "outputs": [
    {
     "data": {
      "text/html": [
       "<div>\n",
       "<table border=\"1\" class=\"dataframe\">\n",
       "  <thead>\n",
       "    <tr style=\"text-align: right;\">\n",
       "      <th></th>\n",
       "      <th>Average_Atmospheric_Pressure</th>\n",
       "      <th>Average_Breeze_Speed</th>\n",
       "      <th>Average_Moisture_In_Park</th>\n",
       "      <th>Date</th>\n",
       "      <th>Direction_Of_Wind</th>\n",
       "      <th>Footfall</th>\n",
       "      <th>ID</th>\n",
       "      <th>Max_Ambient_Pollution</th>\n",
       "      <th>Max_Atmospheric_Pressure</th>\n",
       "      <th>Max_Breeze_Speed</th>\n",
       "      <th>...</th>\n",
       "      <th>Max_Wind_Speed</th>\n",
       "      <th>Min_Wind_Speed</th>\n",
       "      <th>wind</th>\n",
       "      <th>moisture</th>\n",
       "      <th>location__1</th>\n",
       "      <th>location__2</th>\n",
       "      <th>location__3</th>\n",
       "      <th>location__4</th>\n",
       "      <th>pollution</th>\n",
       "      <th>day</th>\n",
       "    </tr>\n",
       "  </thead>\n",
       "  <tbody>\n",
       "    <tr>\n",
       "      <th>0</th>\n",
       "      <td>8225.0</td>\n",
       "      <td>37.24</td>\n",
       "      <td>255.0</td>\n",
       "      <td>01-09-1990</td>\n",
       "      <td>194.0</td>\n",
       "      <td>1406.0</td>\n",
       "      <td>3311712</td>\n",
       "      <td>304.0</td>\n",
       "      <td>8259.0</td>\n",
       "      <td>60.8</td>\n",
       "      <td>...</td>\n",
       "      <td>58.993980</td>\n",
       "      <td>14.748495</td>\n",
       "      <td>0.483333</td>\n",
       "      <td>0.500000</td>\n",
       "      <td>0.0</td>\n",
       "      <td>0.0</td>\n",
       "      <td>1.0</td>\n",
       "      <td>0.0</td>\n",
       "      <td>0.554913</td>\n",
       "      <td>5</td>\n",
       "    </tr>\n",
       "    <tr>\n",
       "      <th>1</th>\n",
       "      <td>8232.0</td>\n",
       "      <td>32.68</td>\n",
       "      <td>252.0</td>\n",
       "      <td>02-09-1990</td>\n",
       "      <td>285.0</td>\n",
       "      <td>1409.0</td>\n",
       "      <td>3311812</td>\n",
       "      <td>332.0</td>\n",
       "      <td>8280.0</td>\n",
       "      <td>60.8</td>\n",
       "      <td>...</td>\n",
       "      <td>15.736198</td>\n",
       "      <td>1.967025</td>\n",
       "      <td>0.471429</td>\n",
       "      <td>0.516129</td>\n",
       "      <td>0.0</td>\n",
       "      <td>0.0</td>\n",
       "      <td>1.0</td>\n",
       "      <td>0.0</td>\n",
       "      <td>0.710983</td>\n",
       "      <td>6</td>\n",
       "    </tr>\n",
       "    <tr>\n",
       "      <th>2</th>\n",
       "      <td>8321.0</td>\n",
       "      <td>43.32</td>\n",
       "      <td>219.0</td>\n",
       "      <td>03-09-1990</td>\n",
       "      <td>319.0</td>\n",
       "      <td>1386.0</td>\n",
       "      <td>3311912</td>\n",
       "      <td>292.0</td>\n",
       "      <td>8355.0</td>\n",
       "      <td>60.8</td>\n",
       "      <td>...</td>\n",
       "      <td>45.886342</td>\n",
       "      <td>11.471586</td>\n",
       "      <td>0.616667</td>\n",
       "      <td>0.473684</td>\n",
       "      <td>0.0</td>\n",
       "      <td>0.0</td>\n",
       "      <td>1.0</td>\n",
       "      <td>0.0</td>\n",
       "      <td>0.745665</td>\n",
       "      <td>0</td>\n",
       "    </tr>\n",
       "    <tr>\n",
       "      <th>3</th>\n",
       "      <td>8379.0</td>\n",
       "      <td>25.84</td>\n",
       "      <td>225.0</td>\n",
       "      <td>04-09-1990</td>\n",
       "      <td>297.0</td>\n",
       "      <td>1365.0</td>\n",
       "      <td>3312012</td>\n",
       "      <td>324.0</td>\n",
       "      <td>8396.0</td>\n",
       "      <td>38.0</td>\n",
       "      <td>...</td>\n",
       "      <td>17.251639</td>\n",
       "      <td>3.450328</td>\n",
       "      <td>0.600000</td>\n",
       "      <td>0.478261</td>\n",
       "      <td>0.0</td>\n",
       "      <td>0.0</td>\n",
       "      <td>1.0</td>\n",
       "      <td>0.0</td>\n",
       "      <td>0.843931</td>\n",
       "      <td>1</td>\n",
       "    </tr>\n",
       "    <tr>\n",
       "      <th>4</th>\n",
       "      <td>8372.0</td>\n",
       "      <td>28.88</td>\n",
       "      <td>234.0</td>\n",
       "      <td>05-09-1990</td>\n",
       "      <td>207.0</td>\n",
       "      <td>1413.0</td>\n",
       "      <td>3312112</td>\n",
       "      <td>332.0</td>\n",
       "      <td>8393.0</td>\n",
       "      <td>45.6</td>\n",
       "      <td>...</td>\n",
       "      <td>40.629898</td>\n",
       "      <td>6.771650</td>\n",
       "      <td>0.560000</td>\n",
       "      <td>0.566667</td>\n",
       "      <td>0.0</td>\n",
       "      <td>0.0</td>\n",
       "      <td>1.0</td>\n",
       "      <td>0.0</td>\n",
       "      <td>0.803468</td>\n",
       "      <td>2</td>\n",
       "    </tr>\n",
       "  </tbody>\n",
       "</table>\n",
       "<p>5 rows × 29 columns</p>\n",
       "</div>"
      ],
      "text/plain": [
       "   Average_Atmospheric_Pressure  Average_Breeze_Speed  \\\n",
       "0                        8225.0                 37.24   \n",
       "1                        8232.0                 32.68   \n",
       "2                        8321.0                 43.32   \n",
       "3                        8379.0                 25.84   \n",
       "4                        8372.0                 28.88   \n",
       "\n",
       "   Average_Moisture_In_Park        Date  Direction_Of_Wind  Footfall       ID  \\\n",
       "0                     255.0  01-09-1990              194.0    1406.0  3311712   \n",
       "1                     252.0  02-09-1990              285.0    1409.0  3311812   \n",
       "2                     219.0  03-09-1990              319.0    1386.0  3311912   \n",
       "3                     225.0  04-09-1990              297.0    1365.0  3312012   \n",
       "4                     234.0  05-09-1990              207.0    1413.0  3312112   \n",
       "\n",
       "   Max_Ambient_Pollution  Max_Atmospheric_Pressure  Max_Breeze_Speed ...   \\\n",
       "0                  304.0                    8259.0              60.8 ...    \n",
       "1                  332.0                    8280.0              60.8 ...    \n",
       "2                  292.0                    8355.0              60.8 ...    \n",
       "3                  324.0                    8396.0              38.0 ...    \n",
       "4                  332.0                    8393.0              45.6 ...    \n",
       "\n",
       "   Max_Wind_Speed  Min_Wind_Speed      wind  moisture  location__1  \\\n",
       "0       58.993980       14.748495  0.483333  0.500000          0.0   \n",
       "1       15.736198        1.967025  0.471429  0.516129          0.0   \n",
       "2       45.886342       11.471586  0.616667  0.473684          0.0   \n",
       "3       17.251639        3.450328  0.600000  0.478261          0.0   \n",
       "4       40.629898        6.771650  0.560000  0.566667          0.0   \n",
       "\n",
       "   location__2  location__3  location__4  pollution  day  \n",
       "0          0.0          1.0          0.0   0.554913    5  \n",
       "1          0.0          1.0          0.0   0.710983    6  \n",
       "2          0.0          1.0          0.0   0.745665    0  \n",
       "3          0.0          1.0          0.0   0.843931    1  \n",
       "4          0.0          1.0          0.0   0.803468    2  \n",
       "\n",
       "[5 rows x 29 columns]"
      ]
     },
     "execution_count": 39,
     "metadata": {},
     "output_type": "execute_result"
    }
   ],
   "source": [
    "data.head()"
   ]
  },
  {
   "cell_type": "code",
   "execution_count": 40,
   "metadata": {
    "collapsed": false
   },
   "outputs": [
    {
     "data": {
      "text/plain": [
       "<matplotlib.axes._subplots.AxesSubplot at 0x7fa242ed50d0>"
      ]
     },
     "execution_count": 40,
     "metadata": {},
     "output_type": "execute_result"
    },
    {
     "data": {
      "image/png": "[encoded data removed]",
      "text/plain": [
       "<matplotlib.figure.Figure at 0x7fa242f37c50>"
      ]
     },
     "metadata": {},
     "output_type": "display_data"
    }
   ],
   "source": [
    "sns.boxplot(y=data['Footfall'], x=data['day'])"
   ]
  },
  {
   "cell_type": "code",
   "execution_count": 41,
   "metadata": {
    "collapsed": true
   },
   "outputs": [],
   "source": [
    "def extract_year(t):\n",
    "    t = pd.to_datetime(t, format='%d-%m-%Y')\n",
    "    return t.year"
   ]
  },
  {
   "cell_type": "code",
   "execution_count": 42,
   "metadata": {
    "collapsed": true
   },
   "outputs": [],
   "source": [
    "data['year'] = data['Date'].apply(extract_year)"
   ]
  },
  {
   "cell_type": "code",
   "execution_count": 43,
   "metadata": {
    "collapsed": false
   },
   "outputs": [
    {
     "data": {
      "text/plain": [
       "<matplotlib.axes._subplots.AxesSubplot at 0x7fa24226d8d0>"
      ]
     },
     "execution_count": 43,
     "metadata": {},
     "output_type": "execute_result"
    },
    {
     "data": {
      "image/png": "[encoded data removed]",
      "text/plain": [
       "<matplotlib.figure.Figure at 0x7fa242ec9690>"
      ]
     },
     "metadata": {},
     "output_type": "display_data"
    }
   ],
   "source": [
    "sns.boxplot(y=data['Footfall'], x=data['year'])"
   ]
  },
  {
   "cell_type": "code",
   "execution_count": 44,
   "metadata": {
    "collapsed": true
   },
   "outputs": [],
   "source": [
    "def extract_month(t):\n",
    "    t = pd.to_datetime(t, format='%d-%m-%Y')\n",
    "    return t.month"
   ]
  },
  {
   "cell_type": "code",
   "execution_count": 45,
   "metadata": {
    "collapsed": true
   },
   "outputs": [],
   "source": [
    "data['month'] = data['Date'].apply(extract_month)"
   ]
  },
  {
   "cell_type": "code",
   "execution_count": 46,
   "metadata": {
    "collapsed": false
   },
   "outputs": [
    {
     "data": {
      "text/plain": [
       "<matplotlib.axes._subplots.AxesSubplot at 0x7fa24134d050>"
      ]
     },
     "execution_count": 46,
     "metadata": {},
     "output_type": "execute_result"
    },
    {
     "data": {
      "image/png": "[encoded data removed]",
      "text/plain": [
       "<matplotlib.figure.Figure at 0x7fa24371e8d0>"
      ]
     },
     "metadata": {},
     "output_type": "display_data"
    }
   ],
   "source": [
    "sns.boxplot(y=data['Footfall'], x=data['month'])"
   ]
  },
  {
   "cell_type": "code",
   "execution_count": 47,
   "metadata": {
    "collapsed": false
   },
   "outputs": [
    {
     "data": {
      "text/plain": [
       "10    13640\n",
       "12    13582\n",
       "9     13200\n",
       "11    13188\n",
       "8     12803\n",
       "7     12803\n",
       "5     12803\n",
       "3     12772\n",
       "1     12772\n",
       "6     12390\n",
       "4     12360\n",
       "2     11646\n",
       "Name: month, dtype: int64"
      ]
     },
     "execution_count": 47,
     "metadata": {},
     "output_type": "execute_result"
    }
   ],
   "source": [
    "data['month'].value_counts()"
   ]
  },
  {
   "cell_type": "code",
   "execution_count": 48,
   "metadata": {
    "collapsed": false,
    "scrolled": false
   },
   "outputs": [
    {
     "data": {
      "text/html": [
       "<div>\n",
       "<table border=\"1\" class=\"dataframe\">\n",
       "  <thead>\n",
       "    <tr style=\"text-align: right;\">\n",
       "      <th></th>\n",
       "      <th>month</th>\n",
       "      <th>Footfall</th>\n",
       "    </tr>\n",
       "  </thead>\n",
       "  <tbody>\n",
       "    <tr>\n",
       "      <th>0</th>\n",
       "      <td>1</td>\n",
       "      <td>679.244519</td>\n",
       "    </tr>\n",
       "    <tr>\n",
       "      <th>1</th>\n",
       "      <td>2</td>\n",
       "      <td>693.750816</td>\n",
       "    </tr>\n",
       "    <tr>\n",
       "      <th>2</th>\n",
       "      <td>3</td>\n",
       "      <td>758.162073</td>\n",
       "    </tr>\n",
       "    <tr>\n",
       "      <th>3</th>\n",
       "      <td>4</td>\n",
       "      <td>875.859547</td>\n",
       "    </tr>\n",
       "    <tr>\n",
       "      <th>4</th>\n",
       "      <td>5</td>\n",
       "      <td>970.200890</td>\n",
       "    </tr>\n",
       "    <tr>\n",
       "      <th>5</th>\n",
       "      <td>6</td>\n",
       "      <td>1057.151655</td>\n",
       "    </tr>\n",
       "    <tr>\n",
       "      <th>6</th>\n",
       "      <td>7</td>\n",
       "      <td>1112.074904</td>\n",
       "    </tr>\n",
       "    <tr>\n",
       "      <th>7</th>\n",
       "      <td>8</td>\n",
       "      <td>1100.313989</td>\n",
       "    </tr>\n",
       "    <tr>\n",
       "      <th>8</th>\n",
       "      <td>9</td>\n",
       "      <td>1044.737424</td>\n",
       "    </tr>\n",
       "    <tr>\n",
       "      <th>9</th>\n",
       "      <td>10</td>\n",
       "      <td>929.609238</td>\n",
       "    </tr>\n",
       "    <tr>\n",
       "      <th>10</th>\n",
       "      <td>11</td>\n",
       "      <td>818.626099</td>\n",
       "    </tr>\n",
       "    <tr>\n",
       "      <th>11</th>\n",
       "      <td>12</td>\n",
       "      <td>703.503092</td>\n",
       "    </tr>\n",
       "  </tbody>\n",
       "</table>\n",
       "</div>"
      ],
      "text/plain": [
       "    month     Footfall\n",
       "0       1   679.244519\n",
       "1       2   693.750816\n",
       "2       3   758.162073\n",
       "3       4   875.859547\n",
       "4       5   970.200890\n",
       "5       6  1057.151655\n",
       "6       7  1112.074904\n",
       "7       8  1100.313989\n",
       "8       9  1044.737424\n",
       "9      10   929.609238\n",
       "10     11   818.626099\n",
       "11     12   703.503092"
      ]
     },
     "execution_count": 48,
     "metadata": {},
     "output_type": "execute_result"
    }
   ],
   "source": [
    "footfall_per_month = data.groupby('month', as_index=False)['Footfall'].mean()\n",
    "footfall_per_month"
   ]
  },
  {
   "cell_type": "code",
   "execution_count": 49,
   "metadata": {
    "collapsed": false
   },
   "outputs": [
    {
     "data": {
      "text/plain": [
       "0        low\n",
       "1        low\n",
       "2        low\n",
       "3     medium\n",
       "4       high\n",
       "5       high\n",
       "6       high\n",
       "7       high\n",
       "8       high\n",
       "9     medium\n",
       "10       low\n",
       "11       low\n",
       "Name: Footfall, dtype: category\n",
       "Categories (3, object): [low < medium < high]"
      ]
     },
     "execution_count": 49,
     "metadata": {},
     "output_type": "execute_result"
    }
   ],
   "source": [
    "bins = np.linspace(footfall_per_month['Footfall'].min(), footfall_per_month['Footfall'].max(), 4)\n",
    "labels = ['low', 'medium', 'high']\n",
    "month_buckets, returned_bins = pd.cut(footfall_per_month['Footfall'], bins, labels=labels, right=True, include_lowest=True, retbins=True)\n",
    "\n",
    "month_buckets = Series(month_buckets)\n",
    "month_buckets"
   ]
  },
  {
   "cell_type": "code",
   "execution_count": 50,
   "metadata": {
    "collapsed": false
   },
   "outputs": [],
   "source": [
    "data['month_bucket'] = 'low'"
   ]
  },
  {
   "cell_type": "code",
   "execution_count": 51,
   "metadata": {
    "collapsed": false
   },
   "outputs": [],
   "source": [
    "data.loc[((data['month'] == 3) | (data['month'] == 9)), 'month_bucket'] = 'medium'\n",
    "data.loc[((data['month'] > 3) & (data['month'] < 9)), 'month_bucket'] = 'high'"
   ]
  },
  {
   "cell_type": "code",
   "execution_count": 52,
   "metadata": {
    "collapsed": false
   },
   "outputs": [
    {
     "data": {
      "text/plain": [
       "0         medium\n",
       "1         medium\n",
       "2         medium\n",
       "3         medium\n",
       "4         medium\n",
       "5         medium\n",
       "6         medium\n",
       "7         medium\n",
       "8         medium\n",
       "9         medium\n",
       "10        medium\n",
       "11        medium\n",
       "12        medium\n",
       "13        medium\n",
       "14        medium\n",
       "15        medium\n",
       "16        medium\n",
       "17        medium\n",
       "18        medium\n",
       "19        medium\n",
       "20        medium\n",
       "21        medium\n",
       "22        medium\n",
       "23        medium\n",
       "24        medium\n",
       "25        medium\n",
       "26        medium\n",
       "27        medium\n",
       "28        medium\n",
       "29        medium\n",
       "           ...  \n",
       "153929       low\n",
       "153930       low\n",
       "153931       low\n",
       "153932       low\n",
       "153933       low\n",
       "153934       low\n",
       "153935       low\n",
       "153936       low\n",
       "153937       low\n",
       "153938       low\n",
       "153939       low\n",
       "153940       low\n",
       "153941       low\n",
       "153942       low\n",
       "153943       low\n",
       "153944       low\n",
       "153945       low\n",
       "153946       low\n",
       "153947       low\n",
       "153948       low\n",
       "153949       low\n",
       "153950       low\n",
       "153951       low\n",
       "153952       low\n",
       "153953       low\n",
       "153954       low\n",
       "153955       low\n",
       "153956       low\n",
       "153957       low\n",
       "153958       low\n",
       "Name: month_bucket, dtype: object"
      ]
     },
     "execution_count": 52,
     "metadata": {},
     "output_type": "execute_result"
    }
   ],
   "source": [
    "data['month_bucket']"
   ]
  },
  {
   "cell_type": "code",
   "execution_count": 53,
   "metadata": {
    "collapsed": false
   },
   "outputs": [
    {
     "data": {
      "text/plain": [
       "False"
      ]
     },
     "execution_count": 53,
     "metadata": {},
     "output_type": "execute_result"
    }
   ],
   "source": [
    "data['month_bucket'].isnull().any()"
   ]
  },
  {
   "cell_type": "code",
   "execution_count": 54,
   "metadata": {
    "collapsed": false
   },
   "outputs": [
    {
     "data": {
      "text/html": [
       "<div>\n",
       "<table border=\"1\" class=\"dataframe\">\n",
       "  <thead>\n",
       "    <tr style=\"text-align: right;\">\n",
       "      <th></th>\n",
       "      <th>Average_Atmospheric_Pressure</th>\n",
       "      <th>Average_Breeze_Speed</th>\n",
       "      <th>Average_Moisture_In_Park</th>\n",
       "      <th>Date</th>\n",
       "      <th>Direction_Of_Wind</th>\n",
       "      <th>Footfall</th>\n",
       "      <th>ID</th>\n",
       "      <th>Max_Ambient_Pollution</th>\n",
       "      <th>Max_Atmospheric_Pressure</th>\n",
       "      <th>Max_Breeze_Speed</th>\n",
       "      <th>...</th>\n",
       "      <th>moisture</th>\n",
       "      <th>location__1</th>\n",
       "      <th>location__2</th>\n",
       "      <th>location__3</th>\n",
       "      <th>location__4</th>\n",
       "      <th>pollution</th>\n",
       "      <th>day</th>\n",
       "      <th>year</th>\n",
       "      <th>month</th>\n",
       "      <th>month_bucket</th>\n",
       "    </tr>\n",
       "  </thead>\n",
       "  <tbody>\n",
       "    <tr>\n",
       "      <th>0</th>\n",
       "      <td>8225.0</td>\n",
       "      <td>37.24</td>\n",
       "      <td>255.0</td>\n",
       "      <td>01-09-1990</td>\n",
       "      <td>194.0</td>\n",
       "      <td>1406.0</td>\n",
       "      <td>3311712</td>\n",
       "      <td>304.0</td>\n",
       "      <td>8259.0</td>\n",
       "      <td>60.8</td>\n",
       "      <td>...</td>\n",
       "      <td>0.500000</td>\n",
       "      <td>0.0</td>\n",
       "      <td>0.0</td>\n",
       "      <td>1.0</td>\n",
       "      <td>0.0</td>\n",
       "      <td>0.554913</td>\n",
       "      <td>5</td>\n",
       "      <td>1990</td>\n",
       "      <td>9</td>\n",
       "      <td>medium</td>\n",
       "    </tr>\n",
       "    <tr>\n",
       "      <th>1</th>\n",
       "      <td>8232.0</td>\n",
       "      <td>32.68</td>\n",
       "      <td>252.0</td>\n",
       "      <td>02-09-1990</td>\n",
       "      <td>285.0</td>\n",
       "      <td>1409.0</td>\n",
       "      <td>3311812</td>\n",
       "      <td>332.0</td>\n",
       "      <td>8280.0</td>\n",
       "      <td>60.8</td>\n",
       "      <td>...</td>\n",
       "      <td>0.516129</td>\n",
       "      <td>0.0</td>\n",
       "      <td>0.0</td>\n",
       "      <td>1.0</td>\n",
       "      <td>0.0</td>\n",
       "      <td>0.710983</td>\n",
       "      <td>6</td>\n",
       "      <td>1990</td>\n",
       "      <td>9</td>\n",
       "      <td>medium</td>\n",
       "    </tr>\n",
       "    <tr>\n",
       "      <th>2</th>\n",
       "      <td>8321.0</td>\n",
       "      <td>43.32</td>\n",
       "      <td>219.0</td>\n",
       "      <td>03-09-1990</td>\n",
       "      <td>319.0</td>\n",
       "      <td>1386.0</td>\n",
       "      <td>3311912</td>\n",
       "      <td>292.0</td>\n",
       "      <td>8355.0</td>\n",
       "      <td>60.8</td>\n",
       "      <td>...</td>\n",
       "      <td>0.473684</td>\n",
       "      <td>0.0</td>\n",
       "      <td>0.0</td>\n",
       "      <td>1.0</td>\n",
       "      <td>0.0</td>\n",
       "      <td>0.745665</td>\n",
       "      <td>0</td>\n",
       "      <td>1990</td>\n",
       "      <td>9</td>\n",
       "      <td>medium</td>\n",
       "    </tr>\n",
       "    <tr>\n",
       "      <th>3</th>\n",
       "      <td>8379.0</td>\n",
       "      <td>25.84</td>\n",
       "      <td>225.0</td>\n",
       "      <td>04-09-1990</td>\n",
       "      <td>297.0</td>\n",
       "      <td>1365.0</td>\n",
       "      <td>3312012</td>\n",
       "      <td>324.0</td>\n",
       "      <td>8396.0</td>\n",
       "      <td>38.0</td>\n",
       "      <td>...</td>\n",
       "      <td>0.478261</td>\n",
       "      <td>0.0</td>\n",
       "      <td>0.0</td>\n",
       "      <td>1.0</td>\n",
       "      <td>0.0</td>\n",
       "      <td>0.843931</td>\n",
       "      <td>1</td>\n",
       "      <td>1990</td>\n",
       "      <td>9</td>\n",
       "      <td>medium</td>\n",
       "    </tr>\n",
       "    <tr>\n",
       "      <th>4</th>\n",
       "      <td>8372.0</td>\n",
       "      <td>28.88</td>\n",
       "      <td>234.0</td>\n",
       "      <td>05-09-1990</td>\n",
       "      <td>207.0</td>\n",
       "      <td>1413.0</td>\n",
       "      <td>3312112</td>\n",
       "      <td>332.0</td>\n",
       "      <td>8393.0</td>\n",
       "      <td>45.6</td>\n",
       "      <td>...</td>\n",
       "      <td>0.566667</td>\n",
       "      <td>0.0</td>\n",
       "      <td>0.0</td>\n",
       "      <td>1.0</td>\n",
       "      <td>0.0</td>\n",
       "      <td>0.803468</td>\n",
       "      <td>2</td>\n",
       "      <td>1990</td>\n",
       "      <td>9</td>\n",
       "      <td>medium</td>\n",
       "    </tr>\n",
       "  </tbody>\n",
       "</table>\n",
       "<p>5 rows × 32 columns</p>\n",
       "</div>"
      ],
      "text/plain": [
       "   Average_Atmospheric_Pressure  Average_Breeze_Speed  \\\n",
       "0                        8225.0                 37.24   \n",
       "1                        8232.0                 32.68   \n",
       "2                        8321.0                 43.32   \n",
       "3                        8379.0                 25.84   \n",
       "4                        8372.0                 28.88   \n",
       "\n",
       "   Average_Moisture_In_Park        Date  Direction_Of_Wind  Footfall       ID  \\\n",
       "0                     255.0  01-09-1990              194.0    1406.0  3311712   \n",
       "1                     252.0  02-09-1990              285.0    1409.0  3311812   \n",
       "2                     219.0  03-09-1990              319.0    1386.0  3311912   \n",
       "3                     225.0  04-09-1990              297.0    1365.0  3312012   \n",
       "4                     234.0  05-09-1990              207.0    1413.0  3312112   \n",
       "\n",
       "   Max_Ambient_Pollution  Max_Atmospheric_Pressure  Max_Breeze_Speed  \\\n",
       "0                  304.0                    8259.0              60.8   \n",
       "1                  332.0                    8280.0              60.8   \n",
       "2                  292.0                    8355.0              60.8   \n",
       "3                  324.0                    8396.0              38.0   \n",
       "4                  332.0                    8393.0              45.6   \n",
       "\n",
       "       ...       moisture  location__1  location__2  location__3  location__4  \\\n",
       "0      ...       0.500000          0.0          0.0          1.0          0.0   \n",
       "1      ...       0.516129          0.0          0.0          1.0          0.0   \n",
       "2      ...       0.473684          0.0          0.0          1.0          0.0   \n",
       "3      ...       0.478261          0.0          0.0          1.0          0.0   \n",
       "4      ...       0.566667          0.0          0.0          1.0          0.0   \n",
       "\n",
       "   pollution  day  year  month  month_bucket  \n",
       "0   0.554913    5  1990      9        medium  \n",
       "1   0.710983    6  1990      9        medium  \n",
       "2   0.745665    0  1990      9        medium  \n",
       "3   0.843931    1  1990      9        medium  \n",
       "4   0.803468    2  1990      9        medium  \n",
       "\n",
       "[5 rows x 32 columns]"
      ]
     },
     "execution_count": 54,
     "metadata": {},
     "output_type": "execute_result"
    }
   ],
   "source": [
    "data.head()"
   ]
  },
  {
   "cell_type": "code",
   "execution_count": 55,
   "metadata": {
    "collapsed": false
   },
   "outputs": [],
   "source": [
    "month_bucket_dummies = pd.get_dummies(data['month_bucket'], prefix='month_bucket')\n",
    "data = pd.concat([data.drop(['month_bucket'], axis=1), month_bucket_dummies], axis=1)"
   ]
  },
  {
   "cell_type": "code",
   "execution_count": 56,
   "metadata": {
    "collapsed": false
   },
   "outputs": [
    {
     "data": {
      "text/html": [
       "<div>\n",
       "<table border=\"1\" class=\"dataframe\">\n",
       "  <thead>\n",
       "    <tr style=\"text-align: right;\">\n",
       "      <th></th>\n",
       "      <th>Average_Atmospheric_Pressure</th>\n",
       "      <th>Average_Breeze_Speed</th>\n",
       "      <th>Average_Moisture_In_Park</th>\n",
       "      <th>Date</th>\n",
       "      <th>Direction_Of_Wind</th>\n",
       "      <th>Footfall</th>\n",
       "      <th>ID</th>\n",
       "      <th>Max_Ambient_Pollution</th>\n",
       "      <th>Max_Atmospheric_Pressure</th>\n",
       "      <th>Max_Breeze_Speed</th>\n",
       "      <th>...</th>\n",
       "      <th>location__2</th>\n",
       "      <th>location__3</th>\n",
       "      <th>location__4</th>\n",
       "      <th>pollution</th>\n",
       "      <th>day</th>\n",
       "      <th>year</th>\n",
       "      <th>month</th>\n",
       "      <th>month_bucket_high</th>\n",
       "      <th>month_bucket_low</th>\n",
       "      <th>month_bucket_medium</th>\n",
       "    </tr>\n",
       "  </thead>\n",
       "  <tbody>\n",
       "    <tr>\n",
       "      <th>0</th>\n",
       "      <td>8225.0</td>\n",
       "      <td>37.24</td>\n",
       "      <td>255.0</td>\n",
       "      <td>01-09-1990</td>\n",
       "      <td>194.0</td>\n",
       "      <td>1406.0</td>\n",
       "      <td>3311712</td>\n",
       "      <td>304.0</td>\n",
       "      <td>8259.0</td>\n",
       "      <td>60.8</td>\n",
       "      <td>...</td>\n",
       "      <td>0.0</td>\n",
       "      <td>1.0</td>\n",
       "      <td>0.0</td>\n",
       "      <td>0.554913</td>\n",
       "      <td>5</td>\n",
       "      <td>1990</td>\n",
       "      <td>9</td>\n",
       "      <td>0.0</td>\n",
       "      <td>0.0</td>\n",
       "      <td>1.0</td>\n",
       "    </tr>\n",
       "    <tr>\n",
       "      <th>1</th>\n",
       "      <td>8232.0</td>\n",
       "      <td>32.68</td>\n",
       "      <td>252.0</td>\n",
       "      <td>02-09-1990</td>\n",
       "      <td>285.0</td>\n",
       "      <td>1409.0</td>\n",
       "      <td>3311812</td>\n",
       "      <td>332.0</td>\n",
       "      <td>8280.0</td>\n",
       "      <td>60.8</td>\n",
       "      <td>...</td>\n",
       "      <td>0.0</td>\n",
       "      <td>1.0</td>\n",
       "      <td>0.0</td>\n",
       "      <td>0.710983</td>\n",
       "      <td>6</td>\n",
       "      <td>1990</td>\n",
       "      <td>9</td>\n",
       "      <td>0.0</td>\n",
       "      <td>0.0</td>\n",
       "      <td>1.0</td>\n",
       "    </tr>\n",
       "    <tr>\n",
       "      <th>2</th>\n",
       "      <td>8321.0</td>\n",
       "      <td>43.32</td>\n",
       "      <td>219.0</td>\n",
       "      <td>03-09-1990</td>\n",
       "      <td>319.0</td>\n",
       "      <td>1386.0</td>\n",
       "      <td>3311912</td>\n",
       "      <td>292.0</td>\n",
       "      <td>8355.0</td>\n",
       "      <td>60.8</td>\n",
       "      <td>...</td>\n",
       "      <td>0.0</td>\n",
       "      <td>1.0</td>\n",
       "      <td>0.0</td>\n",
       "      <td>0.745665</td>\n",
       "      <td>0</td>\n",
       "      <td>1990</td>\n",
       "      <td>9</td>\n",
       "      <td>0.0</td>\n",
       "      <td>0.0</td>\n",
       "      <td>1.0</td>\n",
       "    </tr>\n",
       "    <tr>\n",
       "      <th>3</th>\n",
       "      <td>8379.0</td>\n",
       "      <td>25.84</td>\n",
       "      <td>225.0</td>\n",
       "      <td>04-09-1990</td>\n",
       "      <td>297.0</td>\n",
       "      <td>1365.0</td>\n",
       "      <td>3312012</td>\n",
       "      <td>324.0</td>\n",
       "      <td>8396.0</td>\n",
       "      <td>38.0</td>\n",
       "      <td>...</td>\n",
       "      <td>0.0</td>\n",
       "      <td>1.0</td>\n",
       "      <td>0.0</td>\n",
       "      <td>0.843931</td>\n",
       "      <td>1</td>\n",
       "      <td>1990</td>\n",
       "      <td>9</td>\n",
       "      <td>0.0</td>\n",
       "      <td>0.0</td>\n",
       "      <td>1.0</td>\n",
       "    </tr>\n",
       "    <tr>\n",
       "      <th>4</th>\n",
       "      <td>8372.0</td>\n",
       "      <td>28.88</td>\n",
       "      <td>234.0</td>\n",
       "      <td>05-09-1990</td>\n",
       "      <td>207.0</td>\n",
       "      <td>1413.0</td>\n",
       "      <td>3312112</td>\n",
       "      <td>332.0</td>\n",
       "      <td>8393.0</td>\n",
       "      <td>45.6</td>\n",
       "      <td>...</td>\n",
       "      <td>0.0</td>\n",
       "      <td>1.0</td>\n",
       "      <td>0.0</td>\n",
       "      <td>0.803468</td>\n",
       "      <td>2</td>\n",
       "      <td>1990</td>\n",
       "      <td>9</td>\n",
       "      <td>0.0</td>\n",
       "      <td>0.0</td>\n",
       "      <td>1.0</td>\n",
       "    </tr>\n",
       "  </tbody>\n",
       "</table>\n",
       "<p>5 rows × 34 columns</p>\n",
       "</div>"
      ],
      "text/plain": [
       "   Average_Atmospheric_Pressure  Average_Breeze_Speed  \\\n",
       "0                        8225.0                 37.24   \n",
       "1                        8232.0                 32.68   \n",
       "2                        8321.0                 43.32   \n",
       "3                        8379.0                 25.84   \n",
       "4                        8372.0                 28.88   \n",
       "\n",
       "   Average_Moisture_In_Park        Date  Direction_Of_Wind  Footfall       ID  \\\n",
       "0                     255.0  01-09-1990              194.0    1406.0  3311712   \n",
       "1                     252.0  02-09-1990              285.0    1409.0  3311812   \n",
       "2                     219.0  03-09-1990              319.0    1386.0  3311912   \n",
       "3                     225.0  04-09-1990              297.0    1365.0  3312012   \n",
       "4                     234.0  05-09-1990              207.0    1413.0  3312112   \n",
       "\n",
       "   Max_Ambient_Pollution  Max_Atmospheric_Pressure  Max_Breeze_Speed  \\\n",
       "0                  304.0                    8259.0              60.8   \n",
       "1                  332.0                    8280.0              60.8   \n",
       "2                  292.0                    8355.0              60.8   \n",
       "3                  324.0                    8396.0              38.0   \n",
       "4                  332.0                    8393.0              45.6   \n",
       "\n",
       "          ...           location__2  location__3  location__4  pollution  day  \\\n",
       "0         ...                   0.0          1.0          0.0   0.554913    5   \n",
       "1         ...                   0.0          1.0          0.0   0.710983    6   \n",
       "2         ...                   0.0          1.0          0.0   0.745665    0   \n",
       "3         ...                   0.0          1.0          0.0   0.843931    1   \n",
       "4         ...                   0.0          1.0          0.0   0.803468    2   \n",
       "\n",
       "   year  month  month_bucket_high  month_bucket_low  month_bucket_medium  \n",
       "0  1990      9                0.0               0.0                  1.0  \n",
       "1  1990      9                0.0               0.0                  1.0  \n",
       "2  1990      9                0.0               0.0                  1.0  \n",
       "3  1990      9                0.0               0.0                  1.0  \n",
       "4  1990      9                0.0               0.0                  1.0  \n",
       "\n",
       "[5 rows x 34 columns]"
      ]
     },
     "execution_count": 56,
     "metadata": {},
     "output_type": "execute_result"
    }
   ],
   "source": [
    "data.head()"
   ]
  },
  {
   "cell_type": "code",
   "execution_count": 57,
   "metadata": {
    "collapsed": false
   },
   "outputs": [
    {
     "data": {
      "text/plain": [
       "array([12, 13, 14, 15, 16, 17, 18, 19, 20, 21, 22, 23, 24, 25, 26, 27, 28,\n",
       "       29, 30, 31, 32, 33, 34, 35, 36, 37, 38, 39])"
      ]
     },
     "execution_count": 57,
     "metadata": {},
     "output_type": "execute_result"
    }
   ],
   "source": [
    "data['Park_ID'].unique()"
   ]
  },
  {
   "cell_type": "code",
   "execution_count": 58,
   "metadata": {
    "collapsed": false
   },
   "outputs": [
    {
     "data": {
      "text/plain": [
       "28"
      ]
     },
     "execution_count": 58,
     "metadata": {},
     "output_type": "execute_result"
    }
   ],
   "source": [
    "len(data['Park_ID'].unique())"
   ]
  },
  {
   "cell_type": "code",
   "execution_count": 59,
   "metadata": {
    "collapsed": false
   },
   "outputs": [
    {
     "data": {
      "text/plain": [
       "39    5600\n",
       "26    5600\n",
       "13    5600\n",
       "14    5600\n",
       "15    5600\n",
       "16    5600\n",
       "18    5600\n",
       "20    5600\n",
       "21    5600\n",
       "22    5600\n",
       "23    5600\n",
       "24    5600\n",
       "38    5600\n",
       "25    5600\n",
       "27    5600\n",
       "28    5600\n",
       "29    5600\n",
       "30    5600\n",
       "31    5600\n",
       "32    5600\n",
       "33    5600\n",
       "34    5600\n",
       "35    5600\n",
       "36    5600\n",
       "37    5600\n",
       "12    5600\n",
       "17    5358\n",
       "19    3001\n",
       "Name: Park_ID, dtype: int64"
      ]
     },
     "execution_count": 59,
     "metadata": {},
     "output_type": "execute_result"
    }
   ],
   "source": [
    "data['Park_ID'].value_counts()"
   ]
  },
  {
   "cell_type": "code",
   "execution_count": 60,
   "metadata": {
    "collapsed": false
   },
   "outputs": [
    {
     "data": {
      "text/plain": [
       "<matplotlib.axes._subplots.AxesSubplot at 0x7fa241071890>"
      ]
     },
     "execution_count": 60,
     "metadata": {},
     "output_type": "execute_result"
    },
    {
     "data": {
      "image/png": "[encoded data removed]",
      "text/plain": [
       "<matplotlib.figure.Figure at 0x7fa2410522d0>"
      ]
     },
     "metadata": {},
     "output_type": "display_data"
    }
   ],
   "source": [
    "sns.boxplot(y=data['Footfall'], x=data['Park_ID'])"
   ]
  },
  {
   "cell_type": "code",
   "execution_count": 61,
   "metadata": {
    "collapsed": false
   },
   "outputs": [],
   "source": [
    "data['is_park_ID_19'] = 0"
   ]
  },
  {
   "cell_type": "code",
   "execution_count": 62,
   "metadata": {
    "collapsed": false
   },
   "outputs": [
    {
     "data": {
      "text/html": [
       "<div>\n",
       "<table border=\"1\" class=\"dataframe\">\n",
       "  <thead>\n",
       "    <tr style=\"text-align: right;\">\n",
       "      <th></th>\n",
       "      <th>Average_Atmospheric_Pressure</th>\n",
       "      <th>Average_Breeze_Speed</th>\n",
       "      <th>Average_Moisture_In_Park</th>\n",
       "      <th>Date</th>\n",
       "      <th>Direction_Of_Wind</th>\n",
       "      <th>Footfall</th>\n",
       "      <th>ID</th>\n",
       "      <th>Max_Ambient_Pollution</th>\n",
       "      <th>Max_Atmospheric_Pressure</th>\n",
       "      <th>Max_Breeze_Speed</th>\n",
       "      <th>...</th>\n",
       "      <th>location__3</th>\n",
       "      <th>location__4</th>\n",
       "      <th>pollution</th>\n",
       "      <th>day</th>\n",
       "      <th>year</th>\n",
       "      <th>month</th>\n",
       "      <th>month_bucket_high</th>\n",
       "      <th>month_bucket_low</th>\n",
       "      <th>month_bucket_medium</th>\n",
       "      <th>is_park_ID_19</th>\n",
       "    </tr>\n",
       "  </thead>\n",
       "  <tbody>\n",
       "    <tr>\n",
       "      <th>0</th>\n",
       "      <td>8225.0</td>\n",
       "      <td>37.24</td>\n",
       "      <td>255.0</td>\n",
       "      <td>01-09-1990</td>\n",
       "      <td>194.0</td>\n",
       "      <td>1406.0</td>\n",
       "      <td>3311712</td>\n",
       "      <td>304.0</td>\n",
       "      <td>8259.0</td>\n",
       "      <td>60.8</td>\n",
       "      <td>...</td>\n",
       "      <td>1.0</td>\n",
       "      <td>0.0</td>\n",
       "      <td>0.554913</td>\n",
       "      <td>5</td>\n",
       "      <td>1990</td>\n",
       "      <td>9</td>\n",
       "      <td>0.0</td>\n",
       "      <td>0.0</td>\n",
       "      <td>1.0</td>\n",
       "      <td>0</td>\n",
       "    </tr>\n",
       "    <tr>\n",
       "      <th>1</th>\n",
       "      <td>8232.0</td>\n",
       "      <td>32.68</td>\n",
       "      <td>252.0</td>\n",
       "      <td>02-09-1990</td>\n",
       "      <td>285.0</td>\n",
       "      <td>1409.0</td>\n",
       "      <td>3311812</td>\n",
       "      <td>332.0</td>\n",
       "      <td>8280.0</td>\n",
       "      <td>60.8</td>\n",
       "      <td>...</td>\n",
       "      <td>1.0</td>\n",
       "      <td>0.0</td>\n",
       "      <td>0.710983</td>\n",
       "      <td>6</td>\n",
       "      <td>1990</td>\n",
       "      <td>9</td>\n",
       "      <td>0.0</td>\n",
       "      <td>0.0</td>\n",
       "      <td>1.0</td>\n",
       "      <td>0</td>\n",
       "    </tr>\n",
       "    <tr>\n",
       "      <th>2</th>\n",
       "      <td>8321.0</td>\n",
       "      <td>43.32</td>\n",
       "      <td>219.0</td>\n",
       "      <td>03-09-1990</td>\n",
       "      <td>319.0</td>\n",
       "      <td>1386.0</td>\n",
       "      <td>3311912</td>\n",
       "      <td>292.0</td>\n",
       "      <td>8355.0</td>\n",
       "      <td>60.8</td>\n",
       "      <td>...</td>\n",
       "      <td>1.0</td>\n",
       "      <td>0.0</td>\n",
       "      <td>0.745665</td>\n",
       "      <td>0</td>\n",
       "      <td>1990</td>\n",
       "      <td>9</td>\n",
       "      <td>0.0</td>\n",
       "      <td>0.0</td>\n",
       "      <td>1.0</td>\n",
       "      <td>0</td>\n",
       "    </tr>\n",
       "    <tr>\n",
       "      <th>3</th>\n",
       "      <td>8379.0</td>\n",
       "      <td>25.84</td>\n",
       "      <td>225.0</td>\n",
       "      <td>04-09-1990</td>\n",
       "      <td>297.0</td>\n",
       "      <td>1365.0</td>\n",
       "      <td>3312012</td>\n",
       "      <td>324.0</td>\n",
       "      <td>8396.0</td>\n",
       "      <td>38.0</td>\n",
       "      <td>...</td>\n",
       "      <td>1.0</td>\n",
       "      <td>0.0</td>\n",
       "      <td>0.843931</td>\n",
       "      <td>1</td>\n",
       "      <td>1990</td>\n",
       "      <td>9</td>\n",
       "      <td>0.0</td>\n",
       "      <td>0.0</td>\n",
       "      <td>1.0</td>\n",
       "      <td>0</td>\n",
       "    </tr>\n",
       "    <tr>\n",
       "      <th>4</th>\n",
       "      <td>8372.0</td>\n",
       "      <td>28.88</td>\n",
       "      <td>234.0</td>\n",
       "      <td>05-09-1990</td>\n",
       "      <td>207.0</td>\n",
       "      <td>1413.0</td>\n",
       "      <td>3312112</td>\n",
       "      <td>332.0</td>\n",
       "      <td>8393.0</td>\n",
       "      <td>45.6</td>\n",
       "      <td>...</td>\n",
       "      <td>1.0</td>\n",
       "      <td>0.0</td>\n",
       "      <td>0.803468</td>\n",
       "      <td>2</td>\n",
       "      <td>1990</td>\n",
       "      <td>9</td>\n",
       "      <td>0.0</td>\n",
       "      <td>0.0</td>\n",
       "      <td>1.0</td>\n",
       "      <td>0</td>\n",
       "    </tr>\n",
       "  </tbody>\n",
       "</table>\n",
       "<p>5 rows × 35 columns</p>\n",
       "</div>"
      ],
      "text/plain": [
       "   Average_Atmospheric_Pressure  Average_Breeze_Speed  \\\n",
       "0                        8225.0                 37.24   \n",
       "1                        8232.0                 32.68   \n",
       "2                        8321.0                 43.32   \n",
       "3                        8379.0                 25.84   \n",
       "4                        8372.0                 28.88   \n",
       "\n",
       "   Average_Moisture_In_Park        Date  Direction_Of_Wind  Footfall       ID  \\\n",
       "0                     255.0  01-09-1990              194.0    1406.0  3311712   \n",
       "1                     252.0  02-09-1990              285.0    1409.0  3311812   \n",
       "2                     219.0  03-09-1990              319.0    1386.0  3311912   \n",
       "3                     225.0  04-09-1990              297.0    1365.0  3312012   \n",
       "4                     234.0  05-09-1990              207.0    1413.0  3312112   \n",
       "\n",
       "   Max_Ambient_Pollution  Max_Atmospheric_Pressure  Max_Breeze_Speed  \\\n",
       "0                  304.0                    8259.0              60.8   \n",
       "1                  332.0                    8280.0              60.8   \n",
       "2                  292.0                    8355.0              60.8   \n",
       "3                  324.0                    8396.0              38.0   \n",
       "4                  332.0                    8393.0              45.6   \n",
       "\n",
       "       ...        location__3  location__4  pollution  day  year  month  \\\n",
       "0      ...                1.0          0.0   0.554913    5  1990      9   \n",
       "1      ...                1.0          0.0   0.710983    6  1990      9   \n",
       "2      ...                1.0          0.0   0.745665    0  1990      9   \n",
       "3      ...                1.0          0.0   0.843931    1  1990      9   \n",
       "4      ...                1.0          0.0   0.803468    2  1990      9   \n",
       "\n",
       "   month_bucket_high  month_bucket_low  month_bucket_medium  is_park_ID_19  \n",
       "0                0.0               0.0                  1.0              0  \n",
       "1                0.0               0.0                  1.0              0  \n",
       "2                0.0               0.0                  1.0              0  \n",
       "3                0.0               0.0                  1.0              0  \n",
       "4                0.0               0.0                  1.0              0  \n",
       "\n",
       "[5 rows x 35 columns]"
      ]
     },
     "execution_count": 62,
     "metadata": {},
     "output_type": "execute_result"
    }
   ],
   "source": [
    "data.head()"
   ]
  },
  {
   "cell_type": "code",
   "execution_count": 63,
   "metadata": {
    "collapsed": false
   },
   "outputs": [],
   "source": [
    "data.loc[(data['Park_ID'] == 19), 'is_park_ID_19'] = 1"
   ]
  },
  {
   "cell_type": "code",
   "execution_count": 64,
   "metadata": {
    "collapsed": false
   },
   "outputs": [
    {
     "data": {
      "text/html": [
       "<div>\n",
       "<table border=\"1\" class=\"dataframe\">\n",
       "  <thead>\n",
       "    <tr style=\"text-align: right;\">\n",
       "      <th></th>\n",
       "      <th>Average_Atmospheric_Pressure</th>\n",
       "      <th>Average_Breeze_Speed</th>\n",
       "      <th>Average_Moisture_In_Park</th>\n",
       "      <th>Date</th>\n",
       "      <th>Direction_Of_Wind</th>\n",
       "      <th>Footfall</th>\n",
       "      <th>ID</th>\n",
       "      <th>Max_Ambient_Pollution</th>\n",
       "      <th>Max_Atmospheric_Pressure</th>\n",
       "      <th>Max_Breeze_Speed</th>\n",
       "      <th>...</th>\n",
       "      <th>location__3</th>\n",
       "      <th>location__4</th>\n",
       "      <th>pollution</th>\n",
       "      <th>day</th>\n",
       "      <th>year</th>\n",
       "      <th>month</th>\n",
       "      <th>month_bucket_high</th>\n",
       "      <th>month_bucket_low</th>\n",
       "      <th>month_bucket_medium</th>\n",
       "      <th>is_park_ID_19</th>\n",
       "    </tr>\n",
       "  </thead>\n",
       "  <tbody>\n",
       "    <tr>\n",
       "      <th>0</th>\n",
       "      <td>8225.0</td>\n",
       "      <td>37.24</td>\n",
       "      <td>255.0</td>\n",
       "      <td>01-09-1990</td>\n",
       "      <td>194.0</td>\n",
       "      <td>1406.0</td>\n",
       "      <td>3311712</td>\n",
       "      <td>304.0</td>\n",
       "      <td>8259.0</td>\n",
       "      <td>60.8</td>\n",
       "      <td>...</td>\n",
       "      <td>1.0</td>\n",
       "      <td>0.0</td>\n",
       "      <td>0.554913</td>\n",
       "      <td>5</td>\n",
       "      <td>1990</td>\n",
       "      <td>9</td>\n",
       "      <td>0.0</td>\n",
       "      <td>0.0</td>\n",
       "      <td>1.0</td>\n",
       "      <td>0</td>\n",
       "    </tr>\n",
       "    <tr>\n",
       "      <th>1</th>\n",
       "      <td>8232.0</td>\n",
       "      <td>32.68</td>\n",
       "      <td>252.0</td>\n",
       "      <td>02-09-1990</td>\n",
       "      <td>285.0</td>\n",
       "      <td>1409.0</td>\n",
       "      <td>3311812</td>\n",
       "      <td>332.0</td>\n",
       "      <td>8280.0</td>\n",
       "      <td>60.8</td>\n",
       "      <td>...</td>\n",
       "      <td>1.0</td>\n",
       "      <td>0.0</td>\n",
       "      <td>0.710983</td>\n",
       "      <td>6</td>\n",
       "      <td>1990</td>\n",
       "      <td>9</td>\n",
       "      <td>0.0</td>\n",
       "      <td>0.0</td>\n",
       "      <td>1.0</td>\n",
       "      <td>0</td>\n",
       "    </tr>\n",
       "    <tr>\n",
       "      <th>2</th>\n",
       "      <td>8321.0</td>\n",
       "      <td>43.32</td>\n",
       "      <td>219.0</td>\n",
       "      <td>03-09-1990</td>\n",
       "      <td>319.0</td>\n",
       "      <td>1386.0</td>\n",
       "      <td>3311912</td>\n",
       "      <td>292.0</td>\n",
       "      <td>8355.0</td>\n",
       "      <td>60.8</td>\n",
       "      <td>...</td>\n",
       "      <td>1.0</td>\n",
       "      <td>0.0</td>\n",
       "      <td>0.745665</td>\n",
       "      <td>0</td>\n",
       "      <td>1990</td>\n",
       "      <td>9</td>\n",
       "      <td>0.0</td>\n",
       "      <td>0.0</td>\n",
       "      <td>1.0</td>\n",
       "      <td>0</td>\n",
       "    </tr>\n",
       "    <tr>\n",
       "      <th>3</th>\n",
       "      <td>8379.0</td>\n",
       "      <td>25.84</td>\n",
       "      <td>225.0</td>\n",
       "      <td>04-09-1990</td>\n",
       "      <td>297.0</td>\n",
       "      <td>1365.0</td>\n",
       "      <td>3312012</td>\n",
       "      <td>324.0</td>\n",
       "      <td>8396.0</td>\n",
       "      <td>38.0</td>\n",
       "      <td>...</td>\n",
       "      <td>1.0</td>\n",
       "      <td>0.0</td>\n",
       "      <td>0.843931</td>\n",
       "      <td>1</td>\n",
       "      <td>1990</td>\n",
       "      <td>9</td>\n",
       "      <td>0.0</td>\n",
       "      <td>0.0</td>\n",
       "      <td>1.0</td>\n",
       "      <td>0</td>\n",
       "    </tr>\n",
       "    <tr>\n",
       "      <th>4</th>\n",
       "      <td>8372.0</td>\n",
       "      <td>28.88</td>\n",
       "      <td>234.0</td>\n",
       "      <td>05-09-1990</td>\n",
       "      <td>207.0</td>\n",
       "      <td>1413.0</td>\n",
       "      <td>3312112</td>\n",
       "      <td>332.0</td>\n",
       "      <td>8393.0</td>\n",
       "      <td>45.6</td>\n",
       "      <td>...</td>\n",
       "      <td>1.0</td>\n",
       "      <td>0.0</td>\n",
       "      <td>0.803468</td>\n",
       "      <td>2</td>\n",
       "      <td>1990</td>\n",
       "      <td>9</td>\n",
       "      <td>0.0</td>\n",
       "      <td>0.0</td>\n",
       "      <td>1.0</td>\n",
       "      <td>0</td>\n",
       "    </tr>\n",
       "  </tbody>\n",
       "</table>\n",
       "<p>5 rows × 35 columns</p>\n",
       "</div>"
      ],
      "text/plain": [
       "   Average_Atmospheric_Pressure  Average_Breeze_Speed  \\\n",
       "0                        8225.0                 37.24   \n",
       "1                        8232.0                 32.68   \n",
       "2                        8321.0                 43.32   \n",
       "3                        8379.0                 25.84   \n",
       "4                        8372.0                 28.88   \n",
       "\n",
       "   Average_Moisture_In_Park        Date  Direction_Of_Wind  Footfall       ID  \\\n",
       "0                     255.0  01-09-1990              194.0    1406.0  3311712   \n",
       "1                     252.0  02-09-1990              285.0    1409.0  3311812   \n",
       "2                     219.0  03-09-1990              319.0    1386.0  3311912   \n",
       "3                     225.0  04-09-1990              297.0    1365.0  3312012   \n",
       "4                     234.0  05-09-1990              207.0    1413.0  3312112   \n",
       "\n",
       "   Max_Ambient_Pollution  Max_Atmospheric_Pressure  Max_Breeze_Speed  \\\n",
       "0                  304.0                    8259.0              60.8   \n",
       "1                  332.0                    8280.0              60.8   \n",
       "2                  292.0                    8355.0              60.8   \n",
       "3                  324.0                    8396.0              38.0   \n",
       "4                  332.0                    8393.0              45.6   \n",
       "\n",
       "       ...        location__3  location__4  pollution  day  year  month  \\\n",
       "0      ...                1.0          0.0   0.554913    5  1990      9   \n",
       "1      ...                1.0          0.0   0.710983    6  1990      9   \n",
       "2      ...                1.0          0.0   0.745665    0  1990      9   \n",
       "3      ...                1.0          0.0   0.843931    1  1990      9   \n",
       "4      ...                1.0          0.0   0.803468    2  1990      9   \n",
       "\n",
       "   month_bucket_high  month_bucket_low  month_bucket_medium  is_park_ID_19  \n",
       "0                0.0               0.0                  1.0              0  \n",
       "1                0.0               0.0                  1.0              0  \n",
       "2                0.0               0.0                  1.0              0  \n",
       "3                0.0               0.0                  1.0              0  \n",
       "4                0.0               0.0                  1.0              0  \n",
       "\n",
       "[5 rows x 35 columns]"
      ]
     },
     "execution_count": 64,
     "metadata": {},
     "output_type": "execute_result"
    }
   ],
   "source": [
    "data.head()"
   ]
  },
  {
   "cell_type": "code",
   "execution_count": 65,
   "metadata": {
    "collapsed": true
   },
   "outputs": [],
   "source": [
    "# Check for null values in Atmpospheric_Pressure"
   ]
  },
  {
   "cell_type": "code",
   "execution_count": 66,
   "metadata": {
    "collapsed": false
   },
   "outputs": [
    {
     "data": {
      "text/plain": [
       "False    100591\n",
       "True      53368\n",
       "Name: Average_Atmospheric_Pressure, dtype: int64"
      ]
     },
     "execution_count": 66,
     "metadata": {},
     "output_type": "execute_result"
    }
   ],
   "source": [
    "data['Average_Atmospheric_Pressure'].isnull().value_counts()"
   ]
  },
  {
   "cell_type": "code",
   "execution_count": 67,
   "metadata": {
    "collapsed": false
   },
   "outputs": [
    {
     "data": {
      "text/plain": [
       "False    100591\n",
       "True      53368\n",
       "Name: Max_Atmospheric_Pressure, dtype: int64"
      ]
     },
     "execution_count": 67,
     "metadata": {},
     "output_type": "execute_result"
    }
   ],
   "source": [
    "data['Max_Atmospheric_Pressure'].isnull().value_counts()"
   ]
  },
  {
   "cell_type": "code",
   "execution_count": 68,
   "metadata": {
    "collapsed": false
   },
   "outputs": [
    {
     "data": {
      "text/plain": [
       "False    100591\n",
       "True      53368\n",
       "Name: Min_Atmospheric_Pressure, dtype: int64"
      ]
     },
     "execution_count": 68,
     "metadata": {},
     "output_type": "execute_result"
    }
   ],
   "source": [
    "data['Min_Atmospheric_Pressure'].isnull().value_counts()"
   ]
  },
  {
   "cell_type": "code",
   "execution_count": 69,
   "metadata": {
    "collapsed": false
   },
   "outputs": [
    {
     "data": {
      "text/plain": [
       "count    100591.000000\n",
       "mean          0.511633\n",
       "std           0.116028\n",
       "min           0.000000\n",
       "25%           0.428571\n",
       "50%           0.504274\n",
       "75%           0.588235\n",
       "max           1.000000\n",
       "Name: pressure, dtype: float64"
      ]
     },
     "execution_count": 69,
     "metadata": {},
     "output_type": "execute_result"
    }
   ],
   "source": [
    "data[data['pressure'].notnull()]['pressure'].describe()"
   ]
  },
  {
   "cell_type": "code",
   "execution_count": 70,
   "metadata": {
    "collapsed": true
   },
   "outputs": [],
   "source": [
    "data['pressure'].fillna(np.mean(data['pressure']), inplace=True)"
   ]
  },
  {
   "cell_type": "code",
   "execution_count": 71,
   "metadata": {
    "collapsed": true
   },
   "outputs": [],
   "source": [
    "# Check for null values in Breeze_Speed"
   ]
  },
  {
   "cell_type": "code",
   "execution_count": 72,
   "metadata": {
    "collapsed": false
   },
   "outputs": [
    {
     "data": {
      "text/plain": [
       "False    148535\n",
       "True       5424\n",
       "Name: Average_Breeze_Speed, dtype: int64"
      ]
     },
     "execution_count": 72,
     "metadata": {},
     "output_type": "execute_result"
    }
   ],
   "source": [
    "data['Average_Breeze_Speed'].isnull().value_counts()"
   ]
  },
  {
   "cell_type": "code",
   "execution_count": 73,
   "metadata": {
    "collapsed": false
   },
   "outputs": [
    {
     "data": {
      "text/plain": [
       "False    148530\n",
       "True       5429\n",
       "Name: Max_Breeze_Speed, dtype: int64"
      ]
     },
     "execution_count": 73,
     "metadata": {},
     "output_type": "execute_result"
    }
   ],
   "source": [
    "data['Max_Breeze_Speed'].isnull().value_counts()"
   ]
  },
  {
   "cell_type": "code",
   "execution_count": 74,
   "metadata": {
    "collapsed": false
   },
   "outputs": [
    {
     "data": {
      "text/plain": [
       "False    148532\n",
       "True       5427\n",
       "Name: Min_Breeze_Speed, dtype: int64"
      ]
     },
     "execution_count": 74,
     "metadata": {},
     "output_type": "execute_result"
    }
   ],
   "source": [
    "data['Min_Breeze_Speed'].isnull().value_counts()"
   ]
  },
  {
   "cell_type": "code",
   "execution_count": 75,
   "metadata": {
    "collapsed": false
   },
   "outputs": [
    {
     "data": {
      "text/plain": [
       "count    148519.000000\n",
       "mean          0.491430\n",
       "std           0.104562\n",
       "min           0.000000\n",
       "25%           0.425000\n",
       "50%           0.500000\n",
       "75%           0.560000\n",
       "max           1.000000\n",
       "Name: wind, dtype: float64"
      ]
     },
     "execution_count": 75,
     "metadata": {},
     "output_type": "execute_result"
    }
   ],
   "source": [
    "data[data['wind'].notnull()]['wind'].describe()"
   ]
  },
  {
   "cell_type": "code",
   "execution_count": 76,
   "metadata": {
    "collapsed": true
   },
   "outputs": [],
   "source": [
    "data['wind'].fillna(np.mean(data['wind']), inplace=True)"
   ]
  },
  {
   "cell_type": "code",
   "execution_count": 77,
   "metadata": {
    "collapsed": true
   },
   "outputs": [],
   "source": [
    "# Check for null values in Moisture_In_Park"
   ]
  },
  {
   "cell_type": "code",
   "execution_count": 78,
   "metadata": {
    "collapsed": false
   },
   "outputs": [
    {
     "data": {
      "text/plain": [
       "False    153880\n",
       "True         79\n",
       "Name: Average_Moisture_In_Park, dtype: int64"
      ]
     },
     "execution_count": 78,
     "metadata": {},
     "output_type": "execute_result"
    }
   ],
   "source": [
    "data['Average_Moisture_In_Park'].isnull().value_counts()"
   ]
  },
  {
   "cell_type": "code",
   "execution_count": 79,
   "metadata": {
    "collapsed": false
   },
   "outputs": [
    {
     "data": {
      "text/plain": [
       "False    153880\n",
       "True         79\n",
       "Name: Max_Moisture_In_Park, dtype: int64"
      ]
     },
     "execution_count": 79,
     "metadata": {},
     "output_type": "execute_result"
    }
   ],
   "source": [
    "data['Max_Moisture_In_Park'].isnull().value_counts()"
   ]
  },
  {
   "cell_type": "code",
   "execution_count": 80,
   "metadata": {
    "collapsed": false
   },
   "outputs": [
    {
     "data": {
      "text/plain": [
       "False    153880\n",
       "True         79\n",
       "Name: Min_Moisture_In_Park, dtype: int64"
      ]
     },
     "execution_count": 80,
     "metadata": {},
     "output_type": "execute_result"
    }
   ],
   "source": [
    "data['Min_Moisture_In_Park'].isnull().value_counts()"
   ]
  },
  {
   "cell_type": "code",
   "execution_count": 81,
   "metadata": {
    "collapsed": false
   },
   "outputs": [
    {
     "data": {
      "text/plain": [
       "count    153721.000000\n",
       "mean          0.566941\n",
       "std           0.103038\n",
       "min           0.000000\n",
       "25%           0.500000\n",
       "50%           0.564103\n",
       "75%           0.631579\n",
       "max           1.000000\n",
       "Name: moisture, dtype: float64"
      ]
     },
     "execution_count": 81,
     "metadata": {},
     "output_type": "execute_result"
    }
   ],
   "source": [
    "data[data['moisture'].notnull()]['moisture'].describe()"
   ]
  },
  {
   "cell_type": "code",
   "execution_count": 82,
   "metadata": {
    "collapsed": true
   },
   "outputs": [],
   "source": [
    "data['moisture'].fillna(np.mean(data['moisture']), inplace=True)"
   ]
  },
  {
   "cell_type": "code",
   "execution_count": 83,
   "metadata": {
    "collapsed": true
   },
   "outputs": [],
   "source": [
    "# Check for null values in Direction_Of_Wind"
   ]
  },
  {
   "cell_type": "code",
   "execution_count": 84,
   "metadata": {
    "collapsed": false
   },
   "outputs": [
    {
     "data": {
      "text/plain": [
       "False    148535\n",
       "True       5424\n",
       "Name: Direction_Of_Wind, dtype: int64"
      ]
     },
     "execution_count": 84,
     "metadata": {},
     "output_type": "execute_result"
    }
   ],
   "source": [
    "data['Direction_Of_Wind'].isnull().value_counts()"
   ]
  },
  {
   "cell_type": "code",
   "execution_count": 85,
   "metadata": {
    "collapsed": true
   },
   "outputs": [],
   "source": [
    "# Check for null values in Ambient_Pollution"
   ]
  },
  {
   "cell_type": "code",
   "execution_count": 86,
   "metadata": {
    "collapsed": false
   },
   "outputs": [
    {
     "data": {
      "text/plain": [
       "False    112659\n",
       "True      41300\n",
       "Name: Max_Ambient_Pollution, dtype: int64"
      ]
     },
     "execution_count": 86,
     "metadata": {},
     "output_type": "execute_result"
    }
   ],
   "source": [
    "data['Max_Ambient_Pollution'].isnull().value_counts()"
   ]
  },
  {
   "cell_type": "code",
   "execution_count": 87,
   "metadata": {
    "collapsed": false,
    "scrolled": true
   },
   "outputs": [
    {
     "data": {
      "text/plain": [
       "False    112659\n",
       "True      41300\n",
       "Name: Min_Ambient_Pollution, dtype: int64"
      ]
     },
     "execution_count": 87,
     "metadata": {},
     "output_type": "execute_result"
    }
   ],
   "source": [
    "data['Min_Ambient_Pollution'].isnull().value_counts()"
   ]
  },
  {
   "cell_type": "code",
   "execution_count": 88,
   "metadata": {
    "collapsed": false
   },
   "outputs": [
    {
     "data": {
      "text/plain": [
       "count    112659.000000\n",
       "mean          0.667153\n",
       "std           0.162858\n",
       "min           0.000000\n",
       "25%           0.531792\n",
       "50%           0.699422\n",
       "75%           0.809249\n",
       "max           1.000000\n",
       "Name: pollution, dtype: float64"
      ]
     },
     "execution_count": 88,
     "metadata": {},
     "output_type": "execute_result"
    }
   ],
   "source": [
    "data[data['pollution'].notnull()]['pollution'].describe()"
   ]
  },
  {
   "cell_type": "code",
   "execution_count": 89,
   "metadata": {
    "collapsed": true
   },
   "outputs": [],
   "source": [
    "data['pollution'].fillna(np.mean(data['pollution']), inplace=True)"
   ]
  },
  {
   "cell_type": "code",
   "execution_count": 90,
   "metadata": {
    "collapsed": true
   },
   "outputs": [],
   "source": [
    "# Check for null values in Var1"
   ]
  },
  {
   "cell_type": "code",
   "execution_count": 91,
   "metadata": {
    "collapsed": false
   },
   "outputs": [
    {
     "data": {
      "text/plain": [
       "False    142757\n",
       "True      11202\n",
       "Name: Var1, dtype: int64"
      ]
     },
     "execution_count": 91,
     "metadata": {},
     "output_type": "execute_result"
    }
   ],
   "source": [
    "data['Var1'].isnull().value_counts()"
   ]
  },
  {
   "cell_type": "code",
   "execution_count": 92,
   "metadata": {
    "collapsed": false
   },
   "outputs": [
    {
     "data": {
      "text/plain": [
       "count    142757.000000\n",
       "mean          0.015816\n",
       "std           0.032160\n",
       "min           0.000000\n",
       "25%           0.000000\n",
       "50%           0.000703\n",
       "75%           0.018271\n",
       "max           1.000000\n",
       "Name: Var1, dtype: float64"
      ]
     },
     "execution_count": 92,
     "metadata": {},
     "output_type": "execute_result"
    }
   ],
   "source": [
    "data[data['Var1'].notnull()]['Var1'].describe()"
   ]
  },
  {
   "cell_type": "code",
   "execution_count": 93,
   "metadata": {
    "collapsed": true
   },
   "outputs": [],
   "source": [
    "data['Var1'].fillna(np.mean(data['Var1']), inplace=True)"
   ]
  },
  {
   "cell_type": "code",
   "execution_count": 94,
   "metadata": {
    "collapsed": true
   },
   "outputs": [],
   "source": [
    "# def prepare_data(df, is_train):\n",
    "#     df['pressure'] = normalize_feature(df, 'Atmospheric_Pressure')\n",
    "#     df['Average_Wind_Speed'] = np.abs(df['Average_Breeze_Speed']*np.cos((df['Direction_Of_Wind'] % 180)*(np.pi/180)))\n",
    "#     df['Max_Wind_Speed'] = np.abs(df['Max_Breeze_Speed']*np.cos((df['Direction_Of_Wind'] % 180)*(np.pi/180)))\n",
    "#     df['Min_Wind_Speed'] = np.abs(df['Min_Breeze_Speed']*np.cos((df['Direction_Of_Wind'] % 180)*(np.pi/180)))\n",
    "#     df['wind'] = normalize_feature(df, 'Wind_Speed')\n",
    "#     df['moisture'] = normalize_feature(df, 'Moisture_In_Park')\n",
    "#     df_locations = pd.get_dummies(df['Location_Type'], prefix='location_')\n",
    "#     df = pd.concat([df.drop(['Location_Type'], axis=1), df_locations], axis=1)\n",
    "#     df['pollution'] = (df['Max_Ambient_Pollution'] + df['Min_Ambient_Pollution'])/2\n",
    "#     df['pollution'] = min_max_scaling(df, 'pollution')\n",
    "#     data['Var1'] = min_max_scaling(data, 'Var1')\n",
    "#     df['is_park_ID_19'] = 0\n",
    "#     df.loc[(df['Park_ID'] == 19), 'is_park_ID_19'] = 1\n",
    "#     df['pressure'].fillna(np.mean(df['pressure']), inplace=True)\n",
    "#     df['wind'].fillna(np.mean(df['wind']), inplace=True)\n",
    "#     df['moisture'].fillna(np.mean(df['moisture']), inplace=True)\n",
    "#     df['pollution'].fillna(np.mean(df['pollution']), inplace=True)\n",
    "#     df['Var1'].fillna(np.mean(df['Var1']), inplace=True)\n",
    "#     if is_train:\n",
    "#         df['Footfall'].fillna(0, inplace=True)\n",
    "#         return df.drop(['ID', 'Park_ID', 'Date', 'Direction_Of_Wind', 'Average_Breeze_Speed', 'Max_Breeze_Speed', 'Min_Breeze_Speed', 'Average_Atmospheric_Pressure', 'Max_Atmospheric_Pressure', 'Min_Atmospheric_Pressure', 'Min_Ambient_Pollution', 'Max_Ambient_Pollution', 'Average_Moisture_In_Park', 'Min_Moisture_In_Park', 'Max_Moisture_In_Park', 'Average_Wind_Speed', 'Max_Wind_Speed', 'Min_Wind_Speed', 'Footfall'], axis=1), df['Footfall']\n",
    "#     return df.drop(['ID', 'Park_ID', 'Date', 'Direction_Of_Wind', 'Average_Breeze_Speed', 'Max_Breeze_Speed', 'Min_Breeze_Speed', 'Average_Atmospheric_Pressure', 'Max_Atmospheric_Pressure', 'Min_Atmospheric_Pressure', 'Min_Ambient_Pollution', 'Max_Ambient_Pollution', 'Average_Moisture_In_Park', 'Min_Moisture_In_Park', 'Max_Moisture_In_Park', 'Average_Wind_Speed', 'Max_Wind_Speed', 'Min_Wind_Speed'], axis=1)"
   ]
  },
  {
   "cell_type": "code",
   "execution_count": 95,
   "metadata": {
    "collapsed": true
   },
   "outputs": [],
   "source": [
    "def prepare_data(df, is_train):\n",
    "    df['Average_Breeze_Speed'].fillna(np.mean(df[df['Average_Breeze_Speed'].notnull()]['Average_Breeze_Speed']), inplace=True)\n",
    "    df['Min_Breeze_Speed'].fillna(np.mean(df[df['Min_Breeze_Speed'].notnull()]['Min_Breeze_Speed']), inplace=True)\n",
    "    df['Max_Breeze_Speed'].fillna(np.mean(df[df['Max_Breeze_Speed'].notnull()]['Max_Breeze_Speed']), inplace=True)\n",
    "    df['Direction_Of_Wind'].fillna(np.mean(df[df['Direction_Of_Wind'].notnull()]['Direction_Of_Wind']), inplace=True)\n",
    "    df['Average_Wind_Speed'] = np.abs(df['Average_Breeze_Speed']*np.cos((df['Direction_Of_Wind'] % 180)*(np.pi/180)))\n",
    "    df['Max_Wind_Speed'] = np.abs(df['Max_Breeze_Speed']*np.cos((df['Direction_Of_Wind'] % 180)*(np.pi/180)))\n",
    "    df['Min_Wind_Speed'] = np.abs(df['Min_Breeze_Speed']*np.cos((df['Direction_Of_Wind'] % 180)*(np.pi/180)))\n",
    "    df_locations = pd.get_dummies(df['Location_Type'], prefix='location')\n",
    "    df = pd.concat([df.drop(['Location_Type'], axis=1), df_locations], axis=1)\n",
    "    df['Average_Atmospheric_Pressure'].fillna(np.mean(df[df['Average_Atmospheric_Pressure'].notnull()]['Average_Atmospheric_Pressure']), inplace=True)\n",
    "    df['Max_Atmospheric_Pressure'].fillna(np.mean(df[df['Max_Atmospheric_Pressure'].notnull()]['Max_Atmospheric_Pressure']), inplace=True)\n",
    "    df['Min_Atmospheric_Pressure'].fillna(np.mean(df[df['Min_Atmospheric_Pressure'].notnull()]['Min_Atmospheric_Pressure']), inplace=True)\n",
    "    df['Average_Moisture_In_Park'].fillna(np.mean(df[df['Average_Moisture_In_Park'].notnull()]['Average_Moisture_In_Park']), inplace=True)\n",
    "    df['Max_Moisture_In_Park'].fillna(np.mean(df[df['Max_Moisture_In_Park'].notnull()]['Max_Moisture_In_Park']), inplace=True)\n",
    "    df['Min_Moisture_In_Park'].fillna(np.mean(df[df['Min_Moisture_In_Park'].notnull()]['Min_Moisture_In_Park']), inplace=True)\n",
    "    df['Max_Ambient_Pollution'].fillna(np.mean(df[df['Max_Ambient_Pollution'].notnull()]['Max_Ambient_Pollution']), inplace=True)\n",
    "    df['Min_Ambient_Pollution'].fillna(np.mean(df[df['Min_Ambient_Pollution'].notnull()]['Min_Ambient_Pollution']), inplace=True)    \n",
    "    df['Var1'].fillna(np.mean(df[df['Var1'].notnull()]['Var1']), inplace=True)\n",
    "    df['year'] = df['Date'].apply(extract_year)\n",
    "    df['month'] = df['Date'].apply(extract_month)\n",
    "    df['month_bucket'] = 'low'\n",
    "    df.loc[((df['month'] == 3) | (df['month'] == 9)), 'month_bucket'] = 'medium'\n",
    "    df.loc[((df['month'] > 3) & (df['month'] < 9)), 'month_bucket'] = 'high'\n",
    "    train_month_bucket_dummies = pd.get_dummies(df['month_bucket'], prefix='month_bucket')\n",
    "    df = pd.concat([df.drop(['month'], axis=1), train_month_bucket_dummies], axis=1)\n",
    "    if is_train:\n",
    "        return df.drop(['ID', 'Footfall', 'Date', 'Average_Breeze_Speed', 'Min_Breeze_Speed', 'Max_Breeze_Speed', 'Direction_Of_Wind', 'month_bucket'], axis=1), df['Footfall']\n",
    "    return df.drop(['ID', 'Date', 'Average_Breeze_Speed', 'Min_Breeze_Speed', 'Max_Breeze_Speed', 'Direction_Of_Wind', 'month_bucket'], axis=1)"
   ]
  },
  {
   "cell_type": "code",
   "execution_count": 96,
   "metadata": {
    "collapsed": false
   },
   "outputs": [],
   "source": [
    "train_features, train_target = prepare_data(train_data, 1)"
   ]
  },
  {
   "cell_type": "code",
   "execution_count": 97,
   "metadata": {
    "collapsed": false
   },
   "outputs": [],
   "source": [
    "test_features = prepare_data(test_data, 0)"
   ]
  },
  {
   "cell_type": "code",
   "execution_count": 98,
   "metadata": {
    "collapsed": false
   },
   "outputs": [
    {
     "data": {
      "text/plain": [
       "Park_ID                         False\n",
       "Var1                            False\n",
       "Average_Atmospheric_Pressure    False\n",
       "Max_Atmospheric_Pressure        False\n",
       "Min_Atmospheric_Pressure        False\n",
       "Min_Ambient_Pollution           False\n",
       "Max_Ambient_Pollution           False\n",
       "Average_Moisture_In_Park        False\n",
       "Max_Moisture_In_Park            False\n",
       "Min_Moisture_In_Park            False\n",
       "Average_Wind_Speed              False\n",
       "Max_Wind_Speed                  False\n",
       "Min_Wind_Speed                  False\n",
       "location_1                      False\n",
       "location_2                      False\n",
       "location_3                      False\n",
       "location_4                      False\n",
       "year                            False\n",
       "month_bucket_high               False\n",
       "month_bucket_low                False\n",
       "month_bucket_medium             False\n",
       "dtype: bool"
      ]
     },
     "execution_count": 98,
     "metadata": {},
     "output_type": "execute_result"
    }
   ],
   "source": [
    "train_features.isnull().any()"
   ]
  },
  {
   "cell_type": "code",
   "execution_count": 99,
   "metadata": {
    "collapsed": false
   },
   "outputs": [
    {
     "data": {
      "text/html": [
       "<div>\n",
       "<table border=\"1\" class=\"dataframe\">\n",
       "  <thead>\n",
       "    <tr style=\"text-align: right;\">\n",
       "      <th></th>\n",
       "      <th>Park_ID</th>\n",
       "      <th>Var1</th>\n",
       "      <th>Average_Atmospheric_Pressure</th>\n",
       "      <th>Max_Atmospheric_Pressure</th>\n",
       "      <th>Min_Atmospheric_Pressure</th>\n",
       "      <th>Min_Ambient_Pollution</th>\n",
       "      <th>Max_Ambient_Pollution</th>\n",
       "      <th>Average_Moisture_In_Park</th>\n",
       "      <th>Max_Moisture_In_Park</th>\n",
       "      <th>Min_Moisture_In_Park</th>\n",
       "      <th>...</th>\n",
       "      <th>Max_Wind_Speed</th>\n",
       "      <th>Min_Wind_Speed</th>\n",
       "      <th>location_1</th>\n",
       "      <th>location_2</th>\n",
       "      <th>location_3</th>\n",
       "      <th>location_4</th>\n",
       "      <th>year</th>\n",
       "      <th>month_bucket_high</th>\n",
       "      <th>month_bucket_low</th>\n",
       "      <th>month_bucket_medium</th>\n",
       "    </tr>\n",
       "  </thead>\n",
       "  <tbody>\n",
       "    <tr>\n",
       "      <th>0</th>\n",
       "      <td>12</td>\n",
       "      <td>92.1300</td>\n",
       "      <td>8225.0</td>\n",
       "      <td>8259.0</td>\n",
       "      <td>8211.0</td>\n",
       "      <td>92.0</td>\n",
       "      <td>304.0</td>\n",
       "      <td>255.0</td>\n",
       "      <td>288.0</td>\n",
       "      <td>222.0</td>\n",
       "      <td>...</td>\n",
       "      <td>58.993980</td>\n",
       "      <td>14.748495</td>\n",
       "      <td>0.0</td>\n",
       "      <td>0.0</td>\n",
       "      <td>1.0</td>\n",
       "      <td>0.0</td>\n",
       "      <td>1990</td>\n",
       "      <td>0.0</td>\n",
       "      <td>0.0</td>\n",
       "      <td>1.0</td>\n",
       "    </tr>\n",
       "    <tr>\n",
       "      <th>1</th>\n",
       "      <td>12</td>\n",
       "      <td>14.1100</td>\n",
       "      <td>8232.0</td>\n",
       "      <td>8280.0</td>\n",
       "      <td>8205.0</td>\n",
       "      <td>172.0</td>\n",
       "      <td>332.0</td>\n",
       "      <td>252.0</td>\n",
       "      <td>297.0</td>\n",
       "      <td>204.0</td>\n",
       "      <td>...</td>\n",
       "      <td>15.736198</td>\n",
       "      <td>1.967025</td>\n",
       "      <td>0.0</td>\n",
       "      <td>0.0</td>\n",
       "      <td>1.0</td>\n",
       "      <td>0.0</td>\n",
       "      <td>1990</td>\n",
       "      <td>0.0</td>\n",
       "      <td>0.0</td>\n",
       "      <td>1.0</td>\n",
       "    </tr>\n",
       "    <tr>\n",
       "      <th>2</th>\n",
       "      <td>12</td>\n",
       "      <td>35.6900</td>\n",
       "      <td>8321.0</td>\n",
       "      <td>8355.0</td>\n",
       "      <td>8283.0</td>\n",
       "      <td>236.0</td>\n",
       "      <td>292.0</td>\n",
       "      <td>219.0</td>\n",
       "      <td>279.0</td>\n",
       "      <td>165.0</td>\n",
       "      <td>...</td>\n",
       "      <td>45.886342</td>\n",
       "      <td>11.471586</td>\n",
       "      <td>0.0</td>\n",
       "      <td>0.0</td>\n",
       "      <td>1.0</td>\n",
       "      <td>0.0</td>\n",
       "      <td>1990</td>\n",
       "      <td>0.0</td>\n",
       "      <td>0.0</td>\n",
       "      <td>1.0</td>\n",
       "    </tr>\n",
       "    <tr>\n",
       "      <th>3</th>\n",
       "      <td>12</td>\n",
       "      <td>0.0249</td>\n",
       "      <td>8379.0</td>\n",
       "      <td>8396.0</td>\n",
       "      <td>8358.0</td>\n",
       "      <td>272.0</td>\n",
       "      <td>324.0</td>\n",
       "      <td>225.0</td>\n",
       "      <td>261.0</td>\n",
       "      <td>192.0</td>\n",
       "      <td>...</td>\n",
       "      <td>17.251639</td>\n",
       "      <td>3.450328</td>\n",
       "      <td>0.0</td>\n",
       "      <td>0.0</td>\n",
       "      <td>1.0</td>\n",
       "      <td>0.0</td>\n",
       "      <td>1990</td>\n",
       "      <td>0.0</td>\n",
       "      <td>0.0</td>\n",
       "      <td>1.0</td>\n",
       "    </tr>\n",
       "    <tr>\n",
       "      <th>4</th>\n",
       "      <td>12</td>\n",
       "      <td>0.8300</td>\n",
       "      <td>8372.0</td>\n",
       "      <td>8393.0</td>\n",
       "      <td>8335.0</td>\n",
       "      <td>236.0</td>\n",
       "      <td>332.0</td>\n",
       "      <td>234.0</td>\n",
       "      <td>273.0</td>\n",
       "      <td>183.0</td>\n",
       "      <td>...</td>\n",
       "      <td>40.629898</td>\n",
       "      <td>6.771650</td>\n",
       "      <td>0.0</td>\n",
       "      <td>0.0</td>\n",
       "      <td>1.0</td>\n",
       "      <td>0.0</td>\n",
       "      <td>1990</td>\n",
       "      <td>0.0</td>\n",
       "      <td>0.0</td>\n",
       "      <td>1.0</td>\n",
       "    </tr>\n",
       "  </tbody>\n",
       "</table>\n",
       "<p>5 rows × 21 columns</p>\n",
       "</div>"
      ],
      "text/plain": [
       "   Park_ID     Var1  Average_Atmospheric_Pressure  Max_Atmospheric_Pressure  \\\n",
       "0       12  92.1300                        8225.0                    8259.0   \n",
       "1       12  14.1100                        8232.0                    8280.0   \n",
       "2       12  35.6900                        8321.0                    8355.0   \n",
       "3       12   0.0249                        8379.0                    8396.0   \n",
       "4       12   0.8300                        8372.0                    8393.0   \n",
       "\n",
       "   Min_Atmospheric_Pressure  Min_Ambient_Pollution  Max_Ambient_Pollution  \\\n",
       "0                    8211.0                   92.0                  304.0   \n",
       "1                    8205.0                  172.0                  332.0   \n",
       "2                    8283.0                  236.0                  292.0   \n",
       "3                    8358.0                  272.0                  324.0   \n",
       "4                    8335.0                  236.0                  332.0   \n",
       "\n",
       "   Average_Moisture_In_Park  Max_Moisture_In_Park  Min_Moisture_In_Park  \\\n",
       "0                     255.0                 288.0                 222.0   \n",
       "1                     252.0                 297.0                 204.0   \n",
       "2                     219.0                 279.0                 165.0   \n",
       "3                     225.0                 261.0                 192.0   \n",
       "4                     234.0                 273.0                 183.0   \n",
       "\n",
       "          ...           Max_Wind_Speed  Min_Wind_Speed  location_1  \\\n",
       "0         ...                58.993980       14.748495         0.0   \n",
       "1         ...                15.736198        1.967025         0.0   \n",
       "2         ...                45.886342       11.471586         0.0   \n",
       "3         ...                17.251639        3.450328         0.0   \n",
       "4         ...                40.629898        6.771650         0.0   \n",
       "\n",
       "   location_2  location_3  location_4  year  month_bucket_high  \\\n",
       "0         0.0         1.0         0.0  1990                0.0   \n",
       "1         0.0         1.0         0.0  1990                0.0   \n",
       "2         0.0         1.0         0.0  1990                0.0   \n",
       "3         0.0         1.0         0.0  1990                0.0   \n",
       "4         0.0         1.0         0.0  1990                0.0   \n",
       "\n",
       "   month_bucket_low  month_bucket_medium  \n",
       "0               0.0                  1.0  \n",
       "1               0.0                  1.0  \n",
       "2               0.0                  1.0  \n",
       "3               0.0                  1.0  \n",
       "4               0.0                  1.0  \n",
       "\n",
       "[5 rows x 21 columns]"
      ]
     },
     "execution_count": 99,
     "metadata": {},
     "output_type": "execute_result"
    }
   ],
   "source": [
    "train_features.head()"
   ]
  },
  {
   "cell_type": "code",
   "execution_count": 119,
   "metadata": {
    "collapsed": false
   },
   "outputs": [
    {
     "data": {
      "text/plain": [
       "Index([u'Park_ID', u'Var1', u'Average_Atmospheric_Pressure',\n",
       "       u'Max_Atmospheric_Pressure', u'Min_Atmospheric_Pressure',\n",
       "       u'Min_Ambient_Pollution', u'Max_Ambient_Pollution',\n",
       "       u'Average_Moisture_In_Park', u'Max_Moisture_In_Park',\n",
       "       u'Min_Moisture_In_Park', u'Average_Wind_Speed', u'Max_Wind_Speed',\n",
       "       u'Min_Wind_Speed', u'location_1', u'location_2', u'location_3',\n",
       "       u'location_4', u'year', u'month_bucket_high', u'month_bucket_low',\n",
       "       u'month_bucket_medium'],\n",
       "      dtype='object')"
      ]
     },
     "execution_count": 119,
     "metadata": {},
     "output_type": "execute_result"
    }
   ],
   "source": [
    "train_features.columns"
   ]
  },
  {
   "cell_type": "code",
   "execution_count": 100,
   "metadata": {
    "collapsed": false
   },
   "outputs": [
    {
     "data": {
      "text/plain": [
       "0    1406\n",
       "1    1409\n",
       "2    1386\n",
       "3    1365\n",
       "4    1413\n",
       "Name: Footfall, dtype: int64"
      ]
     },
     "execution_count": 100,
     "metadata": {},
     "output_type": "execute_result"
    }
   ],
   "source": [
    "train_target.head()"
   ]
  },
  {
   "cell_type": "code",
   "execution_count": 101,
   "metadata": {
    "collapsed": false
   },
   "outputs": [
    {
     "data": {
      "text/html": [
       "<div>\n",
       "<table border=\"1\" class=\"dataframe\">\n",
       "  <thead>\n",
       "    <tr style=\"text-align: right;\">\n",
       "      <th></th>\n",
       "      <th>Park_ID</th>\n",
       "      <th>Var1</th>\n",
       "      <th>Average_Atmospheric_Pressure</th>\n",
       "      <th>Max_Atmospheric_Pressure</th>\n",
       "      <th>Min_Atmospheric_Pressure</th>\n",
       "      <th>Min_Ambient_Pollution</th>\n",
       "      <th>Max_Ambient_Pollution</th>\n",
       "      <th>Average_Moisture_In_Park</th>\n",
       "      <th>Max_Moisture_In_Park</th>\n",
       "      <th>Min_Moisture_In_Park</th>\n",
       "      <th>...</th>\n",
       "      <th>Max_Wind_Speed</th>\n",
       "      <th>Min_Wind_Speed</th>\n",
       "      <th>location_1</th>\n",
       "      <th>location_2</th>\n",
       "      <th>location_3</th>\n",
       "      <th>location_4</th>\n",
       "      <th>year</th>\n",
       "      <th>month_bucket_high</th>\n",
       "      <th>month_bucket_low</th>\n",
       "      <th>month_bucket_medium</th>\n",
       "    </tr>\n",
       "  </thead>\n",
       "  <tbody>\n",
       "    <tr>\n",
       "      <th>0</th>\n",
       "      <td>12</td>\n",
       "      <td>0.0249</td>\n",
       "      <td>8259.0</td>\n",
       "      <td>8300.0</td>\n",
       "      <td>8211.0</td>\n",
       "      <td>260.0</td>\n",
       "      <td>316.0</td>\n",
       "      <td>243.0</td>\n",
       "      <td>285.0</td>\n",
       "      <td>210.0</td>\n",
       "      <td>...</td>\n",
       "      <td>45.737942</td>\n",
       "      <td>22.868971</td>\n",
       "      <td>0.0</td>\n",
       "      <td>0.0</td>\n",
       "      <td>1.0</td>\n",
       "      <td>0.0</td>\n",
       "      <td>2002</td>\n",
       "      <td>0.0</td>\n",
       "      <td>1.0</td>\n",
       "      <td>0.0</td>\n",
       "    </tr>\n",
       "    <tr>\n",
       "      <th>1</th>\n",
       "      <td>12</td>\n",
       "      <td>154.3800</td>\n",
       "      <td>8208.0</td>\n",
       "      <td>8294.0</td>\n",
       "      <td>8136.0</td>\n",
       "      <td>120.0</td>\n",
       "      <td>280.0</td>\n",
       "      <td>252.0</td>\n",
       "      <td>291.0</td>\n",
       "      <td>201.0</td>\n",
       "      <td>...</td>\n",
       "      <td>130.289430</td>\n",
       "      <td>52.115772</td>\n",
       "      <td>0.0</td>\n",
       "      <td>0.0</td>\n",
       "      <td>1.0</td>\n",
       "      <td>0.0</td>\n",
       "      <td>2002</td>\n",
       "      <td>0.0</td>\n",
       "      <td>1.0</td>\n",
       "      <td>0.0</td>\n",
       "    </tr>\n",
       "    <tr>\n",
       "      <th>2</th>\n",
       "      <td>12</td>\n",
       "      <td>34.8600</td>\n",
       "      <td>8252.0</td>\n",
       "      <td>8304.0</td>\n",
       "      <td>8146.0</td>\n",
       "      <td>236.0</td>\n",
       "      <td>292.0</td>\n",
       "      <td>234.0</td>\n",
       "      <td>270.0</td>\n",
       "      <td>207.0</td>\n",
       "      <td>...</td>\n",
       "      <td>66.228107</td>\n",
       "      <td>45.531823</td>\n",
       "      <td>0.0</td>\n",
       "      <td>0.0</td>\n",
       "      <td>1.0</td>\n",
       "      <td>0.0</td>\n",
       "      <td>2002</td>\n",
       "      <td>0.0</td>\n",
       "      <td>1.0</td>\n",
       "      <td>0.0</td>\n",
       "    </tr>\n",
       "    <tr>\n",
       "      <th>3</th>\n",
       "      <td>12</td>\n",
       "      <td>34.0300</td>\n",
       "      <td>8146.0</td>\n",
       "      <td>8249.0</td>\n",
       "      <td>8092.0</td>\n",
       "      <td>204.0</td>\n",
       "      <td>284.0</td>\n",
       "      <td>228.0</td>\n",
       "      <td>264.0</td>\n",
       "      <td>201.0</td>\n",
       "      <td>...</td>\n",
       "      <td>35.612346</td>\n",
       "      <td>23.043283</td>\n",
       "      <td>0.0</td>\n",
       "      <td>0.0</td>\n",
       "      <td>1.0</td>\n",
       "      <td>0.0</td>\n",
       "      <td>2002</td>\n",
       "      <td>0.0</td>\n",
       "      <td>1.0</td>\n",
       "      <td>0.0</td>\n",
       "    </tr>\n",
       "    <tr>\n",
       "      <th>4</th>\n",
       "      <td>12</td>\n",
       "      <td>4.9800</td>\n",
       "      <td>8341.0</td>\n",
       "      <td>8376.0</td>\n",
       "      <td>8259.0</td>\n",
       "      <td>144.0</td>\n",
       "      <td>316.0</td>\n",
       "      <td>237.0</td>\n",
       "      <td>279.0</td>\n",
       "      <td>213.0</td>\n",
       "      <td>...</td>\n",
       "      <td>15.951632</td>\n",
       "      <td>8.700890</td>\n",
       "      <td>0.0</td>\n",
       "      <td>0.0</td>\n",
       "      <td>1.0</td>\n",
       "      <td>0.0</td>\n",
       "      <td>2002</td>\n",
       "      <td>0.0</td>\n",
       "      <td>1.0</td>\n",
       "      <td>0.0</td>\n",
       "    </tr>\n",
       "  </tbody>\n",
       "</table>\n",
       "<p>5 rows × 21 columns</p>\n",
       "</div>"
      ],
      "text/plain": [
       "   Park_ID      Var1  Average_Atmospheric_Pressure  Max_Atmospheric_Pressure  \\\n",
       "0       12    0.0249                        8259.0                    8300.0   \n",
       "1       12  154.3800                        8208.0                    8294.0   \n",
       "2       12   34.8600                        8252.0                    8304.0   \n",
       "3       12   34.0300                        8146.0                    8249.0   \n",
       "4       12    4.9800                        8341.0                    8376.0   \n",
       "\n",
       "   Min_Atmospheric_Pressure  Min_Ambient_Pollution  Max_Ambient_Pollution  \\\n",
       "0                    8211.0                  260.0                  316.0   \n",
       "1                    8136.0                  120.0                  280.0   \n",
       "2                    8146.0                  236.0                  292.0   \n",
       "3                    8092.0                  204.0                  284.0   \n",
       "4                    8259.0                  144.0                  316.0   \n",
       "\n",
       "   Average_Moisture_In_Park  Max_Moisture_In_Park  Min_Moisture_In_Park  \\\n",
       "0                     243.0                 285.0                 210.0   \n",
       "1                     252.0                 291.0                 201.0   \n",
       "2                     234.0                 270.0                 207.0   \n",
       "3                     228.0                 264.0                 201.0   \n",
       "4                     237.0                 279.0                 213.0   \n",
       "\n",
       "          ...           Max_Wind_Speed  Min_Wind_Speed  location_1  \\\n",
       "0         ...                45.737942       22.868971         0.0   \n",
       "1         ...               130.289430       52.115772         0.0   \n",
       "2         ...                66.228107       45.531823         0.0   \n",
       "3         ...                35.612346       23.043283         0.0   \n",
       "4         ...                15.951632        8.700890         0.0   \n",
       "\n",
       "   location_2  location_3  location_4  year  month_bucket_high  \\\n",
       "0         0.0         1.0         0.0  2002                0.0   \n",
       "1         0.0         1.0         0.0  2002                0.0   \n",
       "2         0.0         1.0         0.0  2002                0.0   \n",
       "3         0.0         1.0         0.0  2002                0.0   \n",
       "4         0.0         1.0         0.0  2002                0.0   \n",
       "\n",
       "   month_bucket_low  month_bucket_medium  \n",
       "0               1.0                  0.0  \n",
       "1               1.0                  0.0  \n",
       "2               1.0                  0.0  \n",
       "3               1.0                  0.0  \n",
       "4               1.0                  0.0  \n",
       "\n",
       "[5 rows x 21 columns]"
      ]
     },
     "execution_count": 101,
     "metadata": {},
     "output_type": "execute_result"
    }
   ],
   "source": [
    "test_features.head()"
   ]
  },
  {
   "cell_type": "code",
   "execution_count": 102,
   "metadata": {
    "collapsed": true
   },
   "outputs": [],
   "source": [
    "from sklearn.ensemble import RandomForestRegressor\n",
    "from sklearn.grid_search import GridSearchCV"
   ]
  },
  {
   "cell_type": "code",
   "execution_count": 120,
   "metadata": {
    "collapsed": false
   },
   "outputs": [
    {
     "data": {
      "text/plain": [
       "GridSearchCV(cv=5, error_score='raise',\n",
       "       estimator=RandomForestRegressor(bootstrap=True, criterion='mse', max_depth=None,\n",
       "           max_features='auto', max_leaf_nodes=None, min_samples_leaf=1,\n",
       "           min_samples_split=2, min_weight_fraction_leaf=0.0,\n",
       "           n_estimators=10, n_jobs=1, oob_score=False, random_state=None,\n",
       "           verbose=0, warm_start=False),\n",
       "       fit_params={}, iid=True, n_jobs=1,\n",
       "       param_grid={'n_estimators': [100]}, pre_dispatch='2*n_jobs',\n",
       "       refit=True, scoring='mean_squared_error', verbose=0)"
      ]
     },
     "execution_count": 120,
     "metadata": {},
     "output_type": "execute_result"
    }
   ],
   "source": [
    "# Tuning hyper-parameters for RMSE\n",
    "\n",
    "# Set the parameters by cross-validation\n",
    "n_range = range(100, 150, 50)\n",
    "tuned_parameters = {'n_estimators': n_range}\n",
    "\n",
    "rf = GridSearchCV(RandomForestRegressor(), tuned_parameters, cv=5, scoring='mean_squared_error')\n",
    "rf.fit(train_features.drop(['location_4', 'month_bucket_high'], axis=1), train_target)"
   ]
  },
  {
   "cell_type": "code",
   "execution_count": 104,
   "metadata": {
    "collapsed": false
   },
   "outputs": [
    {
     "name": "stdout",
     "output_type": "stream",
     "text": [
      "[mean: -20148.82324, std: 1590.67151, params: {'n_estimators': 100}]\n",
      "Average Error = 141.94655065\n",
      "Min Error = 141.94655065\n",
      "Best parameters = \n",
      "{'n_estimators': 100}\n",
      "RandomForestRegressor(bootstrap=True, criterion='mse', max_depth=None,\n",
      "           max_features='auto', max_leaf_nodes=None, min_samples_leaf=1,\n",
      "           min_samples_split=2, min_weight_fraction_leaf=0.0,\n",
      "           n_estimators=100, n_jobs=1, oob_score=False, random_state=None,\n",
      "           verbose=0, warm_start=False)\n"
     ]
    }
   ],
   "source": [
    "print rf.grid_scores_\n",
    "print 'Average Error = ' + str(np.sqrt(np.abs(rf.grid_scores_[0][1])))\n",
    "print 'Min Error = ' + str(np.sqrt(np.abs(rf.best_score_)))\n",
    "print 'Best parameters = '\n",
    "print str(np.sqrt(np.abs(abrf.best_params_)))\n",
    "print rf.best_estimator_"
   ]
  },
  {
   "cell_type": "code",
   "execution_count": 111,
   "metadata": {
    "collapsed": false
   },
   "outputs": [],
   "source": [
    "predicted = rf.predict(test_features)"
   ]
  },
  {
   "cell_type": "code",
   "execution_count": 112,
   "metadata": {
    "collapsed": false
   },
   "outputs": [
    {
     "data": {
      "text/plain": [
       "array([ 1129.99,  1082.01,  1079.82, ...,  1041.97,   943.51,  1081.81])"
      ]
     },
     "execution_count": 112,
     "metadata": {},
     "output_type": "execute_result"
    }
   ],
   "source": [
    "predicted"
   ]
  },
  {
   "cell_type": "code",
   "execution_count": 113,
   "metadata": {
    "collapsed": false
   },
   "outputs": [
    {
     "data": {
      "text/plain": [
       "array([1130, 1082, 1080, ..., 1042,  944, 1082])"
      ]
     },
     "execution_count": 113,
     "metadata": {},
     "output_type": "execute_result"
    }
   ],
   "source": [
    "predicted = np.round(predicted, decimals=0).astype(int)\n",
    "predicted"
   ]
  },
  {
   "cell_type": "code",
   "execution_count": 115,
   "metadata": {
    "collapsed": false
   },
   "outputs": [],
   "source": [
    "solution = pd.DataFrame(test_data['ID'])"
   ]
  },
  {
   "cell_type": "code",
   "execution_count": 116,
   "metadata": {
    "collapsed": true
   },
   "outputs": [],
   "source": [
    "solution = pd.concat([solution, pd.DataFrame(predicted, columns=['Footfall'])], axis=1)"
   ]
  },
  {
   "cell_type": "code",
   "execution_count": 117,
   "metadata": {
    "collapsed": false
   },
   "outputs": [
    {
     "data": {
      "text/html": [
       "<div>\n",
       "<table border=\"1\" class=\"dataframe\">\n",
       "  <thead>\n",
       "    <tr style=\"text-align: right;\">\n",
       "      <th></th>\n",
       "      <th>ID</th>\n",
       "      <th>Footfall</th>\n",
       "    </tr>\n",
       "  </thead>\n",
       "  <tbody>\n",
       "    <tr>\n",
       "      <th>0</th>\n",
       "      <td>3725712</td>\n",
       "      <td>1130</td>\n",
       "    </tr>\n",
       "    <tr>\n",
       "      <th>1</th>\n",
       "      <td>3725812</td>\n",
       "      <td>1082</td>\n",
       "    </tr>\n",
       "    <tr>\n",
       "      <th>2</th>\n",
       "      <td>3725912</td>\n",
       "      <td>1080</td>\n",
       "    </tr>\n",
       "    <tr>\n",
       "      <th>3</th>\n",
       "      <td>3726012</td>\n",
       "      <td>1040</td>\n",
       "    </tr>\n",
       "    <tr>\n",
       "      <th>4</th>\n",
       "      <td>3726112</td>\n",
       "      <td>1053</td>\n",
       "    </tr>\n",
       "    <tr>\n",
       "      <th>5</th>\n",
       "      <td>3726212</td>\n",
       "      <td>1004</td>\n",
       "    </tr>\n",
       "    <tr>\n",
       "      <th>6</th>\n",
       "      <td>3726312</td>\n",
       "      <td>1019</td>\n",
       "    </tr>\n",
       "    <tr>\n",
       "      <th>7</th>\n",
       "      <td>3726412</td>\n",
       "      <td>1008</td>\n",
       "    </tr>\n",
       "    <tr>\n",
       "      <th>8</th>\n",
       "      <td>3726512</td>\n",
       "      <td>956</td>\n",
       "    </tr>\n",
       "    <tr>\n",
       "      <th>9</th>\n",
       "      <td>3726612</td>\n",
       "      <td>1117</td>\n",
       "    </tr>\n",
       "    <tr>\n",
       "      <th>10</th>\n",
       "      <td>3726712</td>\n",
       "      <td>1107</td>\n",
       "    </tr>\n",
       "    <tr>\n",
       "      <th>11</th>\n",
       "      <td>3726812</td>\n",
       "      <td>1038</td>\n",
       "    </tr>\n",
       "    <tr>\n",
       "      <th>12</th>\n",
       "      <td>3726912</td>\n",
       "      <td>1032</td>\n",
       "    </tr>\n",
       "    <tr>\n",
       "      <th>13</th>\n",
       "      <td>3727012</td>\n",
       "      <td>960</td>\n",
       "    </tr>\n",
       "    <tr>\n",
       "      <th>14</th>\n",
       "      <td>3727112</td>\n",
       "      <td>937</td>\n",
       "    </tr>\n",
       "    <tr>\n",
       "      <th>15</th>\n",
       "      <td>3727212</td>\n",
       "      <td>931</td>\n",
       "    </tr>\n",
       "    <tr>\n",
       "      <th>16</th>\n",
       "      <td>3727312</td>\n",
       "      <td>1090</td>\n",
       "    </tr>\n",
       "    <tr>\n",
       "      <th>17</th>\n",
       "      <td>3727412</td>\n",
       "      <td>1063</td>\n",
       "    </tr>\n",
       "    <tr>\n",
       "      <th>18</th>\n",
       "      <td>3727512</td>\n",
       "      <td>1078</td>\n",
       "    </tr>\n",
       "    <tr>\n",
       "      <th>19</th>\n",
       "      <td>3727612</td>\n",
       "      <td>1092</td>\n",
       "    </tr>\n",
       "    <tr>\n",
       "      <th>20</th>\n",
       "      <td>3727712</td>\n",
       "      <td>1042</td>\n",
       "    </tr>\n",
       "    <tr>\n",
       "      <th>21</th>\n",
       "      <td>3727812</td>\n",
       "      <td>1116</td>\n",
       "    </tr>\n",
       "    <tr>\n",
       "      <th>22</th>\n",
       "      <td>3727912</td>\n",
       "      <td>984</td>\n",
       "    </tr>\n",
       "    <tr>\n",
       "      <th>23</th>\n",
       "      <td>3728012</td>\n",
       "      <td>1116</td>\n",
       "    </tr>\n",
       "    <tr>\n",
       "      <th>24</th>\n",
       "      <td>3728112</td>\n",
       "      <td>1178</td>\n",
       "    </tr>\n",
       "    <tr>\n",
       "      <th>25</th>\n",
       "      <td>3728212</td>\n",
       "      <td>1126</td>\n",
       "    </tr>\n",
       "    <tr>\n",
       "      <th>26</th>\n",
       "      <td>3728312</td>\n",
       "      <td>927</td>\n",
       "    </tr>\n",
       "    <tr>\n",
       "      <th>27</th>\n",
       "      <td>3728412</td>\n",
       "      <td>957</td>\n",
       "    </tr>\n",
       "    <tr>\n",
       "      <th>28</th>\n",
       "      <td>3728512</td>\n",
       "      <td>958</td>\n",
       "    </tr>\n",
       "    <tr>\n",
       "      <th>29</th>\n",
       "      <td>3728612</td>\n",
       "      <td>805</td>\n",
       "    </tr>\n",
       "    <tr>\n",
       "      <th>...</th>\n",
       "      <td>...</td>\n",
       "      <td>...</td>\n",
       "    </tr>\n",
       "    <tr>\n",
       "      <th>39390</th>\n",
       "      <td>3868739</td>\n",
       "      <td>1120</td>\n",
       "    </tr>\n",
       "    <tr>\n",
       "      <th>39391</th>\n",
       "      <td>3868839</td>\n",
       "      <td>1062</td>\n",
       "    </tr>\n",
       "    <tr>\n",
       "      <th>39392</th>\n",
       "      <td>3868939</td>\n",
       "      <td>1085</td>\n",
       "    </tr>\n",
       "    <tr>\n",
       "      <th>39393</th>\n",
       "      <td>3869039</td>\n",
       "      <td>1208</td>\n",
       "    </tr>\n",
       "    <tr>\n",
       "      <th>39394</th>\n",
       "      <td>3869139</td>\n",
       "      <td>1129</td>\n",
       "    </tr>\n",
       "    <tr>\n",
       "      <th>39395</th>\n",
       "      <td>3869239</td>\n",
       "      <td>1057</td>\n",
       "    </tr>\n",
       "    <tr>\n",
       "      <th>39396</th>\n",
       "      <td>3869339</td>\n",
       "      <td>1093</td>\n",
       "    </tr>\n",
       "    <tr>\n",
       "      <th>39397</th>\n",
       "      <td>3869439</td>\n",
       "      <td>1063</td>\n",
       "    </tr>\n",
       "    <tr>\n",
       "      <th>39398</th>\n",
       "      <td>3869539</td>\n",
       "      <td>1160</td>\n",
       "    </tr>\n",
       "    <tr>\n",
       "      <th>39399</th>\n",
       "      <td>3869639</td>\n",
       "      <td>1110</td>\n",
       "    </tr>\n",
       "    <tr>\n",
       "      <th>39400</th>\n",
       "      <td>3869739</td>\n",
       "      <td>1021</td>\n",
       "    </tr>\n",
       "    <tr>\n",
       "      <th>39401</th>\n",
       "      <td>3869839</td>\n",
       "      <td>991</td>\n",
       "    </tr>\n",
       "    <tr>\n",
       "      <th>39402</th>\n",
       "      <td>3869939</td>\n",
       "      <td>1008</td>\n",
       "    </tr>\n",
       "    <tr>\n",
       "      <th>39403</th>\n",
       "      <td>3870039</td>\n",
       "      <td>913</td>\n",
       "    </tr>\n",
       "    <tr>\n",
       "      <th>39404</th>\n",
       "      <td>3870139</td>\n",
       "      <td>1043</td>\n",
       "    </tr>\n",
       "    <tr>\n",
       "      <th>39405</th>\n",
       "      <td>3870239</td>\n",
       "      <td>1132</td>\n",
       "    </tr>\n",
       "    <tr>\n",
       "      <th>39406</th>\n",
       "      <td>3870339</td>\n",
       "      <td>1080</td>\n",
       "    </tr>\n",
       "    <tr>\n",
       "      <th>39407</th>\n",
       "      <td>3870439</td>\n",
       "      <td>1058</td>\n",
       "    </tr>\n",
       "    <tr>\n",
       "      <th>39408</th>\n",
       "      <td>3870539</td>\n",
       "      <td>1095</td>\n",
       "    </tr>\n",
       "    <tr>\n",
       "      <th>39409</th>\n",
       "      <td>3870639</td>\n",
       "      <td>1138</td>\n",
       "    </tr>\n",
       "    <tr>\n",
       "      <th>39410</th>\n",
       "      <td>3870739</td>\n",
       "      <td>1138</td>\n",
       "    </tr>\n",
       "    <tr>\n",
       "      <th>39411</th>\n",
       "      <td>3870839</td>\n",
       "      <td>1208</td>\n",
       "    </tr>\n",
       "    <tr>\n",
       "      <th>39412</th>\n",
       "      <td>3870939</td>\n",
       "      <td>1127</td>\n",
       "    </tr>\n",
       "    <tr>\n",
       "      <th>39413</th>\n",
       "      <td>3871039</td>\n",
       "      <td>1089</td>\n",
       "    </tr>\n",
       "    <tr>\n",
       "      <th>39414</th>\n",
       "      <td>3871139</td>\n",
       "      <td>1138</td>\n",
       "    </tr>\n",
       "    <tr>\n",
       "      <th>39415</th>\n",
       "      <td>3871239</td>\n",
       "      <td>1205</td>\n",
       "    </tr>\n",
       "    <tr>\n",
       "      <th>39416</th>\n",
       "      <td>3871339</td>\n",
       "      <td>1053</td>\n",
       "    </tr>\n",
       "    <tr>\n",
       "      <th>39417</th>\n",
       "      <td>3871439</td>\n",
       "      <td>1042</td>\n",
       "    </tr>\n",
       "    <tr>\n",
       "      <th>39418</th>\n",
       "      <td>3871539</td>\n",
       "      <td>944</td>\n",
       "    </tr>\n",
       "    <tr>\n",
       "      <th>39419</th>\n",
       "      <td>3871639</td>\n",
       "      <td>1082</td>\n",
       "    </tr>\n",
       "  </tbody>\n",
       "</table>\n",
       "<p>39420 rows × 2 columns</p>\n",
       "</div>"
      ],
      "text/plain": [
       "            ID  Footfall\n",
       "0      3725712      1130\n",
       "1      3725812      1082\n",
       "2      3725912      1080\n",
       "3      3726012      1040\n",
       "4      3726112      1053\n",
       "5      3726212      1004\n",
       "6      3726312      1019\n",
       "7      3726412      1008\n",
       "8      3726512       956\n",
       "9      3726612      1117\n",
       "10     3726712      1107\n",
       "11     3726812      1038\n",
       "12     3726912      1032\n",
       "13     3727012       960\n",
       "14     3727112       937\n",
       "15     3727212       931\n",
       "16     3727312      1090\n",
       "17     3727412      1063\n",
       "18     3727512      1078\n",
       "19     3727612      1092\n",
       "20     3727712      1042\n",
       "21     3727812      1116\n",
       "22     3727912       984\n",
       "23     3728012      1116\n",
       "24     3728112      1178\n",
       "25     3728212      1126\n",
       "26     3728312       927\n",
       "27     3728412       957\n",
       "28     3728512       958\n",
       "29     3728612       805\n",
       "...        ...       ...\n",
       "39390  3868739      1120\n",
       "39391  3868839      1062\n",
       "39392  3868939      1085\n",
       "39393  3869039      1208\n",
       "39394  3869139      1129\n",
       "39395  3869239      1057\n",
       "39396  3869339      1093\n",
       "39397  3869439      1063\n",
       "39398  3869539      1160\n",
       "39399  3869639      1110\n",
       "39400  3869739      1021\n",
       "39401  3869839       991\n",
       "39402  3869939      1008\n",
       "39403  3870039       913\n",
       "39404  3870139      1043\n",
       "39405  3870239      1132\n",
       "39406  3870339      1080\n",
       "39407  3870439      1058\n",
       "39408  3870539      1095\n",
       "39409  3870639      1138\n",
       "39410  3870739      1138\n",
       "39411  3870839      1208\n",
       "39412  3870939      1127\n",
       "39413  3871039      1089\n",
       "39414  3871139      1138\n",
       "39415  3871239      1205\n",
       "39416  3871339      1053\n",
       "39417  3871439      1042\n",
       "39418  3871539       944\n",
       "39419  3871639      1082\n",
       "\n",
       "[39420 rows x 2 columns]"
      ]
     },
     "execution_count": 117,
     "metadata": {},
     "output_type": "execute_result"
    }
   ],
   "source": [
    "solution"
   ]
  },
  {
   "cell_type": "code",
   "execution_count": 118,
   "metadata": {
    "collapsed": true
   },
   "outputs": [],
   "source": [
    "solution.to_csv('solution.csv', index=False)"
   ]
  },
  {
   "cell_type": "code",
   "execution_count": null,
   "metadata": {
    "collapsed": true
   },
   "outputs": [],
   "source": []
  }
 ],
 "metadata": {
  "kernelspec": {
   "display_name": "Python [Root]",
   "language": "python",
   "name": "Python [Root]"
  },
  "language_info": {
   "codemirror_mode": {
    "name": "ipython",
    "version": 2
   },
   "file_extension": ".py",
   "mimetype": "text/x-python",
   "name": "python",
   "nbconvert_exporter": "python",
   "pygments_lexer": "ipython2",
   "version": "2.7.12"
  }
 },
 "nbformat": 4,
 "nbformat_minor": 0
}
