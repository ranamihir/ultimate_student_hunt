{
 "cells": [
  {
   "cell_type": "code",
   "execution_count": 1,
   "metadata": {
    "collapsed": false
   },
   "outputs": [],
   "source": [
    "# Initial imports\n",
    "\n",
    "import numpy as np\n",
    "import pandas as pd \n",
    "from pandas import DataFrame, Series\n",
    "import matplotlib.pyplot as plt\n",
    "import seaborn as sns\n",
    "from scipy import stats\n",
    "\n",
    "%matplotlib inline"
   ]
  },
  {
   "cell_type": "code",
   "execution_count": 2,
   "metadata": {
    "collapsed": false
   },
   "outputs": [
    {
     "name": "stderr",
     "output_type": "stream",
     "text": [
      "/usr/local/lib/python2.7/dist-packages/matplotlib-2.0.0b1-py2.7-linux-x86_64.egg/matplotlib/__init__.py:895: UserWarning: axes.color_cycle is deprecated and replaced with axes.prop_cycle; please use the latter.\n",
      "  warnings.warn(self.msg_depr % (key, alt_key))\n"
     ]
    }
   ],
   "source": [
    "# Imports for better visualization\n",
    "\n",
    "from collections import defaultdict\n",
    "import json\n",
    "\n",
    "import scipy as sp\n",
    "\n",
    "from matplotlib import rcParams\n",
    "import matplotlib.cm as cm\n",
    "import matplotlib as mpl\n",
    "\n",
    "#colorbrewer2 Dark2 qualitative color table\n",
    "dark2_colors = [(0.10588235294117647, 0.6196078431372549, 0.4666666666666667),\n",
    "                (0.8509803921568627, 0.37254901960784315, 0.00784313725490196),\n",
    "                (0.4588235294117647, 0.4392156862745098, 0.7019607843137254),\n",
    "                (0.9058823529411765, 0.1607843137254902, 0.5411764705882353),\n",
    "                (0.4, 0.6509803921568628, 0.11764705882352941),\n",
    "                (0.9019607843137255, 0.6705882352941176, 0.00784313725490196),\n",
    "                (0.6509803921568628, 0.4627450980392157, 0.11372549019607843)]\n",
    "\n",
    "rcParams['figure.figsize'] = (10, 6)\n",
    "rcParams['figure.dpi'] = 150\n",
    "rcParams['axes.color_cycle'] = dark2_colors\n",
    "rcParams['lines.linewidth'] = 2\n",
    "rcParams['axes.facecolor'] = 'white'\n",
    "rcParams['font.size'] = 14\n",
    "rcParams['patch.edgecolor'] = 'white'\n",
    "rcParams['patch.facecolor'] = dark2_colors[0]\n",
    "rcParams['font.family'] = 'StixGeneral'"
   ]
  },
  {
   "cell_type": "code",
   "execution_count": 3,
   "metadata": {
    "collapsed": false
   },
   "outputs": [],
   "source": [
    "# Load training data\n",
    "train_data = pd.read_csv('Dataset/Train.csv')"
   ]
  },
  {
   "cell_type": "code",
   "execution_count": 4,
   "metadata": {
    "collapsed": true
   },
   "outputs": [],
   "source": [
    "# Load testing data\n",
    "test_data = pd.read_csv('Dataset/Test.csv')"
   ]
  },
  {
   "cell_type": "code",
   "execution_count": 5,
   "metadata": {
    "collapsed": false
   },
   "outputs": [
    {
     "data": {
      "text/html": [
       "<div>\n",
       "<table border=\"1\" class=\"dataframe\">\n",
       "  <thead>\n",
       "    <tr style=\"text-align: right;\">\n",
       "      <th></th>\n",
       "      <th>ID</th>\n",
       "      <th>Park_ID</th>\n",
       "      <th>Date</th>\n",
       "      <th>Direction_Of_Wind</th>\n",
       "      <th>Average_Breeze_Speed</th>\n",
       "      <th>Max_Breeze_Speed</th>\n",
       "      <th>Min_Breeze_Speed</th>\n",
       "      <th>Var1</th>\n",
       "      <th>Average_Atmospheric_Pressure</th>\n",
       "      <th>Max_Atmospheric_Pressure</th>\n",
       "      <th>Min_Atmospheric_Pressure</th>\n",
       "      <th>Min_Ambient_Pollution</th>\n",
       "      <th>Max_Ambient_Pollution</th>\n",
       "      <th>Average_Moisture_In_Park</th>\n",
       "      <th>Max_Moisture_In_Park</th>\n",
       "      <th>Min_Moisture_In_Park</th>\n",
       "      <th>Location_Type</th>\n",
       "      <th>Footfall</th>\n",
       "    </tr>\n",
       "  </thead>\n",
       "  <tbody>\n",
       "    <tr>\n",
       "      <th>0</th>\n",
       "      <td>3311712</td>\n",
       "      <td>12</td>\n",
       "      <td>01-09-1990</td>\n",
       "      <td>194.0</td>\n",
       "      <td>37.24</td>\n",
       "      <td>60.8</td>\n",
       "      <td>15.2</td>\n",
       "      <td>92.1300</td>\n",
       "      <td>8225.0</td>\n",
       "      <td>8259.0</td>\n",
       "      <td>8211.0</td>\n",
       "      <td>92.0</td>\n",
       "      <td>304.0</td>\n",
       "      <td>255.0</td>\n",
       "      <td>288.0</td>\n",
       "      <td>222.0</td>\n",
       "      <td>3</td>\n",
       "      <td>1406</td>\n",
       "    </tr>\n",
       "    <tr>\n",
       "      <th>1</th>\n",
       "      <td>3311812</td>\n",
       "      <td>12</td>\n",
       "      <td>02-09-1990</td>\n",
       "      <td>285.0</td>\n",
       "      <td>32.68</td>\n",
       "      <td>60.8</td>\n",
       "      <td>7.6</td>\n",
       "      <td>14.1100</td>\n",
       "      <td>8232.0</td>\n",
       "      <td>8280.0</td>\n",
       "      <td>8205.0</td>\n",
       "      <td>172.0</td>\n",
       "      <td>332.0</td>\n",
       "      <td>252.0</td>\n",
       "      <td>297.0</td>\n",
       "      <td>204.0</td>\n",
       "      <td>3</td>\n",
       "      <td>1409</td>\n",
       "    </tr>\n",
       "    <tr>\n",
       "      <th>2</th>\n",
       "      <td>3311912</td>\n",
       "      <td>12</td>\n",
       "      <td>03-09-1990</td>\n",
       "      <td>319.0</td>\n",
       "      <td>43.32</td>\n",
       "      <td>60.8</td>\n",
       "      <td>15.2</td>\n",
       "      <td>35.6900</td>\n",
       "      <td>8321.0</td>\n",
       "      <td>8355.0</td>\n",
       "      <td>8283.0</td>\n",
       "      <td>236.0</td>\n",
       "      <td>292.0</td>\n",
       "      <td>219.0</td>\n",
       "      <td>279.0</td>\n",
       "      <td>165.0</td>\n",
       "      <td>3</td>\n",
       "      <td>1386</td>\n",
       "    </tr>\n",
       "    <tr>\n",
       "      <th>3</th>\n",
       "      <td>3312012</td>\n",
       "      <td>12</td>\n",
       "      <td>04-09-1990</td>\n",
       "      <td>297.0</td>\n",
       "      <td>25.84</td>\n",
       "      <td>38.0</td>\n",
       "      <td>7.6</td>\n",
       "      <td>0.0249</td>\n",
       "      <td>8379.0</td>\n",
       "      <td>8396.0</td>\n",
       "      <td>8358.0</td>\n",
       "      <td>272.0</td>\n",
       "      <td>324.0</td>\n",
       "      <td>225.0</td>\n",
       "      <td>261.0</td>\n",
       "      <td>192.0</td>\n",
       "      <td>3</td>\n",
       "      <td>1365</td>\n",
       "    </tr>\n",
       "    <tr>\n",
       "      <th>4</th>\n",
       "      <td>3312112</td>\n",
       "      <td>12</td>\n",
       "      <td>05-09-1990</td>\n",
       "      <td>207.0</td>\n",
       "      <td>28.88</td>\n",
       "      <td>45.6</td>\n",
       "      <td>7.6</td>\n",
       "      <td>0.8300</td>\n",
       "      <td>8372.0</td>\n",
       "      <td>8393.0</td>\n",
       "      <td>8335.0</td>\n",
       "      <td>236.0</td>\n",
       "      <td>332.0</td>\n",
       "      <td>234.0</td>\n",
       "      <td>273.0</td>\n",
       "      <td>183.0</td>\n",
       "      <td>3</td>\n",
       "      <td>1413</td>\n",
       "    </tr>\n",
       "  </tbody>\n",
       "</table>\n",
       "</div>"
      ],
      "text/plain": [
       "        ID  Park_ID        Date  Direction_Of_Wind  Average_Breeze_Speed  \\\n",
       "0  3311712       12  01-09-1990              194.0                 37.24   \n",
       "1  3311812       12  02-09-1990              285.0                 32.68   \n",
       "2  3311912       12  03-09-1990              319.0                 43.32   \n",
       "3  3312012       12  04-09-1990              297.0                 25.84   \n",
       "4  3312112       12  05-09-1990              207.0                 28.88   \n",
       "\n",
       "   Max_Breeze_Speed  Min_Breeze_Speed     Var1  Average_Atmospheric_Pressure  \\\n",
       "0              60.8              15.2  92.1300                        8225.0   \n",
       "1              60.8               7.6  14.1100                        8232.0   \n",
       "2              60.8              15.2  35.6900                        8321.0   \n",
       "3              38.0               7.6   0.0249                        8379.0   \n",
       "4              45.6               7.6   0.8300                        8372.0   \n",
       "\n",
       "   Max_Atmospheric_Pressure  Min_Atmospheric_Pressure  Min_Ambient_Pollution  \\\n",
       "0                    8259.0                    8211.0                   92.0   \n",
       "1                    8280.0                    8205.0                  172.0   \n",
       "2                    8355.0                    8283.0                  236.0   \n",
       "3                    8396.0                    8358.0                  272.0   \n",
       "4                    8393.0                    8335.0                  236.0   \n",
       "\n",
       "   Max_Ambient_Pollution  Average_Moisture_In_Park  Max_Moisture_In_Park  \\\n",
       "0                  304.0                     255.0                 288.0   \n",
       "1                  332.0                     252.0                 297.0   \n",
       "2                  292.0                     219.0                 279.0   \n",
       "3                  324.0                     225.0                 261.0   \n",
       "4                  332.0                     234.0                 273.0   \n",
       "\n",
       "   Min_Moisture_In_Park  Location_Type  Footfall  \n",
       "0                 222.0              3      1406  \n",
       "1                 204.0              3      1409  \n",
       "2                 165.0              3      1386  \n",
       "3                 192.0              3      1365  \n",
       "4                 183.0              3      1413  "
      ]
     },
     "execution_count": 5,
     "metadata": {},
     "output_type": "execute_result"
    }
   ],
   "source": [
    "train_data.head()"
   ]
  },
  {
   "cell_type": "code",
   "execution_count": 6,
   "metadata": {
    "collapsed": false
   },
   "outputs": [
    {
     "data": {
      "text/html": [
       "<div>\n",
       "<table border=\"1\" class=\"dataframe\">\n",
       "  <thead>\n",
       "    <tr style=\"text-align: right;\">\n",
       "      <th></th>\n",
       "      <th>ID</th>\n",
       "      <th>Park_ID</th>\n",
       "      <th>Date</th>\n",
       "      <th>Direction_Of_Wind</th>\n",
       "      <th>Average_Breeze_Speed</th>\n",
       "      <th>Max_Breeze_Speed</th>\n",
       "      <th>Min_Breeze_Speed</th>\n",
       "      <th>Var1</th>\n",
       "      <th>Average_Atmospheric_Pressure</th>\n",
       "      <th>Max_Atmospheric_Pressure</th>\n",
       "      <th>Min_Atmospheric_Pressure</th>\n",
       "      <th>Min_Ambient_Pollution</th>\n",
       "      <th>Max_Ambient_Pollution</th>\n",
       "      <th>Average_Moisture_In_Park</th>\n",
       "      <th>Max_Moisture_In_Park</th>\n",
       "      <th>Min_Moisture_In_Park</th>\n",
       "      <th>Location_Type</th>\n",
       "    </tr>\n",
       "  </thead>\n",
       "  <tbody>\n",
       "    <tr>\n",
       "      <th>0</th>\n",
       "      <td>3725712</td>\n",
       "      <td>12</td>\n",
       "      <td>01-01-2002</td>\n",
       "      <td>233.0</td>\n",
       "      <td>55.48</td>\n",
       "      <td>76.0</td>\n",
       "      <td>38.0</td>\n",
       "      <td>0.0249</td>\n",
       "      <td>8259.0</td>\n",
       "      <td>8300.0</td>\n",
       "      <td>8211.0</td>\n",
       "      <td>260.0</td>\n",
       "      <td>316.0</td>\n",
       "      <td>243.0</td>\n",
       "      <td>285.0</td>\n",
       "      <td>210.0</td>\n",
       "      <td>3</td>\n",
       "    </tr>\n",
       "    <tr>\n",
       "      <th>1</th>\n",
       "      <td>3725812</td>\n",
       "      <td>12</td>\n",
       "      <td>02-01-2002</td>\n",
       "      <td>211.0</td>\n",
       "      <td>108.68</td>\n",
       "      <td>152.0</td>\n",
       "      <td>60.8</td>\n",
       "      <td>154.3800</td>\n",
       "      <td>8208.0</td>\n",
       "      <td>8294.0</td>\n",
       "      <td>8136.0</td>\n",
       "      <td>120.0</td>\n",
       "      <td>280.0</td>\n",
       "      <td>252.0</td>\n",
       "      <td>291.0</td>\n",
       "      <td>201.0</td>\n",
       "      <td>3</td>\n",
       "    </tr>\n",
       "    <tr>\n",
       "      <th>2</th>\n",
       "      <td>3725912</td>\n",
       "      <td>12</td>\n",
       "      <td>03-01-2002</td>\n",
       "      <td>237.0</td>\n",
       "      <td>95.76</td>\n",
       "      <td>121.6</td>\n",
       "      <td>83.6</td>\n",
       "      <td>34.8600</td>\n",
       "      <td>8252.0</td>\n",
       "      <td>8304.0</td>\n",
       "      <td>8146.0</td>\n",
       "      <td>236.0</td>\n",
       "      <td>292.0</td>\n",
       "      <td>234.0</td>\n",
       "      <td>270.0</td>\n",
       "      <td>207.0</td>\n",
       "      <td>3</td>\n",
       "    </tr>\n",
       "    <tr>\n",
       "      <th>3</th>\n",
       "      <td>3726012</td>\n",
       "      <td>12</td>\n",
       "      <td>04-01-2002</td>\n",
       "      <td>286.0</td>\n",
       "      <td>101.08</td>\n",
       "      <td>129.2</td>\n",
       "      <td>83.6</td>\n",
       "      <td>34.0300</td>\n",
       "      <td>8146.0</td>\n",
       "      <td>8249.0</td>\n",
       "      <td>8092.0</td>\n",
       "      <td>204.0</td>\n",
       "      <td>284.0</td>\n",
       "      <td>228.0</td>\n",
       "      <td>264.0</td>\n",
       "      <td>201.0</td>\n",
       "      <td>3</td>\n",
       "    </tr>\n",
       "    <tr>\n",
       "      <th>4</th>\n",
       "      <td>3726112</td>\n",
       "      <td>12</td>\n",
       "      <td>05-01-2002</td>\n",
       "      <td>281.0</td>\n",
       "      <td>63.08</td>\n",
       "      <td>83.6</td>\n",
       "      <td>45.6</td>\n",
       "      <td>4.9800</td>\n",
       "      <td>8341.0</td>\n",
       "      <td>8376.0</td>\n",
       "      <td>8259.0</td>\n",
       "      <td>144.0</td>\n",
       "      <td>316.0</td>\n",
       "      <td>237.0</td>\n",
       "      <td>279.0</td>\n",
       "      <td>213.0</td>\n",
       "      <td>3</td>\n",
       "    </tr>\n",
       "  </tbody>\n",
       "</table>\n",
       "</div>"
      ],
      "text/plain": [
       "        ID  Park_ID        Date  Direction_Of_Wind  Average_Breeze_Speed  \\\n",
       "0  3725712       12  01-01-2002              233.0                 55.48   \n",
       "1  3725812       12  02-01-2002              211.0                108.68   \n",
       "2  3725912       12  03-01-2002              237.0                 95.76   \n",
       "3  3726012       12  04-01-2002              286.0                101.08   \n",
       "4  3726112       12  05-01-2002              281.0                 63.08   \n",
       "\n",
       "   Max_Breeze_Speed  Min_Breeze_Speed      Var1  Average_Atmospheric_Pressure  \\\n",
       "0              76.0              38.0    0.0249                        8259.0   \n",
       "1             152.0              60.8  154.3800                        8208.0   \n",
       "2             121.6              83.6   34.8600                        8252.0   \n",
       "3             129.2              83.6   34.0300                        8146.0   \n",
       "4              83.6              45.6    4.9800                        8341.0   \n",
       "\n",
       "   Max_Atmospheric_Pressure  Min_Atmospheric_Pressure  Min_Ambient_Pollution  \\\n",
       "0                    8300.0                    8211.0                  260.0   \n",
       "1                    8294.0                    8136.0                  120.0   \n",
       "2                    8304.0                    8146.0                  236.0   \n",
       "3                    8249.0                    8092.0                  204.0   \n",
       "4                    8376.0                    8259.0                  144.0   \n",
       "\n",
       "   Max_Ambient_Pollution  Average_Moisture_In_Park  Max_Moisture_In_Park  \\\n",
       "0                  316.0                     243.0                 285.0   \n",
       "1                  280.0                     252.0                 291.0   \n",
       "2                  292.0                     234.0                 270.0   \n",
       "3                  284.0                     228.0                 264.0   \n",
       "4                  316.0                     237.0                 279.0   \n",
       "\n",
       "   Min_Moisture_In_Park  Location_Type  \n",
       "0                 210.0              3  \n",
       "1                 201.0              3  \n",
       "2                 207.0              3  \n",
       "3                 201.0              3  \n",
       "4                 213.0              3  "
      ]
     },
     "execution_count": 6,
     "metadata": {},
     "output_type": "execute_result"
    }
   ],
   "source": [
    "test_data.head()"
   ]
  },
  {
   "cell_type": "code",
   "execution_count": 7,
   "metadata": {
    "collapsed": false
   },
   "outputs": [
    {
     "data": {
      "text/plain": [
       "(114539, 18)"
      ]
     },
     "execution_count": 7,
     "metadata": {},
     "output_type": "execute_result"
    }
   ],
   "source": [
    "train_data.shape"
   ]
  },
  {
   "cell_type": "code",
   "execution_count": 8,
   "metadata": {
    "collapsed": false
   },
   "outputs": [
    {
     "data": {
      "text/plain": [
       "ID                              False\n",
       "Park_ID                         False\n",
       "Date                            False\n",
       "Direction_Of_Wind                True\n",
       "Average_Breeze_Speed             True\n",
       "Max_Breeze_Speed                 True\n",
       "Min_Breeze_Speed                 True\n",
       "Var1                             True\n",
       "Average_Atmospheric_Pressure     True\n",
       "Max_Atmospheric_Pressure         True\n",
       "Min_Atmospheric_Pressure         True\n",
       "Min_Ambient_Pollution            True\n",
       "Max_Ambient_Pollution            True\n",
       "Average_Moisture_In_Park         True\n",
       "Max_Moisture_In_Park             True\n",
       "Min_Moisture_In_Park             True\n",
       "Location_Type                   False\n",
       "Footfall                        False\n",
       "dtype: bool"
      ]
     },
     "execution_count": 8,
     "metadata": {},
     "output_type": "execute_result"
    }
   ],
   "source": [
    "train_data.isnull().any()"
   ]
  },
  {
   "cell_type": "code",
   "execution_count": 9,
   "metadata": {
    "collapsed": false
   },
   "outputs": [
    {
     "data": {
      "text/plain": [
       "(39420, 17)"
      ]
     },
     "execution_count": 9,
     "metadata": {},
     "output_type": "execute_result"
    }
   ],
   "source": [
    "test_data.shape"
   ]
  },
  {
   "cell_type": "code",
   "execution_count": 10,
   "metadata": {
    "collapsed": false
   },
   "outputs": [
    {
     "data": {
      "text/plain": [
       "ID                              False\n",
       "Park_ID                         False\n",
       "Date                            False\n",
       "Direction_Of_Wind                True\n",
       "Average_Breeze_Speed             True\n",
       "Max_Breeze_Speed                 True\n",
       "Min_Breeze_Speed                 True\n",
       "Var1                             True\n",
       "Average_Atmospheric_Pressure     True\n",
       "Max_Atmospheric_Pressure         True\n",
       "Min_Atmospheric_Pressure         True\n",
       "Min_Ambient_Pollution            True\n",
       "Max_Ambient_Pollution            True\n",
       "Average_Moisture_In_Park         True\n",
       "Max_Moisture_In_Park             True\n",
       "Min_Moisture_In_Park             True\n",
       "Location_Type                   False\n",
       "dtype: bool"
      ]
     },
     "execution_count": 10,
     "metadata": {},
     "output_type": "execute_result"
    }
   ],
   "source": [
    "test_data.isnull().any()"
   ]
  },
  {
   "cell_type": "code",
   "execution_count": 11,
   "metadata": {
    "collapsed": true
   },
   "outputs": [],
   "source": [
    "data = train_data.append(test_data, ignore_index=True)"
   ]
  },
  {
   "cell_type": "code",
   "execution_count": 12,
   "metadata": {
    "collapsed": false
   },
   "outputs": [
    {
     "data": {
      "text/html": [
       "<div>\n",
       "<table border=\"1\" class=\"dataframe\">\n",
       "  <thead>\n",
       "    <tr style=\"text-align: right;\">\n",
       "      <th></th>\n",
       "      <th>Average_Atmospheric_Pressure</th>\n",
       "      <th>Average_Breeze_Speed</th>\n",
       "      <th>Average_Moisture_In_Park</th>\n",
       "      <th>Date</th>\n",
       "      <th>Direction_Of_Wind</th>\n",
       "      <th>Footfall</th>\n",
       "      <th>ID</th>\n",
       "      <th>Location_Type</th>\n",
       "      <th>Max_Ambient_Pollution</th>\n",
       "      <th>Max_Atmospheric_Pressure</th>\n",
       "      <th>Max_Breeze_Speed</th>\n",
       "      <th>Max_Moisture_In_Park</th>\n",
       "      <th>Min_Ambient_Pollution</th>\n",
       "      <th>Min_Atmospheric_Pressure</th>\n",
       "      <th>Min_Breeze_Speed</th>\n",
       "      <th>Min_Moisture_In_Park</th>\n",
       "      <th>Park_ID</th>\n",
       "      <th>Var1</th>\n",
       "    </tr>\n",
       "  </thead>\n",
       "  <tbody>\n",
       "    <tr>\n",
       "      <th>0</th>\n",
       "      <td>8225.0</td>\n",
       "      <td>37.24</td>\n",
       "      <td>255.0</td>\n",
       "      <td>01-09-1990</td>\n",
       "      <td>194.0</td>\n",
       "      <td>1406.0</td>\n",
       "      <td>3311712</td>\n",
       "      <td>3</td>\n",
       "      <td>304.0</td>\n",
       "      <td>8259.0</td>\n",
       "      <td>60.8</td>\n",
       "      <td>288.0</td>\n",
       "      <td>92.0</td>\n",
       "      <td>8211.0</td>\n",
       "      <td>15.2</td>\n",
       "      <td>222.0</td>\n",
       "      <td>12</td>\n",
       "      <td>92.1300</td>\n",
       "    </tr>\n",
       "    <tr>\n",
       "      <th>1</th>\n",
       "      <td>8232.0</td>\n",
       "      <td>32.68</td>\n",
       "      <td>252.0</td>\n",
       "      <td>02-09-1990</td>\n",
       "      <td>285.0</td>\n",
       "      <td>1409.0</td>\n",
       "      <td>3311812</td>\n",
       "      <td>3</td>\n",
       "      <td>332.0</td>\n",
       "      <td>8280.0</td>\n",
       "      <td>60.8</td>\n",
       "      <td>297.0</td>\n",
       "      <td>172.0</td>\n",
       "      <td>8205.0</td>\n",
       "      <td>7.6</td>\n",
       "      <td>204.0</td>\n",
       "      <td>12</td>\n",
       "      <td>14.1100</td>\n",
       "    </tr>\n",
       "    <tr>\n",
       "      <th>2</th>\n",
       "      <td>8321.0</td>\n",
       "      <td>43.32</td>\n",
       "      <td>219.0</td>\n",
       "      <td>03-09-1990</td>\n",
       "      <td>319.0</td>\n",
       "      <td>1386.0</td>\n",
       "      <td>3311912</td>\n",
       "      <td>3</td>\n",
       "      <td>292.0</td>\n",
       "      <td>8355.0</td>\n",
       "      <td>60.8</td>\n",
       "      <td>279.0</td>\n",
       "      <td>236.0</td>\n",
       "      <td>8283.0</td>\n",
       "      <td>15.2</td>\n",
       "      <td>165.0</td>\n",
       "      <td>12</td>\n",
       "      <td>35.6900</td>\n",
       "    </tr>\n",
       "    <tr>\n",
       "      <th>3</th>\n",
       "      <td>8379.0</td>\n",
       "      <td>25.84</td>\n",
       "      <td>225.0</td>\n",
       "      <td>04-09-1990</td>\n",
       "      <td>297.0</td>\n",
       "      <td>1365.0</td>\n",
       "      <td>3312012</td>\n",
       "      <td>3</td>\n",
       "      <td>324.0</td>\n",
       "      <td>8396.0</td>\n",
       "      <td>38.0</td>\n",
       "      <td>261.0</td>\n",
       "      <td>272.0</td>\n",
       "      <td>8358.0</td>\n",
       "      <td>7.6</td>\n",
       "      <td>192.0</td>\n",
       "      <td>12</td>\n",
       "      <td>0.0249</td>\n",
       "    </tr>\n",
       "    <tr>\n",
       "      <th>4</th>\n",
       "      <td>8372.0</td>\n",
       "      <td>28.88</td>\n",
       "      <td>234.0</td>\n",
       "      <td>05-09-1990</td>\n",
       "      <td>207.0</td>\n",
       "      <td>1413.0</td>\n",
       "      <td>3312112</td>\n",
       "      <td>3</td>\n",
       "      <td>332.0</td>\n",
       "      <td>8393.0</td>\n",
       "      <td>45.6</td>\n",
       "      <td>273.0</td>\n",
       "      <td>236.0</td>\n",
       "      <td>8335.0</td>\n",
       "      <td>7.6</td>\n",
       "      <td>183.0</td>\n",
       "      <td>12</td>\n",
       "      <td>0.8300</td>\n",
       "    </tr>\n",
       "  </tbody>\n",
       "</table>\n",
       "</div>"
      ],
      "text/plain": [
       "   Average_Atmospheric_Pressure  Average_Breeze_Speed  \\\n",
       "0                        8225.0                 37.24   \n",
       "1                        8232.0                 32.68   \n",
       "2                        8321.0                 43.32   \n",
       "3                        8379.0                 25.84   \n",
       "4                        8372.0                 28.88   \n",
       "\n",
       "   Average_Moisture_In_Park        Date  Direction_Of_Wind  Footfall       ID  \\\n",
       "0                     255.0  01-09-1990              194.0    1406.0  3311712   \n",
       "1                     252.0  02-09-1990              285.0    1409.0  3311812   \n",
       "2                     219.0  03-09-1990              319.0    1386.0  3311912   \n",
       "3                     225.0  04-09-1990              297.0    1365.0  3312012   \n",
       "4                     234.0  05-09-1990              207.0    1413.0  3312112   \n",
       "\n",
       "   Location_Type  Max_Ambient_Pollution  Max_Atmospheric_Pressure  \\\n",
       "0              3                  304.0                    8259.0   \n",
       "1              3                  332.0                    8280.0   \n",
       "2              3                  292.0                    8355.0   \n",
       "3              3                  324.0                    8396.0   \n",
       "4              3                  332.0                    8393.0   \n",
       "\n",
       "   Max_Breeze_Speed  Max_Moisture_In_Park  Min_Ambient_Pollution  \\\n",
       "0              60.8                 288.0                   92.0   \n",
       "1              60.8                 297.0                  172.0   \n",
       "2              60.8                 279.0                  236.0   \n",
       "3              38.0                 261.0                  272.0   \n",
       "4              45.6                 273.0                  236.0   \n",
       "\n",
       "   Min_Atmospheric_Pressure  Min_Breeze_Speed  Min_Moisture_In_Park  Park_ID  \\\n",
       "0                    8211.0              15.2                 222.0       12   \n",
       "1                    8205.0               7.6                 204.0       12   \n",
       "2                    8283.0              15.2                 165.0       12   \n",
       "3                    8358.0               7.6                 192.0       12   \n",
       "4                    8335.0               7.6                 183.0       12   \n",
       "\n",
       "      Var1  \n",
       "0  92.1300  \n",
       "1  14.1100  \n",
       "2  35.6900  \n",
       "3   0.0249  \n",
       "4   0.8300  "
      ]
     },
     "execution_count": 12,
     "metadata": {},
     "output_type": "execute_result"
    }
   ],
   "source": [
    "data.head()"
   ]
  },
  {
   "cell_type": "code",
   "execution_count": 13,
   "metadata": {
    "collapsed": false
   },
   "outputs": [
    {
     "data": {
      "text/plain": [
       "(153959, 18)"
      ]
     },
     "execution_count": 13,
     "metadata": {},
     "output_type": "execute_result"
    }
   ],
   "source": [
    "data.shape"
   ]
  },
  {
   "cell_type": "code",
   "execution_count": 14,
   "metadata": {
    "collapsed": false
   },
   "outputs": [
    {
     "data": {
      "text/plain": [
       "Average_Atmospheric_Pressure    float64\n",
       "Average_Breeze_Speed            float64\n",
       "Average_Moisture_In_Park        float64\n",
       "Date                             object\n",
       "Direction_Of_Wind               float64\n",
       "Footfall                        float64\n",
       "ID                                int64\n",
       "Location_Type                     int64\n",
       "Max_Ambient_Pollution           float64\n",
       "Max_Atmospheric_Pressure        float64\n",
       "Max_Breeze_Speed                float64\n",
       "Max_Moisture_In_Park            float64\n",
       "Min_Ambient_Pollution           float64\n",
       "Min_Atmospheric_Pressure        float64\n",
       "Min_Breeze_Speed                float64\n",
       "Min_Moisture_In_Park            float64\n",
       "Park_ID                           int64\n",
       "Var1                            float64\n",
       "dtype: object"
      ]
     },
     "execution_count": 14,
     "metadata": {},
     "output_type": "execute_result"
    }
   ],
   "source": [
    "data.dtypes"
   ]
  },
  {
   "cell_type": "code",
   "execution_count": 15,
   "metadata": {
    "collapsed": false
   },
   "outputs": [],
   "source": [
    "data['Footfall'].fillna(0, inplace=True)"
   ]
  },
  {
   "cell_type": "code",
   "execution_count": 16,
   "metadata": {
    "collapsed": false
   },
   "outputs": [
    {
     "data": {
      "text/plain": [
       "Average_Atmospheric_Pressure     True\n",
       "Average_Breeze_Speed             True\n",
       "Average_Moisture_In_Park         True\n",
       "Date                            False\n",
       "Direction_Of_Wind                True\n",
       "Footfall                        False\n",
       "ID                              False\n",
       "Location_Type                   False\n",
       "Max_Ambient_Pollution            True\n",
       "Max_Atmospheric_Pressure         True\n",
       "Max_Breeze_Speed                 True\n",
       "Max_Moisture_In_Park             True\n",
       "Min_Ambient_Pollution            True\n",
       "Min_Atmospheric_Pressure         True\n",
       "Min_Breeze_Speed                 True\n",
       "Min_Moisture_In_Park             True\n",
       "Park_ID                         False\n",
       "Var1                             True\n",
       "dtype: bool"
      ]
     },
     "execution_count": 16,
     "metadata": {},
     "output_type": "execute_result"
    }
   ],
   "source": [
    "data.isnull().any()"
   ]
  },
  {
   "cell_type": "code",
   "execution_count": 17,
   "metadata": {
    "collapsed": true
   },
   "outputs": [],
   "source": [
    "# def normalize_feature(df, feature):\n",
    "#     return (df['Average_' + feature] - df['Min_' + feature])/(df['Max_' + feature] - df['Min_' + feature])"
   ]
  },
  {
   "cell_type": "code",
   "execution_count": 18,
   "metadata": {
    "collapsed": true
   },
   "outputs": [],
   "source": [
    "# data['moisture'] = normalize_feature(data, 'Moisture_In_Park')"
   ]
  },
  {
   "cell_type": "code",
   "execution_count": 19,
   "metadata": {
    "collapsed": false
   },
   "outputs": [],
   "source": [
    "# data.head()"
   ]
  },
  {
   "cell_type": "code",
   "execution_count": 20,
   "metadata": {
    "collapsed": false
   },
   "outputs": [],
   "source": [
    "data_locations = pd.get_dummies(data['Location_Type'], prefix='location')\n",
    "\n",
    "data = pd.concat([data.drop(['Location_Type'], axis=1), data_locations], axis=1)"
   ]
  },
  {
   "cell_type": "code",
   "execution_count": 21,
   "metadata": {
    "collapsed": false
   },
   "outputs": [
    {
     "data": {
      "text/html": [
       "<div>\n",
       "<table border=\"1\" class=\"dataframe\">\n",
       "  <thead>\n",
       "    <tr style=\"text-align: right;\">\n",
       "      <th></th>\n",
       "      <th>Average_Atmospheric_Pressure</th>\n",
       "      <th>Average_Breeze_Speed</th>\n",
       "      <th>Average_Moisture_In_Park</th>\n",
       "      <th>Date</th>\n",
       "      <th>Direction_Of_Wind</th>\n",
       "      <th>Footfall</th>\n",
       "      <th>ID</th>\n",
       "      <th>Max_Ambient_Pollution</th>\n",
       "      <th>Max_Atmospheric_Pressure</th>\n",
       "      <th>Max_Breeze_Speed</th>\n",
       "      <th>...</th>\n",
       "      <th>Min_Ambient_Pollution</th>\n",
       "      <th>Min_Atmospheric_Pressure</th>\n",
       "      <th>Min_Breeze_Speed</th>\n",
       "      <th>Min_Moisture_In_Park</th>\n",
       "      <th>Park_ID</th>\n",
       "      <th>Var1</th>\n",
       "      <th>location_1</th>\n",
       "      <th>location_2</th>\n",
       "      <th>location_3</th>\n",
       "      <th>location_4</th>\n",
       "    </tr>\n",
       "  </thead>\n",
       "  <tbody>\n",
       "    <tr>\n",
       "      <th>0</th>\n",
       "      <td>8225.0</td>\n",
       "      <td>37.24</td>\n",
       "      <td>255.0</td>\n",
       "      <td>01-09-1990</td>\n",
       "      <td>194.0</td>\n",
       "      <td>1406.0</td>\n",
       "      <td>3311712</td>\n",
       "      <td>304.0</td>\n",
       "      <td>8259.0</td>\n",
       "      <td>60.8</td>\n",
       "      <td>...</td>\n",
       "      <td>92.0</td>\n",
       "      <td>8211.0</td>\n",
       "      <td>15.2</td>\n",
       "      <td>222.0</td>\n",
       "      <td>12</td>\n",
       "      <td>92.1300</td>\n",
       "      <td>0.0</td>\n",
       "      <td>0.0</td>\n",
       "      <td>1.0</td>\n",
       "      <td>0.0</td>\n",
       "    </tr>\n",
       "    <tr>\n",
       "      <th>1</th>\n",
       "      <td>8232.0</td>\n",
       "      <td>32.68</td>\n",
       "      <td>252.0</td>\n",
       "      <td>02-09-1990</td>\n",
       "      <td>285.0</td>\n",
       "      <td>1409.0</td>\n",
       "      <td>3311812</td>\n",
       "      <td>332.0</td>\n",
       "      <td>8280.0</td>\n",
       "      <td>60.8</td>\n",
       "      <td>...</td>\n",
       "      <td>172.0</td>\n",
       "      <td>8205.0</td>\n",
       "      <td>7.6</td>\n",
       "      <td>204.0</td>\n",
       "      <td>12</td>\n",
       "      <td>14.1100</td>\n",
       "      <td>0.0</td>\n",
       "      <td>0.0</td>\n",
       "      <td>1.0</td>\n",
       "      <td>0.0</td>\n",
       "    </tr>\n",
       "    <tr>\n",
       "      <th>2</th>\n",
       "      <td>8321.0</td>\n",
       "      <td>43.32</td>\n",
       "      <td>219.0</td>\n",
       "      <td>03-09-1990</td>\n",
       "      <td>319.0</td>\n",
       "      <td>1386.0</td>\n",
       "      <td>3311912</td>\n",
       "      <td>292.0</td>\n",
       "      <td>8355.0</td>\n",
       "      <td>60.8</td>\n",
       "      <td>...</td>\n",
       "      <td>236.0</td>\n",
       "      <td>8283.0</td>\n",
       "      <td>15.2</td>\n",
       "      <td>165.0</td>\n",
       "      <td>12</td>\n",
       "      <td>35.6900</td>\n",
       "      <td>0.0</td>\n",
       "      <td>0.0</td>\n",
       "      <td>1.0</td>\n",
       "      <td>0.0</td>\n",
       "    </tr>\n",
       "    <tr>\n",
       "      <th>3</th>\n",
       "      <td>8379.0</td>\n",
       "      <td>25.84</td>\n",
       "      <td>225.0</td>\n",
       "      <td>04-09-1990</td>\n",
       "      <td>297.0</td>\n",
       "      <td>1365.0</td>\n",
       "      <td>3312012</td>\n",
       "      <td>324.0</td>\n",
       "      <td>8396.0</td>\n",
       "      <td>38.0</td>\n",
       "      <td>...</td>\n",
       "      <td>272.0</td>\n",
       "      <td>8358.0</td>\n",
       "      <td>7.6</td>\n",
       "      <td>192.0</td>\n",
       "      <td>12</td>\n",
       "      <td>0.0249</td>\n",
       "      <td>0.0</td>\n",
       "      <td>0.0</td>\n",
       "      <td>1.0</td>\n",
       "      <td>0.0</td>\n",
       "    </tr>\n",
       "    <tr>\n",
       "      <th>4</th>\n",
       "      <td>8372.0</td>\n",
       "      <td>28.88</td>\n",
       "      <td>234.0</td>\n",
       "      <td>05-09-1990</td>\n",
       "      <td>207.0</td>\n",
       "      <td>1413.0</td>\n",
       "      <td>3312112</td>\n",
       "      <td>332.0</td>\n",
       "      <td>8393.0</td>\n",
       "      <td>45.6</td>\n",
       "      <td>...</td>\n",
       "      <td>236.0</td>\n",
       "      <td>8335.0</td>\n",
       "      <td>7.6</td>\n",
       "      <td>183.0</td>\n",
       "      <td>12</td>\n",
       "      <td>0.8300</td>\n",
       "      <td>0.0</td>\n",
       "      <td>0.0</td>\n",
       "      <td>1.0</td>\n",
       "      <td>0.0</td>\n",
       "    </tr>\n",
       "  </tbody>\n",
       "</table>\n",
       "<p>5 rows × 21 columns</p>\n",
       "</div>"
      ],
      "text/plain": [
       "   Average_Atmospheric_Pressure  Average_Breeze_Speed  \\\n",
       "0                        8225.0                 37.24   \n",
       "1                        8232.0                 32.68   \n",
       "2                        8321.0                 43.32   \n",
       "3                        8379.0                 25.84   \n",
       "4                        8372.0                 28.88   \n",
       "\n",
       "   Average_Moisture_In_Park        Date  Direction_Of_Wind  Footfall       ID  \\\n",
       "0                     255.0  01-09-1990              194.0    1406.0  3311712   \n",
       "1                     252.0  02-09-1990              285.0    1409.0  3311812   \n",
       "2                     219.0  03-09-1990              319.0    1386.0  3311912   \n",
       "3                     225.0  04-09-1990              297.0    1365.0  3312012   \n",
       "4                     234.0  05-09-1990              207.0    1413.0  3312112   \n",
       "\n",
       "   Max_Ambient_Pollution  Max_Atmospheric_Pressure  Max_Breeze_Speed  \\\n",
       "0                  304.0                    8259.0              60.8   \n",
       "1                  332.0                    8280.0              60.8   \n",
       "2                  292.0                    8355.0              60.8   \n",
       "3                  324.0                    8396.0              38.0   \n",
       "4                  332.0                    8393.0              45.6   \n",
       "\n",
       "      ...      Min_Ambient_Pollution  Min_Atmospheric_Pressure  \\\n",
       "0     ...                       92.0                    8211.0   \n",
       "1     ...                      172.0                    8205.0   \n",
       "2     ...                      236.0                    8283.0   \n",
       "3     ...                      272.0                    8358.0   \n",
       "4     ...                      236.0                    8335.0   \n",
       "\n",
       "   Min_Breeze_Speed  Min_Moisture_In_Park  Park_ID     Var1  location_1  \\\n",
       "0              15.2                 222.0       12  92.1300         0.0   \n",
       "1               7.6                 204.0       12  14.1100         0.0   \n",
       "2              15.2                 165.0       12  35.6900         0.0   \n",
       "3               7.6                 192.0       12   0.0249         0.0   \n",
       "4               7.6                 183.0       12   0.8300         0.0   \n",
       "\n",
       "   location_2  location_3  location_4  \n",
       "0         0.0         1.0         0.0  \n",
       "1         0.0         1.0         0.0  \n",
       "2         0.0         1.0         0.0  \n",
       "3         0.0         1.0         0.0  \n",
       "4         0.0         1.0         0.0  \n",
       "\n",
       "[5 rows x 21 columns]"
      ]
     },
     "execution_count": 21,
     "metadata": {},
     "output_type": "execute_result"
    }
   ],
   "source": [
    "data.head()"
   ]
  },
  {
   "cell_type": "code",
   "execution_count": 22,
   "metadata": {
    "collapsed": true
   },
   "outputs": [],
   "source": [
    "# data['pollution'] = (data['Max_Ambient_Pollution'] + data['Min_Ambient_Pollution'])/2"
   ]
  },
  {
   "cell_type": "code",
   "execution_count": 23,
   "metadata": {
    "collapsed": true
   },
   "outputs": [],
   "source": [
    "# from sklearn import preprocessing\n",
    "\n",
    "# min_max_scaler = preprocessing.MinMaxScaler()"
   ]
  },
  {
   "cell_type": "code",
   "execution_count": 24,
   "metadata": {
    "collapsed": true
   },
   "outputs": [],
   "source": [
    "# def min_max_scaling(data, feature):\n",
    "#     feat = data[feature].dropna().values\n",
    "#     feat_scaled = min_max_scaler.fit_transform(feat.reshape(-1,1))\n",
    "#     return pd.DataFrame(feat_scaled)"
   ]
  },
  {
   "cell_type": "code",
   "execution_count": 25,
   "metadata": {
    "collapsed": false
   },
   "outputs": [],
   "source": [
    "# data['pollution'] = min_max_scaling(data, 'pollution')"
   ]
  },
  {
   "cell_type": "code",
   "execution_count": 26,
   "metadata": {
    "collapsed": false
   },
   "outputs": [],
   "source": [
    "# data.head()"
   ]
  },
  {
   "cell_type": "code",
   "execution_count": 27,
   "metadata": {
    "collapsed": false
   },
   "outputs": [
    {
     "data": {
      "text/plain": [
       "count    142757.000000\n",
       "mean         18.680243\n",
       "std          37.983644\n",
       "min           0.000000\n",
       "25%           0.000000\n",
       "50%           0.830000\n",
       "75%          21.580000\n",
       "max        1181.090000\n",
       "Name: Var1, dtype: float64"
      ]
     },
     "execution_count": 27,
     "metadata": {},
     "output_type": "execute_result"
    }
   ],
   "source": [
    "data['Var1'].dropna().describe()"
   ]
  },
  {
   "cell_type": "code",
   "execution_count": 28,
   "metadata": {
    "collapsed": false
   },
   "outputs": [],
   "source": [
    "# data['Var1'] = min_max_scaling(data, 'Var1')"
   ]
  },
  {
   "cell_type": "code",
   "execution_count": 29,
   "metadata": {
    "collapsed": false
   },
   "outputs": [],
   "source": [
    "# data.head()"
   ]
  },
  {
   "cell_type": "code",
   "execution_count": 30,
   "metadata": {
    "collapsed": false
   },
   "outputs": [],
   "source": [
    "# data['Var1'].dropna().describe()"
   ]
  },
  {
   "cell_type": "code",
   "execution_count": 31,
   "metadata": {
    "collapsed": false
   },
   "outputs": [],
   "source": [
    "# train_data.head()"
   ]
  },
  {
   "cell_type": "code",
   "execution_count": 32,
   "metadata": {
    "collapsed": false
   },
   "outputs": [
    {
     "data": {
      "text/plain": [
       "(0, 2000)"
      ]
     },
     "execution_count": 32,
     "metadata": {},
     "output_type": "execute_result"
    },
    {
     "data": {
      "image/png": "[encoded data removed]",
      "text/plain": [
       "<matplotlib.figure.Figure at 0x7f9f545a0850>"
      ]
     },
     "metadata": {},
     "output_type": "display_data"
    }
   ],
   "source": [
    "plt.scatter(train_data['Var1'], train_data['Footfall'])\n",
    "plt.xlim([0, 20])\n",
    "plt.ylim([0, 2000])"
   ]
  },
  {
   "cell_type": "code",
   "execution_count": 33,
   "metadata": {
    "collapsed": false,
    "scrolled": true
   },
   "outputs": [
    {
     "data": {
      "text/plain": [
       "39    5600\n",
       "26    5600\n",
       "13    5600\n",
       "14    5600\n",
       "15    5600\n",
       "16    5600\n",
       "18    5600\n",
       "20    5600\n",
       "21    5600\n",
       "22    5600\n",
       "23    5600\n",
       "24    5600\n",
       "38    5600\n",
       "25    5600\n",
       "27    5600\n",
       "28    5600\n",
       "29    5600\n",
       "30    5600\n",
       "31    5600\n",
       "32    5600\n",
       "33    5600\n",
       "34    5600\n",
       "35    5600\n",
       "36    5600\n",
       "37    5600\n",
       "12    5600\n",
       "17    5358\n",
       "19    3001\n",
       "Name: Park_ID, dtype: int64"
      ]
     },
     "execution_count": 33,
     "metadata": {},
     "output_type": "execute_result"
    }
   ],
   "source": [
    "data['Park_ID'].value_counts()"
   ]
  },
  {
   "cell_type": "code",
   "execution_count": 34,
   "metadata": {
    "collapsed": true
   },
   "outputs": [],
   "source": [
    "data['Date'] = pd.to_datetime(data['Date'], format='%d-%m-%Y')"
   ]
  },
  {
   "cell_type": "code",
   "execution_count": 35,
   "metadata": {
    "collapsed": true
   },
   "outputs": [],
   "source": [
    "def extract_day(t):\n",
    "    return t.weekday()"
   ]
  },
  {
   "cell_type": "code",
   "execution_count": 36,
   "metadata": {
    "collapsed": false
   },
   "outputs": [
    {
     "data": {
      "text/plain": [
       "<matplotlib.axes._subplots.AxesSubplot at 0x7f9f53f68ed0>"
      ]
     },
     "execution_count": 36,
     "metadata": {},
     "output_type": "execute_result"
    },
    {
     "data": {
      "image/png": "[encoded data removed]",
      "text/plain": [
       "<matplotlib.figure.Figure at 0x7f9f92e9f110>"
      ]
     },
     "metadata": {},
     "output_type": "display_data"
    }
   ],
   "source": [
    "sns.boxplot(y=train_data['Footfall'], x=pd.to_datetime(train_data['Date'], format='%d-%m-%Y').apply(extract_day))"
   ]
  },
  {
   "cell_type": "code",
   "execution_count": 37,
   "metadata": {
    "collapsed": true
   },
   "outputs": [],
   "source": [
    "def extract_year(t):\n",
    "    return t.year"
   ]
  },
  {
   "cell_type": "code",
   "execution_count": 38,
   "metadata": {
    "collapsed": false
   },
   "outputs": [
    {
     "data": {
      "text/plain": [
       "<matplotlib.axes._subplots.AxesSubplot at 0x7f9f53fc7fd0>"
      ]
     },
     "execution_count": 38,
     "metadata": {},
     "output_type": "execute_result"
    },
    {
     "data": {
      "image/png": "[encoded data removed]",
      "text/plain": [
       "<matplotlib.figure.Figure at 0x7f9f53f72290>"
      ]
     },
     "metadata": {},
     "output_type": "display_data"
    }
   ],
   "source": [
    "sns.boxplot(y=train_data['Footfall'], x=pd.to_datetime(train_data['Date'], format='%d-%m-%Y').apply(extract_year))"
   ]
  },
  {
   "cell_type": "code",
   "execution_count": 39,
   "metadata": {
    "collapsed": true
   },
   "outputs": [],
   "source": [
    "def extract_month(t):\n",
    "    return t.month"
   ]
  },
  {
   "cell_type": "code",
   "execution_count": 40,
   "metadata": {
    "collapsed": false,
    "scrolled": true
   },
   "outputs": [
    {
     "data": {
      "text/plain": [
       "<matplotlib.axes._subplots.AxesSubplot at 0x7f9f500a1350>"
      ]
     },
     "execution_count": 40,
     "metadata": {},
     "output_type": "execute_result"
    },
    {
     "data": {
      "image/png": "[encoded data removed]",
      "text/plain": [
       "<matplotlib.figure.Figure at 0x7f9f53f686d0>"
      ]
     },
     "metadata": {},
     "output_type": "display_data"
    }
   ],
   "source": [
    "sns.boxplot(y=train_data['Footfall'], x=pd.to_datetime(train_data['Date'], format='%d-%m-%Y').apply(extract_month))"
   ]
  },
  {
   "cell_type": "code",
   "execution_count": 41,
   "metadata": {
    "collapsed": false
   },
   "outputs": [],
   "source": [
    "# data['month'].value_counts()"
   ]
  },
  {
   "cell_type": "code",
   "execution_count": 42,
   "metadata": {
    "collapsed": false,
    "scrolled": false
   },
   "outputs": [],
   "source": [
    "# footfall_per_month = data.groupby('month', as_index=False)['Footfall'].mean()\n",
    "# footfall_per_month"
   ]
  },
  {
   "cell_type": "code",
   "execution_count": 43,
   "metadata": {
    "collapsed": false
   },
   "outputs": [],
   "source": [
    "# bins = np.linspace(footfall_per_month['Footfall'].min(), footfall_per_month['Footfall'].max(), 4)\n",
    "# labels = ['low', 'medium', 'high']\n",
    "# month_buckets, returned_bins = pd.cut(footfall_per_month['Footfall'], bins, labels=labels, right=True, include_lowest=True, retbins=True)\n",
    "\n",
    "# month_buckets = Series(month_buckets)\n",
    "# month_buckets"
   ]
  },
  {
   "cell_type": "code",
   "execution_count": 44,
   "metadata": {
    "collapsed": false
   },
   "outputs": [],
   "source": [
    "# data['month_bucket'] = 'low'"
   ]
  },
  {
   "cell_type": "code",
   "execution_count": 45,
   "metadata": {
    "collapsed": false
   },
   "outputs": [],
   "source": [
    "# data.loc[((data['month'] == 3) | (data['month'] == 9)), 'month_bucket'] = 'medium'\n",
    "# data.loc[((data['month'] > 3) & (data['month'] < 9)), 'month_bucket'] = 'high'"
   ]
  },
  {
   "cell_type": "code",
   "execution_count": 46,
   "metadata": {
    "collapsed": false
   },
   "outputs": [],
   "source": [
    "# data['month_bucket']"
   ]
  },
  {
   "cell_type": "code",
   "execution_count": 47,
   "metadata": {
    "collapsed": false
   },
   "outputs": [],
   "source": [
    "# data['month_bucket'].isnull().any()"
   ]
  },
  {
   "cell_type": "code",
   "execution_count": 48,
   "metadata": {
    "collapsed": false
   },
   "outputs": [],
   "source": [
    "# data.head()"
   ]
  },
  {
   "cell_type": "code",
   "execution_count": 49,
   "metadata": {
    "collapsed": false
   },
   "outputs": [],
   "source": [
    "# month_bucket_dummies = pd.get_dummies(data['month_bucket'], prefix='month_bucket')\n",
    "# data = pd.concat([data.drop(['month_bucket'], axis=1), month_bucket_dummies], axis=1)"
   ]
  },
  {
   "cell_type": "code",
   "execution_count": 50,
   "metadata": {
    "collapsed": false
   },
   "outputs": [],
   "source": [
    "# data.head()"
   ]
  },
  {
   "cell_type": "code",
   "execution_count": 51,
   "metadata": {
    "collapsed": false
   },
   "outputs": [],
   "source": [
    "# data['Park_ID'].unique()"
   ]
  },
  {
   "cell_type": "code",
   "execution_count": 52,
   "metadata": {
    "collapsed": false
   },
   "outputs": [],
   "source": [
    "# len(data['Park_ID'].unique())"
   ]
  },
  {
   "cell_type": "code",
   "execution_count": 53,
   "metadata": {
    "collapsed": false
   },
   "outputs": [],
   "source": [
    "# data['Park_ID'].value_counts()"
   ]
  },
  {
   "cell_type": "code",
   "execution_count": 54,
   "metadata": {
    "collapsed": false
   },
   "outputs": [
    {
     "data": {
      "text/plain": [
       "<matplotlib.axes._subplots.AxesSubplot at 0x7f9f536cd850>"
      ]
     },
     "execution_count": 54,
     "metadata": {},
     "output_type": "execute_result"
    },
    {
     "data": {
      "image/png": "[encoded data removed]",
      "text/plain": [
       "<matplotlib.figure.Figure at 0x7f9f5392ced0>"
      ]
     },
     "metadata": {},
     "output_type": "display_data"
    }
   ],
   "source": [
    "sns.boxplot(y=train_data['Footfall'], x=train_data['Park_ID'])"
   ]
  },
  {
   "cell_type": "code",
   "execution_count": 55,
   "metadata": {
    "collapsed": true
   },
   "outputs": [],
   "source": [
    "# Check for null values in Atmpospheric_Pressure"
   ]
  },
  {
   "cell_type": "code",
   "execution_count": 56,
   "metadata": {
    "collapsed": false
   },
   "outputs": [
    {
     "data": {
      "text/plain": [
       "False    100591\n",
       "True      53368\n",
       "Name: Average_Atmospheric_Pressure, dtype: int64"
      ]
     },
     "execution_count": 56,
     "metadata": {},
     "output_type": "execute_result"
    }
   ],
   "source": [
    "data['Average_Atmospheric_Pressure'].isnull().value_counts()"
   ]
  },
  {
   "cell_type": "code",
   "execution_count": 57,
   "metadata": {
    "collapsed": false
   },
   "outputs": [
    {
     "data": {
      "text/plain": [
       "False    100591\n",
       "True      53368\n",
       "Name: Max_Atmospheric_Pressure, dtype: int64"
      ]
     },
     "execution_count": 57,
     "metadata": {},
     "output_type": "execute_result"
    }
   ],
   "source": [
    "data['Max_Atmospheric_Pressure'].isnull().value_counts()"
   ]
  },
  {
   "cell_type": "code",
   "execution_count": 58,
   "metadata": {
    "collapsed": false
   },
   "outputs": [
    {
     "data": {
      "text/plain": [
       "False    100591\n",
       "True      53368\n",
       "Name: Min_Atmospheric_Pressure, dtype: int64"
      ]
     },
     "execution_count": 58,
     "metadata": {},
     "output_type": "execute_result"
    }
   ],
   "source": [
    "data['Min_Atmospheric_Pressure'].isnull().value_counts()"
   ]
  },
  {
   "cell_type": "code",
   "execution_count": 59,
   "metadata": {
    "collapsed": true
   },
   "outputs": [],
   "source": [
    "# Check for null values in Breeze_Speed"
   ]
  },
  {
   "cell_type": "code",
   "execution_count": 60,
   "metadata": {
    "collapsed": false
   },
   "outputs": [
    {
     "data": {
      "text/plain": [
       "False    148535\n",
       "True       5424\n",
       "Name: Average_Breeze_Speed, dtype: int64"
      ]
     },
     "execution_count": 60,
     "metadata": {},
     "output_type": "execute_result"
    }
   ],
   "source": [
    "data['Average_Breeze_Speed'].isnull().value_counts()"
   ]
  },
  {
   "cell_type": "code",
   "execution_count": 61,
   "metadata": {
    "collapsed": false
   },
   "outputs": [
    {
     "data": {
      "text/plain": [
       "False    148530\n",
       "True       5429\n",
       "Name: Max_Breeze_Speed, dtype: int64"
      ]
     },
     "execution_count": 61,
     "metadata": {},
     "output_type": "execute_result"
    }
   ],
   "source": [
    "data['Max_Breeze_Speed'].isnull().value_counts()"
   ]
  },
  {
   "cell_type": "code",
   "execution_count": 62,
   "metadata": {
    "collapsed": false
   },
   "outputs": [
    {
     "data": {
      "text/plain": [
       "False    148532\n",
       "True       5427\n",
       "Name: Min_Breeze_Speed, dtype: int64"
      ]
     },
     "execution_count": 62,
     "metadata": {},
     "output_type": "execute_result"
    }
   ],
   "source": [
    "data['Min_Breeze_Speed'].isnull().value_counts()"
   ]
  },
  {
   "cell_type": "code",
   "execution_count": 63,
   "metadata": {
    "collapsed": true
   },
   "outputs": [],
   "source": [
    "# Check for null values in Moisture_In_Park"
   ]
  },
  {
   "cell_type": "code",
   "execution_count": 64,
   "metadata": {
    "collapsed": false
   },
   "outputs": [
    {
     "data": {
      "text/plain": [
       "False    153880\n",
       "True         79\n",
       "Name: Average_Moisture_In_Park, dtype: int64"
      ]
     },
     "execution_count": 64,
     "metadata": {},
     "output_type": "execute_result"
    }
   ],
   "source": [
    "data['Average_Moisture_In_Park'].isnull().value_counts()"
   ]
  },
  {
   "cell_type": "code",
   "execution_count": 65,
   "metadata": {
    "collapsed": false
   },
   "outputs": [
    {
     "data": {
      "text/plain": [
       "False    153880\n",
       "True         79\n",
       "Name: Max_Moisture_In_Park, dtype: int64"
      ]
     },
     "execution_count": 65,
     "metadata": {},
     "output_type": "execute_result"
    }
   ],
   "source": [
    "data['Max_Moisture_In_Park'].isnull().value_counts()"
   ]
  },
  {
   "cell_type": "code",
   "execution_count": 66,
   "metadata": {
    "collapsed": false
   },
   "outputs": [
    {
     "data": {
      "text/plain": [
       "False    153880\n",
       "True         79\n",
       "Name: Min_Moisture_In_Park, dtype: int64"
      ]
     },
     "execution_count": 66,
     "metadata": {},
     "output_type": "execute_result"
    }
   ],
   "source": [
    "data['Min_Moisture_In_Park'].isnull().value_counts()"
   ]
  },
  {
   "cell_type": "code",
   "execution_count": 67,
   "metadata": {
    "collapsed": true
   },
   "outputs": [],
   "source": [
    "# Check for null values in Direction_Of_Wind"
   ]
  },
  {
   "cell_type": "code",
   "execution_count": 68,
   "metadata": {
    "collapsed": false
   },
   "outputs": [
    {
     "data": {
      "text/plain": [
       "False    148535\n",
       "True       5424\n",
       "Name: Direction_Of_Wind, dtype: int64"
      ]
     },
     "execution_count": 68,
     "metadata": {},
     "output_type": "execute_result"
    }
   ],
   "source": [
    "data['Direction_Of_Wind'].isnull().value_counts()"
   ]
  },
  {
   "cell_type": "code",
   "execution_count": 69,
   "metadata": {
    "collapsed": true
   },
   "outputs": [],
   "source": [
    "# Check for null values in Ambient_Pollution"
   ]
  },
  {
   "cell_type": "code",
   "execution_count": 70,
   "metadata": {
    "collapsed": false
   },
   "outputs": [
    {
     "data": {
      "text/plain": [
       "False    112659\n",
       "True      41300\n",
       "Name: Max_Ambient_Pollution, dtype: int64"
      ]
     },
     "execution_count": 70,
     "metadata": {},
     "output_type": "execute_result"
    }
   ],
   "source": [
    "data['Max_Ambient_Pollution'].isnull().value_counts()"
   ]
  },
  {
   "cell_type": "code",
   "execution_count": 71,
   "metadata": {
    "collapsed": false,
    "scrolled": true
   },
   "outputs": [
    {
     "data": {
      "text/plain": [
       "False    112659\n",
       "True      41300\n",
       "Name: Min_Ambient_Pollution, dtype: int64"
      ]
     },
     "execution_count": 71,
     "metadata": {},
     "output_type": "execute_result"
    }
   ],
   "source": [
    "data['Min_Ambient_Pollution'].isnull().value_counts()"
   ]
  },
  {
   "cell_type": "code",
   "execution_count": 72,
   "metadata": {
    "collapsed": true
   },
   "outputs": [],
   "source": [
    "# Check for null values in Var1"
   ]
  },
  {
   "cell_type": "code",
   "execution_count": 73,
   "metadata": {
    "collapsed": false
   },
   "outputs": [
    {
     "data": {
      "text/plain": [
       "False    142757\n",
       "True      11202\n",
       "Name: Var1, dtype: int64"
      ]
     },
     "execution_count": 73,
     "metadata": {},
     "output_type": "execute_result"
    }
   ],
   "source": [
    "data['Var1'].isnull().value_counts()"
   ]
  },
  {
   "cell_type": "code",
   "execution_count": 74,
   "metadata": {
    "collapsed": false
   },
   "outputs": [
    {
     "data": {
      "text/plain": [
       "count    142757.000000\n",
       "mean         18.680243\n",
       "std          37.983644\n",
       "min           0.000000\n",
       "25%           0.000000\n",
       "50%           0.830000\n",
       "75%          21.580000\n",
       "max        1181.090000\n",
       "Name: Var1, dtype: float64"
      ]
     },
     "execution_count": 74,
     "metadata": {},
     "output_type": "execute_result"
    }
   ],
   "source": [
    "data['Var1'].dropna().describe()"
   ]
  },
  {
   "cell_type": "code",
   "execution_count": 75,
   "metadata": {
    "collapsed": false
   },
   "outputs": [],
   "source": [
    "# def prepare_data(df, is_train):\n",
    "#     df['Average_Breeze_Speed'].fillna(np.median(data['Average_Breeze_Speed'].dropna()), inplace=True)\n",
    "#     df['Min_Breeze_Speed'].fillna(np.median(data['Min_Breeze_Speed'].dropna()), inplace=True)\n",
    "#     df['Max_Breeze_Speed'].fillna(np.median(data['Max_Breeze_Speed'].dropna()), inplace=True)\n",
    "#     df['Direction_Of_Wind'].fillna(np.median(data['Direction_Of_Wind'].dropna()), inplace=True)\n",
    "#     df_locations = pd.get_dummies(df['Location_Type'], prefix='location')\n",
    "#     df = pd.concat([df.drop(['Location_Type'], axis=1), df_locations], axis=1)\n",
    "#     df.drop(['location_4'], axis=1, inplace=True)\n",
    "#     df['Average_Atmospheric_Pressure'].fillna(np.median(data['Average_Atmospheric_Pressure'].dropna()), inplace=True)\n",
    "#     df['Max_Atmospheric_Pressure'].fillna(np.median(data['Max_Atmospheric_Pressure'].dropna()), inplace=True)\n",
    "#     df['Min_Atmospheric_Pressure'].fillna(np.median(data['Min_Atmospheric_Pressure'].dropna()), inplace=True)\n",
    "#     df['Average_Moisture_In_Park'].fillna(np.median(data['Average_Moisture_In_Park'].dropna()), inplace=True)\n",
    "#     df['Max_Moisture_In_Park'].fillna(np.median(data['Max_Moisture_In_Park'].dropna()), inplace=True)\n",
    "#     df['Min_Moisture_In_Park'].fillna(np.median(data['Min_Moisture_In_Park'].dropna()), inplace=True)\n",
    "#     df['Max_Ambient_Pollution'].fillna(np.median(data['Max_Ambient_Pollution'].dropna()), inplace=True)\n",
    "#     df['Min_Ambient_Pollution'].fillna(np.median(data['Min_Ambient_Pollution'].dropna()), inplace=True)\n",
    "#     df['Var1'].fillna(np.median(data['Var1'].dropna()), inplace=True)\n",
    "#     df['Date'] = pd.to_datetime(df['Date'], format='%d-%m-%Y')\n",
    "#     df['month'] = df['Date'].apply(extract_month)\n",
    "# #     df_months = pd.get_dummies(df['month'], prefix='month')\n",
    "# #     df = pd.concat([df.drop(['month'], axis=1), df_months], axis=1)\n",
    "# #     df.drop(['month_12'], axis=1, inplace=True)\n",
    "#     df_parks = pd.get_dummies(df['Park_ID'], prefix='park')\n",
    "#     df = pd.concat([df.drop(['Park_ID'], axis=1), df_parks], axis=1)\n",
    "#     if is_train:\n",
    "#         df.drop(['park_19'], axis=1, inplace=True)\n",
    "#         return df.drop(['ID', 'Footfall', 'Date'], axis=1), df['Footfall']\n",
    "#     return df.drop(['ID', 'Date'], axis=1)"
   ]
  },
  {
   "cell_type": "code",
   "execution_count": 76,
   "metadata": {
    "collapsed": false
   },
   "outputs": [],
   "source": [
    "# train_features, train_target = prepare_data(train_data, 1)"
   ]
  },
  {
   "cell_type": "code",
   "execution_count": 77,
   "metadata": {
    "collapsed": false
   },
   "outputs": [],
   "source": [
    "# test_features = prepare_data(test_data, 0)"
   ]
  },
  {
   "cell_type": "code",
   "execution_count": 78,
   "metadata": {
    "collapsed": false
   },
   "outputs": [],
   "source": [
    "# train_features.isnull().any()"
   ]
  },
  {
   "cell_type": "code",
   "execution_count": 79,
   "metadata": {
    "collapsed": false
   },
   "outputs": [],
   "source": [
    "# train_features.head()"
   ]
  },
  {
   "cell_type": "code",
   "execution_count": 80,
   "metadata": {
    "collapsed": false
   },
   "outputs": [],
   "source": [
    "# train_features.columns"
   ]
  },
  {
   "cell_type": "code",
   "execution_count": 81,
   "metadata": {
    "collapsed": false
   },
   "outputs": [],
   "source": [
    "# train_target.head()"
   ]
  },
  {
   "cell_type": "code",
   "execution_count": 82,
   "metadata": {
    "collapsed": false
   },
   "outputs": [],
   "source": [
    "# test_features.head()"
   ]
  },
  {
   "cell_type": "code",
   "execution_count": 83,
   "metadata": {
    "collapsed": true
   },
   "outputs": [],
   "source": [
    "def prepare_data(df, is_train):\n",
    "    df['Average_Breeze_Speed'].fillna(np.median(data['Average_Breeze_Speed'].dropna()), inplace=True)\n",
    "    df['Min_Breeze_Speed'].fillna(np.median(data['Min_Breeze_Speed'].dropna()), inplace=True)\n",
    "    df['Max_Breeze_Speed'].fillna(np.median(data['Max_Breeze_Speed'].dropna()), inplace=True)\n",
    "    df['Direction_Of_Wind'].fillna(np.median(data['Direction_Of_Wind'].dropna()), inplace=True)\n",
    "    df_locations = pd.get_dummies(df['Location_Type'], prefix='location')\n",
    "    df = pd.concat([df.drop(['Location_Type'], axis=1), df_locations], axis=1)\n",
    "    df.drop(['location_4'], axis=1, inplace=True)\n",
    "    df['Average_Atmospheric_Pressure'].fillna(np.median(data['Average_Atmospheric_Pressure'].dropna()), inplace=True)\n",
    "    df['Max_Atmospheric_Pressure'].fillna(np.median(data['Max_Atmospheric_Pressure'].dropna()), inplace=True)\n",
    "    df['Min_Atmospheric_Pressure'].fillna(np.median(data['Min_Atmospheric_Pressure'].dropna()), inplace=True)\n",
    "    df['Average_Moisture_In_Park'].fillna(np.median(data['Average_Moisture_In_Park'].dropna()), inplace=True)\n",
    "    df['Max_Moisture_In_Park'].fillna(np.median(data['Max_Moisture_In_Park'].dropna()), inplace=True)\n",
    "    df['Min_Moisture_In_Park'].fillna(np.median(data['Min_Moisture_In_Park'].dropna()), inplace=True)\n",
    "    df['Max_Ambient_Pollution'].fillna(np.median(data['Max_Ambient_Pollution'].dropna()), inplace=True)\n",
    "    df['Min_Ambient_Pollution'].fillna(np.median(data['Min_Ambient_Pollution'].dropna()), inplace=True)\n",
    "    df['Var1'].fillna(np.median(data['Var1'].dropna()), inplace=True)\n",
    "    df['Date'] = pd.to_datetime(df['Date'], format='%d-%m-%Y')\n",
    "    df['month'] = df['Date'].apply(extract_month)\n",
    "    df['year'] = df['Date'].apply(extract_year)\n",
    "#     df_months = pd.get_dummies(df['month'], prefix='month')\n",
    "#     df = pd.concat([df.drop(['month'], axis=1), df_months], axis=1)\n",
    "#     df.drop(['month_12'], axis=1, inplace=True)\n",
    "    df_parks = pd.get_dummies(df['Park_ID'], prefix='park')\n",
    "    df = pd.concat([df.drop(['Park_ID'], axis=1), df_parks], axis=1)\n",
    "    if is_train:\n",
    "        df.drop(['park_19'], axis=1, inplace=True)\n",
    "    return df.drop(['ID', 'Date', 'year'], axis=1)"
   ]
  },
  {
   "cell_type": "code",
   "execution_count": 84,
   "metadata": {
    "collapsed": true
   },
   "outputs": [],
   "source": [
    "train = prepare_data(train_data, 1)"
   ]
  },
  {
   "cell_type": "code",
   "execution_count": 85,
   "metadata": {
    "collapsed": true
   },
   "outputs": [],
   "source": [
    "test = prepare_data(test_data, 0)"
   ]
  },
  {
   "cell_type": "code",
   "execution_count": 86,
   "metadata": {
    "collapsed": true
   },
   "outputs": [],
   "source": [
    "from sklearn.grid_search import GridSearchCV\n",
    "from sklearn.ensemble import RandomForestRegressor\n",
    "from sklearn.metrics import mean_squared_error"
   ]
  },
  {
   "cell_type": "code",
   "execution_count": 87,
   "metadata": {
    "collapsed": false
   },
   "outputs": [],
   "source": [
    "# # Tuning hyper-parameters for RMSE\n",
    "\n",
    "# # Set the parameters by cross-validation\n",
    "# # n_range = range(100, 150, 50)\n",
    "# tuned_parameters = {'n_estimators': [100]}\n",
    "# # random_state_range = range(11)\n",
    "# # tuned_parameters = {'n_estimators': n_range, 'random_state': random_state_range}\n",
    "\n",
    "# rf = GridSearchCV(RandomForestRegressor(), tuned_parameters, cv=5, scoring='mean_squared_error')\n",
    "# rf.fit(train_features, train_target)"
   ]
  },
  {
   "cell_type": "code",
   "execution_count": 88,
   "metadata": {
    "collapsed": false
   },
   "outputs": [],
   "source": [
    "# print rf.grid_scores_\n",
    "# print 'Average Error = ' + str(np.sqrt(np.abs(rf.grid_scores_[0][1])))\n",
    "# print 'Min Error = ' + str(np.sqrt(np.abs(rf.best_score_)))\n",
    "# print 'Best parameters = '\n",
    "# print rf.best_params_\n",
    "# print rf.best_estimator_"
   ]
  },
  {
   "cell_type": "code",
   "execution_count": 89,
   "metadata": {
    "collapsed": false
   },
   "outputs": [],
   "source": [
    "# predicted_rf = rf.predict(test_features)"
   ]
  },
  {
   "cell_type": "code",
   "execution_count": 90,
   "metadata": {
    "collapsed": false
   },
   "outputs": [],
   "source": [
    "# predicted_rf"
   ]
  },
  {
   "cell_type": "code",
   "execution_count": 91,
   "metadata": {
    "collapsed": false
   },
   "outputs": [],
   "source": [
    "# predicted = np.round(predicted, decimals=0).astype(int)\n",
    "# predicted"
   ]
  },
  {
   "cell_type": "code",
   "execution_count": 92,
   "metadata": {
    "collapsed": false
   },
   "outputs": [],
   "source": [
    "# solution_rf = pd.DataFrame(test_data['ID'])"
   ]
  },
  {
   "cell_type": "code",
   "execution_count": 93,
   "metadata": {
    "collapsed": true
   },
   "outputs": [],
   "source": [
    "# solution_rf = pd.concat([solution_rf, pd.DataFrame(predicted_rf, columns=['Footfall'])], axis=1)"
   ]
  },
  {
   "cell_type": "code",
   "execution_count": 94,
   "metadata": {
    "collapsed": false
   },
   "outputs": [],
   "source": [
    "# solution_rf"
   ]
  },
  {
   "cell_type": "code",
   "execution_count": 95,
   "metadata": {
    "collapsed": true
   },
   "outputs": [],
   "source": [
    "# solution_rf.to_csv('solution_rf.csv', index=False)"
   ]
  },
  {
   "cell_type": "code",
   "execution_count": 96,
   "metadata": {
    "collapsed": true
   },
   "outputs": [],
   "source": [
    "# Import XGBClassifier\n",
    "from xgboost.sklearn import XGBRegressor"
   ]
  },
  {
   "cell_type": "code",
   "execution_count": 96,
   "metadata": {
    "collapsed": false
   },
   "outputs": [
    {
     "data": {
      "text/plain": [
       "GridSearchCV(cv=5, error_score='raise',\n",
       "       estimator=XGBRegressor(base_score=0.5, colsample_bylevel=1, colsample_bytree=1, gamma=0,\n",
       "       learning_rate=0.1, max_delta_step=0, max_depth=3,\n",
       "       min_child_weight=1, missing=None, n_estimators=100, nthread=-1,\n",
       "       objective='reg:linear', reg_alpha=0, reg_lambda=1,\n",
       "       scale_pos_weight=1, seed=0, silent=False, subsample=1),\n",
       "       fit_params={}, iid=True, n_jobs=1,\n",
       "       param_grid={'n_estimators': [700]}, pre_dispatch='2*n_jobs',\n",
       "       refit=True, scoring='mean_squared_error', verbose=0)"
      ]
     },
     "execution_count": 96,
     "metadata": {},
     "output_type": "execute_result"
    }
   ],
   "source": [
    "# # XGBoost\n",
    "\n",
    "# # Set the parameters by cross-validation\n",
    "\n",
    "# params = {'n_estimators': [700]}\n",
    "\n",
    "# xgb = GridSearchCV(XGBRegressor(silent=False), params, cv=5, scoring='mean_squared_error')\n",
    "# xgb.fit(train_features, train_target)"
   ]
  },
  {
   "cell_type": "code",
   "execution_count": 97,
   "metadata": {
    "collapsed": false
   },
   "outputs": [
    {
     "name": "stdout",
     "output_type": "stream",
     "text": [
      "Min Error = 99.8107301897\n",
      "Best parameters = \n",
      "{'n_estimators': 700}\n",
      "XGBRegressor(base_score=0.5, colsample_bylevel=1, colsample_bytree=1, gamma=0,\n",
      "       learning_rate=0.1, max_delta_step=0, max_depth=3,\n",
      "       min_child_weight=1, missing=None, n_estimators=700, nthread=-1,\n",
      "       objective='reg:linear', reg_alpha=0, reg_lambda=1,\n",
      "       scale_pos_weight=1, seed=0, silent=False, subsample=1)\n"
     ]
    }
   ],
   "source": [
    "# print 'Min Error = ' + str(np.sqrt(np.abs(xgb.best_score_)))\n",
    "# print 'Best parameters = '\n",
    "# print xgb.best_params_\n",
    "# print xgb.best_estimator_"
   ]
  },
  {
   "cell_type": "code",
   "execution_count": 109,
   "metadata": {
    "collapsed": false
   },
   "outputs": [
    {
     "ename": "NameError",
     "evalue": "name 'test_features' is not defined",
     "output_type": "error",
     "traceback": [
      "\u001b[0;31m---------------------------------------------------------------------------\u001b[0m",
      "\u001b[0;31mNameError\u001b[0m                                 Traceback (most recent call last)",
      "\u001b[0;32m<ipython-input-109-36fb01af9d3f>\u001b[0m in \u001b[0;36m<module>\u001b[0;34m()\u001b[0m\n\u001b[0;32m----> 1\u001b[0;31m \u001b[0mpredicted_xgb\u001b[0m \u001b[0;34m=\u001b[0m \u001b[0mxgb\u001b[0m\u001b[0;34m.\u001b[0m\u001b[0mpredict\u001b[0m\u001b[0;34m(\u001b[0m\u001b[0mtest_features\u001b[0m\u001b[0;34m)\u001b[0m\u001b[0;34m\u001b[0m\u001b[0m\n\u001b[0m",
      "\u001b[0;31mNameError\u001b[0m: name 'test_features' is not defined"
     ]
    }
   ],
   "source": [
    "predicted_xgb = xgb.predict(test_features)"
   ]
  },
  {
   "cell_type": "code",
   "execution_count": 100,
   "metadata": {
    "collapsed": false
   },
   "outputs": [
    {
     "data": {
      "text/plain": [
       "array([ 1042.26306152,  1126.71044922,  1066.83056641, ...,   945.77661133,\n",
       "         959.3338623 ,  1004.17791748], dtype=float32)"
      ]
     },
     "execution_count": 100,
     "metadata": {},
     "output_type": "execute_result"
    }
   ],
   "source": [
    "predicted_xgb"
   ]
  },
  {
   "cell_type": "code",
   "execution_count": 101,
   "metadata": {
    "collapsed": true
   },
   "outputs": [],
   "source": [
    "solution_xgb = pd.DataFrame(test_data['ID'])"
   ]
  },
  {
   "cell_type": "code",
   "execution_count": 102,
   "metadata": {
    "collapsed": true
   },
   "outputs": [],
   "source": [
    "solution_xgb = pd.concat([solution_xgb, pd.DataFrame(predicted_xgb, columns=['Footfall'])], axis=1)"
   ]
  },
  {
   "cell_type": "code",
   "execution_count": 103,
   "metadata": {
    "collapsed": false
   },
   "outputs": [
    {
     "data": {
      "text/html": [
       "<div>\n",
       "<table border=\"1\" class=\"dataframe\">\n",
       "  <thead>\n",
       "    <tr style=\"text-align: right;\">\n",
       "      <th></th>\n",
       "      <th>ID</th>\n",
       "      <th>Footfall</th>\n",
       "    </tr>\n",
       "  </thead>\n",
       "  <tbody>\n",
       "    <tr>\n",
       "      <th>0</th>\n",
       "      <td>3725712</td>\n",
       "      <td>1042.263062</td>\n",
       "    </tr>\n",
       "    <tr>\n",
       "      <th>1</th>\n",
       "      <td>3725812</td>\n",
       "      <td>1126.710449</td>\n",
       "    </tr>\n",
       "    <tr>\n",
       "      <th>2</th>\n",
       "      <td>3725912</td>\n",
       "      <td>1066.830566</td>\n",
       "    </tr>\n",
       "    <tr>\n",
       "      <th>3</th>\n",
       "      <td>3726012</td>\n",
       "      <td>985.078003</td>\n",
       "    </tr>\n",
       "    <tr>\n",
       "      <th>4</th>\n",
       "      <td>3726112</td>\n",
       "      <td>991.585632</td>\n",
       "    </tr>\n",
       "    <tr>\n",
       "      <th>5</th>\n",
       "      <td>3726212</td>\n",
       "      <td>1026.556274</td>\n",
       "    </tr>\n",
       "    <tr>\n",
       "      <th>6</th>\n",
       "      <td>3726312</td>\n",
       "      <td>1001.728027</td>\n",
       "    </tr>\n",
       "    <tr>\n",
       "      <th>7</th>\n",
       "      <td>3726412</td>\n",
       "      <td>1050.323242</td>\n",
       "    </tr>\n",
       "    <tr>\n",
       "      <th>8</th>\n",
       "      <td>3726512</td>\n",
       "      <td>986.210693</td>\n",
       "    </tr>\n",
       "    <tr>\n",
       "      <th>9</th>\n",
       "      <td>3726612</td>\n",
       "      <td>1064.343872</td>\n",
       "    </tr>\n",
       "    <tr>\n",
       "      <th>10</th>\n",
       "      <td>3726712</td>\n",
       "      <td>1085.299072</td>\n",
       "    </tr>\n",
       "    <tr>\n",
       "      <th>11</th>\n",
       "      <td>3726812</td>\n",
       "      <td>991.974487</td>\n",
       "    </tr>\n",
       "    <tr>\n",
       "      <th>12</th>\n",
       "      <td>3726912</td>\n",
       "      <td>772.467773</td>\n",
       "    </tr>\n",
       "    <tr>\n",
       "      <th>13</th>\n",
       "      <td>3727012</td>\n",
       "      <td>719.582275</td>\n",
       "    </tr>\n",
       "    <tr>\n",
       "      <th>14</th>\n",
       "      <td>3727112</td>\n",
       "      <td>774.197998</td>\n",
       "    </tr>\n",
       "    <tr>\n",
       "      <th>15</th>\n",
       "      <td>3727212</td>\n",
       "      <td>874.502563</td>\n",
       "    </tr>\n",
       "    <tr>\n",
       "      <th>16</th>\n",
       "      <td>3727312</td>\n",
       "      <td>1056.021729</td>\n",
       "    </tr>\n",
       "    <tr>\n",
       "      <th>17</th>\n",
       "      <td>3727412</td>\n",
       "      <td>1000.449158</td>\n",
       "    </tr>\n",
       "    <tr>\n",
       "      <th>18</th>\n",
       "      <td>3727512</td>\n",
       "      <td>1029.711060</td>\n",
       "    </tr>\n",
       "    <tr>\n",
       "      <th>19</th>\n",
       "      <td>3727612</td>\n",
       "      <td>1066.391602</td>\n",
       "    </tr>\n",
       "    <tr>\n",
       "      <th>20</th>\n",
       "      <td>3727712</td>\n",
       "      <td>1070.134766</td>\n",
       "    </tr>\n",
       "    <tr>\n",
       "      <th>21</th>\n",
       "      <td>3727812</td>\n",
       "      <td>984.932007</td>\n",
       "    </tr>\n",
       "    <tr>\n",
       "      <th>22</th>\n",
       "      <td>3727912</td>\n",
       "      <td>944.973694</td>\n",
       "    </tr>\n",
       "    <tr>\n",
       "      <th>23</th>\n",
       "      <td>3728012</td>\n",
       "      <td>868.547119</td>\n",
       "    </tr>\n",
       "    <tr>\n",
       "      <th>24</th>\n",
       "      <td>3728112</td>\n",
       "      <td>984.679260</td>\n",
       "    </tr>\n",
       "    <tr>\n",
       "      <th>25</th>\n",
       "      <td>3728212</td>\n",
       "      <td>974.922729</td>\n",
       "    </tr>\n",
       "    <tr>\n",
       "      <th>26</th>\n",
       "      <td>3728312</td>\n",
       "      <td>764.086060</td>\n",
       "    </tr>\n",
       "    <tr>\n",
       "      <th>27</th>\n",
       "      <td>3728412</td>\n",
       "      <td>729.790710</td>\n",
       "    </tr>\n",
       "    <tr>\n",
       "      <th>28</th>\n",
       "      <td>3728512</td>\n",
       "      <td>759.106079</td>\n",
       "    </tr>\n",
       "    <tr>\n",
       "      <th>29</th>\n",
       "      <td>3728612</td>\n",
       "      <td>723.053894</td>\n",
       "    </tr>\n",
       "    <tr>\n",
       "      <th>...</th>\n",
       "      <td>...</td>\n",
       "      <td>...</td>\n",
       "    </tr>\n",
       "    <tr>\n",
       "      <th>39390</th>\n",
       "      <td>3868739</td>\n",
       "      <td>982.486694</td>\n",
       "    </tr>\n",
       "    <tr>\n",
       "      <th>39391</th>\n",
       "      <td>3868839</td>\n",
       "      <td>955.081848</td>\n",
       "    </tr>\n",
       "    <tr>\n",
       "      <th>39392</th>\n",
       "      <td>3868939</td>\n",
       "      <td>1034.620239</td>\n",
       "    </tr>\n",
       "    <tr>\n",
       "      <th>39393</th>\n",
       "      <td>3869039</td>\n",
       "      <td>988.198364</td>\n",
       "    </tr>\n",
       "    <tr>\n",
       "      <th>39394</th>\n",
       "      <td>3869139</td>\n",
       "      <td>1016.565308</td>\n",
       "    </tr>\n",
       "    <tr>\n",
       "      <th>39395</th>\n",
       "      <td>3869239</td>\n",
       "      <td>910.364807</td>\n",
       "    </tr>\n",
       "    <tr>\n",
       "      <th>39396</th>\n",
       "      <td>3869339</td>\n",
       "      <td>982.502502</td>\n",
       "    </tr>\n",
       "    <tr>\n",
       "      <th>39397</th>\n",
       "      <td>3869439</td>\n",
       "      <td>904.284058</td>\n",
       "    </tr>\n",
       "    <tr>\n",
       "      <th>39398</th>\n",
       "      <td>3869539</td>\n",
       "      <td>982.971619</td>\n",
       "    </tr>\n",
       "    <tr>\n",
       "      <th>39399</th>\n",
       "      <td>3869639</td>\n",
       "      <td>1016.514954</td>\n",
       "    </tr>\n",
       "    <tr>\n",
       "      <th>39400</th>\n",
       "      <td>3869739</td>\n",
       "      <td>975.095276</td>\n",
       "    </tr>\n",
       "    <tr>\n",
       "      <th>39401</th>\n",
       "      <td>3869839</td>\n",
       "      <td>921.054626</td>\n",
       "    </tr>\n",
       "    <tr>\n",
       "      <th>39402</th>\n",
       "      <td>3869939</td>\n",
       "      <td>867.755737</td>\n",
       "    </tr>\n",
       "    <tr>\n",
       "      <th>39403</th>\n",
       "      <td>3870039</td>\n",
       "      <td>870.639160</td>\n",
       "    </tr>\n",
       "    <tr>\n",
       "      <th>39404</th>\n",
       "      <td>3870139</td>\n",
       "      <td>987.201965</td>\n",
       "    </tr>\n",
       "    <tr>\n",
       "      <th>39405</th>\n",
       "      <td>3870239</td>\n",
       "      <td>963.101807</td>\n",
       "    </tr>\n",
       "    <tr>\n",
       "      <th>39406</th>\n",
       "      <td>3870339</td>\n",
       "      <td>969.677612</td>\n",
       "    </tr>\n",
       "    <tr>\n",
       "      <th>39407</th>\n",
       "      <td>3870439</td>\n",
       "      <td>952.655762</td>\n",
       "    </tr>\n",
       "    <tr>\n",
       "      <th>39408</th>\n",
       "      <td>3870539</td>\n",
       "      <td>994.562988</td>\n",
       "    </tr>\n",
       "    <tr>\n",
       "      <th>39409</th>\n",
       "      <td>3870639</td>\n",
       "      <td>1080.032349</td>\n",
       "    </tr>\n",
       "    <tr>\n",
       "      <th>39410</th>\n",
       "      <td>3870739</td>\n",
       "      <td>1072.728760</td>\n",
       "    </tr>\n",
       "    <tr>\n",
       "      <th>39411</th>\n",
       "      <td>3870839</td>\n",
       "      <td>1021.936462</td>\n",
       "    </tr>\n",
       "    <tr>\n",
       "      <th>39412</th>\n",
       "      <td>3870939</td>\n",
       "      <td>1017.682495</td>\n",
       "    </tr>\n",
       "    <tr>\n",
       "      <th>39413</th>\n",
       "      <td>3871039</td>\n",
       "      <td>998.718262</td>\n",
       "    </tr>\n",
       "    <tr>\n",
       "      <th>39414</th>\n",
       "      <td>3871139</td>\n",
       "      <td>1006.054077</td>\n",
       "    </tr>\n",
       "    <tr>\n",
       "      <th>39415</th>\n",
       "      <td>3871239</td>\n",
       "      <td>984.104919</td>\n",
       "    </tr>\n",
       "    <tr>\n",
       "      <th>39416</th>\n",
       "      <td>3871339</td>\n",
       "      <td>867.631897</td>\n",
       "    </tr>\n",
       "    <tr>\n",
       "      <th>39417</th>\n",
       "      <td>3871439</td>\n",
       "      <td>945.776611</td>\n",
       "    </tr>\n",
       "    <tr>\n",
       "      <th>39418</th>\n",
       "      <td>3871539</td>\n",
       "      <td>959.333862</td>\n",
       "    </tr>\n",
       "    <tr>\n",
       "      <th>39419</th>\n",
       "      <td>3871639</td>\n",
       "      <td>1004.177917</td>\n",
       "    </tr>\n",
       "  </tbody>\n",
       "</table>\n",
       "<p>39420 rows × 2 columns</p>\n",
       "</div>"
      ],
      "text/plain": [
       "            ID     Footfall\n",
       "0      3725712  1042.263062\n",
       "1      3725812  1126.710449\n",
       "2      3725912  1066.830566\n",
       "3      3726012   985.078003\n",
       "4      3726112   991.585632\n",
       "5      3726212  1026.556274\n",
       "6      3726312  1001.728027\n",
       "7      3726412  1050.323242\n",
       "8      3726512   986.210693\n",
       "9      3726612  1064.343872\n",
       "10     3726712  1085.299072\n",
       "11     3726812   991.974487\n",
       "12     3726912   772.467773\n",
       "13     3727012   719.582275\n",
       "14     3727112   774.197998\n",
       "15     3727212   874.502563\n",
       "16     3727312  1056.021729\n",
       "17     3727412  1000.449158\n",
       "18     3727512  1029.711060\n",
       "19     3727612  1066.391602\n",
       "20     3727712  1070.134766\n",
       "21     3727812   984.932007\n",
       "22     3727912   944.973694\n",
       "23     3728012   868.547119\n",
       "24     3728112   984.679260\n",
       "25     3728212   974.922729\n",
       "26     3728312   764.086060\n",
       "27     3728412   729.790710\n",
       "28     3728512   759.106079\n",
       "29     3728612   723.053894\n",
       "...        ...          ...\n",
       "39390  3868739   982.486694\n",
       "39391  3868839   955.081848\n",
       "39392  3868939  1034.620239\n",
       "39393  3869039   988.198364\n",
       "39394  3869139  1016.565308\n",
       "39395  3869239   910.364807\n",
       "39396  3869339   982.502502\n",
       "39397  3869439   904.284058\n",
       "39398  3869539   982.971619\n",
       "39399  3869639  1016.514954\n",
       "39400  3869739   975.095276\n",
       "39401  3869839   921.054626\n",
       "39402  3869939   867.755737\n",
       "39403  3870039   870.639160\n",
       "39404  3870139   987.201965\n",
       "39405  3870239   963.101807\n",
       "39406  3870339   969.677612\n",
       "39407  3870439   952.655762\n",
       "39408  3870539   994.562988\n",
       "39409  3870639  1080.032349\n",
       "39410  3870739  1072.728760\n",
       "39411  3870839  1021.936462\n",
       "39412  3870939  1017.682495\n",
       "39413  3871039   998.718262\n",
       "39414  3871139  1006.054077\n",
       "39415  3871239   984.104919\n",
       "39416  3871339   867.631897\n",
       "39417  3871439   945.776611\n",
       "39418  3871539   959.333862\n",
       "39419  3871639  1004.177917\n",
       "\n",
       "[39420 rows x 2 columns]"
      ]
     },
     "execution_count": 103,
     "metadata": {},
     "output_type": "execute_result"
    }
   ],
   "source": [
    "solution_xgb"
   ]
  },
  {
   "cell_type": "code",
   "execution_count": 104,
   "metadata": {
    "collapsed": true
   },
   "outputs": [],
   "source": [
    "solution_xgb.to_csv('solution_xgb.csv', index=False)"
   ]
  },
  {
   "cell_type": "code",
   "execution_count": 153,
   "metadata": {
    "collapsed": false
   },
   "outputs": [
    {
     "data": {
      "text/plain": [
       "XGBRegressor(base_score=0.5, colsample_bylevel=1, colsample_bytree=1, gamma=0,\n",
       "       learning_rate=0.1, max_delta_step=0, max_depth=3,\n",
       "       min_child_weight=1, missing=None, n_estimators=700, nthread=-1,\n",
       "       objective='reg:linear', reg_alpha=0, reg_lambda=1,\n",
       "       scale_pos_weight=1, seed=0, silent=False, subsample=1)"
      ]
     },
     "execution_count": 153,
     "metadata": {},
     "output_type": "execute_result"
    }
   ],
   "source": [
    "# Get best accuracy score for XGB model by optimising number of estimators with stratification\n",
    "\n",
    "# params = {\"objective\": \"reg:linear\",\n",
    "#           \"learn_rate\": 0.3,\n",
    "#           \"max_depth\": 10,\n",
    "#           \"subsample\": 0.9,\n",
    "#           \"colsample_bytree\": 0.7,\n",
    "#           \"silent\": False,\n",
    "#           \"seed\": 1301,\n",
    "#           'n_estimators': 700,\n",
    "#           }\n",
    "\n",
    "# xgb = XGBRegressor(objective='reg:linear', learning_rate=0.3, max_depth=10, subsample=0.9, colsample_bytree=0.7, seed=1301, n_estimators=700, silent=False)\n",
    "xgb = XGBRegressor(n_estimators=700, silent=False)\n",
    "x_train = train[train['year'] < 2001].drop(['Footfall'], axis=1)\n",
    "y_train = train[train['year'] < 2001]['Footfall']\n",
    "x_test = train[train['year'] >= 2001].drop(['Footfall'], axis=1)\n",
    "y_test = train[train['year'] >= 2001]['Footfall']\n",
    "x_train.drop(['year'], axis=1, inplace=True)\n",
    "x_test.drop(['year'], axis=1, inplace=True)\n",
    "xgb.fit(x_train, y_train)"
   ]
  },
  {
   "cell_type": "code",
   "execution_count": 154,
   "metadata": {
    "collapsed": true
   },
   "outputs": [],
   "source": [
    "predicted = xgb.predict(x_test)"
   ]
  },
  {
   "cell_type": "code",
   "execution_count": 155,
   "metadata": {
    "collapsed": false
   },
   "outputs": [
    {
     "name": "stdout",
     "output_type": "stream",
     "text": [
      "104.83811114\n"
     ]
    }
   ],
   "source": [
    "rmse = np.sqrt(np.abs(np.mean(mean_squared_error(y_test, predicted))))\n",
    "print rmse"
   ]
  },
  {
   "cell_type": "code",
   "execution_count": 157,
   "metadata": {
    "collapsed": false
   },
   "outputs": [],
   "source": [
    "predicted = xgb.predict(test)"
   ]
  },
  {
   "cell_type": "code",
   "execution_count": 149,
   "metadata": {
    "collapsed": true
   },
   "outputs": [],
   "source": [
    "solution = pd.DataFrame(test_data['ID'])"
   ]
  },
  {
   "cell_type": "code",
   "execution_count": 150,
   "metadata": {
    "collapsed": true
   },
   "outputs": [],
   "source": [
    "solution = pd.concat([solution, pd.DataFrame(predicted, columns=['Footfall'])], axis=1)"
   ]
  },
  {
   "cell_type": "code",
   "execution_count": 151,
   "metadata": {
    "collapsed": false
   },
   "outputs": [
    {
     "data": {
      "text/html": [
       "<div>\n",
       "<table border=\"1\" class=\"dataframe\">\n",
       "  <thead>\n",
       "    <tr style=\"text-align: right;\">\n",
       "      <th></th>\n",
       "      <th>ID</th>\n",
       "      <th>Footfall</th>\n",
       "    </tr>\n",
       "  </thead>\n",
       "  <tbody>\n",
       "    <tr>\n",
       "      <th>0</th>\n",
       "      <td>3725712</td>\n",
       "      <td>1050.274414</td>\n",
       "    </tr>\n",
       "    <tr>\n",
       "      <th>1</th>\n",
       "      <td>3725812</td>\n",
       "      <td>1117.136475</td>\n",
       "    </tr>\n",
       "    <tr>\n",
       "      <th>2</th>\n",
       "      <td>3725912</td>\n",
       "      <td>1079.250244</td>\n",
       "    </tr>\n",
       "    <tr>\n",
       "      <th>3</th>\n",
       "      <td>3726012</td>\n",
       "      <td>1005.963318</td>\n",
       "    </tr>\n",
       "    <tr>\n",
       "      <th>4</th>\n",
       "      <td>3726112</td>\n",
       "      <td>1018.587830</td>\n",
       "    </tr>\n",
       "    <tr>\n",
       "      <th>5</th>\n",
       "      <td>3726212</td>\n",
       "      <td>1017.758484</td>\n",
       "    </tr>\n",
       "    <tr>\n",
       "      <th>6</th>\n",
       "      <td>3726312</td>\n",
       "      <td>1037.331543</td>\n",
       "    </tr>\n",
       "    <tr>\n",
       "      <th>7</th>\n",
       "      <td>3726412</td>\n",
       "      <td>1044.683350</td>\n",
       "    </tr>\n",
       "    <tr>\n",
       "      <th>8</th>\n",
       "      <td>3726512</td>\n",
       "      <td>1003.441650</td>\n",
       "    </tr>\n",
       "    <tr>\n",
       "      <th>9</th>\n",
       "      <td>3726612</td>\n",
       "      <td>1025.581787</td>\n",
       "    </tr>\n",
       "    <tr>\n",
       "      <th>10</th>\n",
       "      <td>3726712</td>\n",
       "      <td>1111.631836</td>\n",
       "    </tr>\n",
       "    <tr>\n",
       "      <th>11</th>\n",
       "      <td>3726812</td>\n",
       "      <td>1013.179260</td>\n",
       "    </tr>\n",
       "    <tr>\n",
       "      <th>12</th>\n",
       "      <td>3726912</td>\n",
       "      <td>777.678101</td>\n",
       "    </tr>\n",
       "    <tr>\n",
       "      <th>13</th>\n",
       "      <td>3727012</td>\n",
       "      <td>739.432190</td>\n",
       "    </tr>\n",
       "    <tr>\n",
       "      <th>14</th>\n",
       "      <td>3727112</td>\n",
       "      <td>726.347961</td>\n",
       "    </tr>\n",
       "    <tr>\n",
       "      <th>15</th>\n",
       "      <td>3727212</td>\n",
       "      <td>838.469788</td>\n",
       "    </tr>\n",
       "    <tr>\n",
       "      <th>16</th>\n",
       "      <td>3727312</td>\n",
       "      <td>1032.928101</td>\n",
       "    </tr>\n",
       "    <tr>\n",
       "      <th>17</th>\n",
       "      <td>3727412</td>\n",
       "      <td>956.862732</td>\n",
       "    </tr>\n",
       "    <tr>\n",
       "      <th>18</th>\n",
       "      <td>3727512</td>\n",
       "      <td>1006.363953</td>\n",
       "    </tr>\n",
       "    <tr>\n",
       "      <th>19</th>\n",
       "      <td>3727612</td>\n",
       "      <td>1067.306885</td>\n",
       "    </tr>\n",
       "    <tr>\n",
       "      <th>20</th>\n",
       "      <td>3727712</td>\n",
       "      <td>1079.754517</td>\n",
       "    </tr>\n",
       "    <tr>\n",
       "      <th>21</th>\n",
       "      <td>3727812</td>\n",
       "      <td>968.294373</td>\n",
       "    </tr>\n",
       "    <tr>\n",
       "      <th>22</th>\n",
       "      <td>3727912</td>\n",
       "      <td>895.203186</td>\n",
       "    </tr>\n",
       "    <tr>\n",
       "      <th>23</th>\n",
       "      <td>3728012</td>\n",
       "      <td>866.360291</td>\n",
       "    </tr>\n",
       "    <tr>\n",
       "      <th>24</th>\n",
       "      <td>3728112</td>\n",
       "      <td>978.510986</td>\n",
       "    </tr>\n",
       "    <tr>\n",
       "      <th>25</th>\n",
       "      <td>3728212</td>\n",
       "      <td>970.843445</td>\n",
       "    </tr>\n",
       "    <tr>\n",
       "      <th>26</th>\n",
       "      <td>3728312</td>\n",
       "      <td>807.761658</td>\n",
       "    </tr>\n",
       "    <tr>\n",
       "      <th>27</th>\n",
       "      <td>3728412</td>\n",
       "      <td>751.752991</td>\n",
       "    </tr>\n",
       "    <tr>\n",
       "      <th>28</th>\n",
       "      <td>3728512</td>\n",
       "      <td>731.522095</td>\n",
       "    </tr>\n",
       "    <tr>\n",
       "      <th>29</th>\n",
       "      <td>3728612</td>\n",
       "      <td>821.391907</td>\n",
       "    </tr>\n",
       "    <tr>\n",
       "      <th>...</th>\n",
       "      <td>...</td>\n",
       "      <td>...</td>\n",
       "    </tr>\n",
       "    <tr>\n",
       "      <th>39390</th>\n",
       "      <td>3868739</td>\n",
       "      <td>970.726074</td>\n",
       "    </tr>\n",
       "    <tr>\n",
       "      <th>39391</th>\n",
       "      <td>3868839</td>\n",
       "      <td>920.291809</td>\n",
       "    </tr>\n",
       "    <tr>\n",
       "      <th>39392</th>\n",
       "      <td>3868939</td>\n",
       "      <td>1069.138062</td>\n",
       "    </tr>\n",
       "    <tr>\n",
       "      <th>39393</th>\n",
       "      <td>3869039</td>\n",
       "      <td>998.144836</td>\n",
       "    </tr>\n",
       "    <tr>\n",
       "      <th>39394</th>\n",
       "      <td>3869139</td>\n",
       "      <td>1093.123535</td>\n",
       "    </tr>\n",
       "    <tr>\n",
       "      <th>39395</th>\n",
       "      <td>3869239</td>\n",
       "      <td>869.991699</td>\n",
       "    </tr>\n",
       "    <tr>\n",
       "      <th>39396</th>\n",
       "      <td>3869339</td>\n",
       "      <td>1026.903809</td>\n",
       "    </tr>\n",
       "    <tr>\n",
       "      <th>39397</th>\n",
       "      <td>3869439</td>\n",
       "      <td>871.097534</td>\n",
       "    </tr>\n",
       "    <tr>\n",
       "      <th>39398</th>\n",
       "      <td>3869539</td>\n",
       "      <td>977.871338</td>\n",
       "    </tr>\n",
       "    <tr>\n",
       "      <th>39399</th>\n",
       "      <td>3869639</td>\n",
       "      <td>1040.983032</td>\n",
       "    </tr>\n",
       "    <tr>\n",
       "      <th>39400</th>\n",
       "      <td>3869739</td>\n",
       "      <td>967.386658</td>\n",
       "    </tr>\n",
       "    <tr>\n",
       "      <th>39401</th>\n",
       "      <td>3869839</td>\n",
       "      <td>867.960632</td>\n",
       "    </tr>\n",
       "    <tr>\n",
       "      <th>39402</th>\n",
       "      <td>3869939</td>\n",
       "      <td>864.527100</td>\n",
       "    </tr>\n",
       "    <tr>\n",
       "      <th>39403</th>\n",
       "      <td>3870039</td>\n",
       "      <td>919.776123</td>\n",
       "    </tr>\n",
       "    <tr>\n",
       "      <th>39404</th>\n",
       "      <td>3870139</td>\n",
       "      <td>1052.503906</td>\n",
       "    </tr>\n",
       "    <tr>\n",
       "      <th>39405</th>\n",
       "      <td>3870239</td>\n",
       "      <td>974.959106</td>\n",
       "    </tr>\n",
       "    <tr>\n",
       "      <th>39406</th>\n",
       "      <td>3870339</td>\n",
       "      <td>964.703125</td>\n",
       "    </tr>\n",
       "    <tr>\n",
       "      <th>39407</th>\n",
       "      <td>3870439</td>\n",
       "      <td>977.084229</td>\n",
       "    </tr>\n",
       "    <tr>\n",
       "      <th>39408</th>\n",
       "      <td>3870539</td>\n",
       "      <td>1057.921021</td>\n",
       "    </tr>\n",
       "    <tr>\n",
       "      <th>39409</th>\n",
       "      <td>3870639</td>\n",
       "      <td>1127.106323</td>\n",
       "    </tr>\n",
       "    <tr>\n",
       "      <th>39410</th>\n",
       "      <td>3870739</td>\n",
       "      <td>1130.328491</td>\n",
       "    </tr>\n",
       "    <tr>\n",
       "      <th>39411</th>\n",
       "      <td>3870839</td>\n",
       "      <td>1015.235962</td>\n",
       "    </tr>\n",
       "    <tr>\n",
       "      <th>39412</th>\n",
       "      <td>3870939</td>\n",
       "      <td>1083.489380</td>\n",
       "    </tr>\n",
       "    <tr>\n",
       "      <th>39413</th>\n",
       "      <td>3871039</td>\n",
       "      <td>1001.459290</td>\n",
       "    </tr>\n",
       "    <tr>\n",
       "      <th>39414</th>\n",
       "      <td>3871139</td>\n",
       "      <td>1104.403809</td>\n",
       "    </tr>\n",
       "    <tr>\n",
       "      <th>39415</th>\n",
       "      <td>3871239</td>\n",
       "      <td>959.921387</td>\n",
       "    </tr>\n",
       "    <tr>\n",
       "      <th>39416</th>\n",
       "      <td>3871339</td>\n",
       "      <td>820.444824</td>\n",
       "    </tr>\n",
       "    <tr>\n",
       "      <th>39417</th>\n",
       "      <td>3871439</td>\n",
       "      <td>916.882812</td>\n",
       "    </tr>\n",
       "    <tr>\n",
       "      <th>39418</th>\n",
       "      <td>3871539</td>\n",
       "      <td>842.637024</td>\n",
       "    </tr>\n",
       "    <tr>\n",
       "      <th>39419</th>\n",
       "      <td>3871639</td>\n",
       "      <td>1051.103271</td>\n",
       "    </tr>\n",
       "  </tbody>\n",
       "</table>\n",
       "<p>39420 rows × 2 columns</p>\n",
       "</div>"
      ],
      "text/plain": [
       "            ID     Footfall\n",
       "0      3725712  1050.274414\n",
       "1      3725812  1117.136475\n",
       "2      3725912  1079.250244\n",
       "3      3726012  1005.963318\n",
       "4      3726112  1018.587830\n",
       "5      3726212  1017.758484\n",
       "6      3726312  1037.331543\n",
       "7      3726412  1044.683350\n",
       "8      3726512  1003.441650\n",
       "9      3726612  1025.581787\n",
       "10     3726712  1111.631836\n",
       "11     3726812  1013.179260\n",
       "12     3726912   777.678101\n",
       "13     3727012   739.432190\n",
       "14     3727112   726.347961\n",
       "15     3727212   838.469788\n",
       "16     3727312  1032.928101\n",
       "17     3727412   956.862732\n",
       "18     3727512  1006.363953\n",
       "19     3727612  1067.306885\n",
       "20     3727712  1079.754517\n",
       "21     3727812   968.294373\n",
       "22     3727912   895.203186\n",
       "23     3728012   866.360291\n",
       "24     3728112   978.510986\n",
       "25     3728212   970.843445\n",
       "26     3728312   807.761658\n",
       "27     3728412   751.752991\n",
       "28     3728512   731.522095\n",
       "29     3728612   821.391907\n",
       "...        ...          ...\n",
       "39390  3868739   970.726074\n",
       "39391  3868839   920.291809\n",
       "39392  3868939  1069.138062\n",
       "39393  3869039   998.144836\n",
       "39394  3869139  1093.123535\n",
       "39395  3869239   869.991699\n",
       "39396  3869339  1026.903809\n",
       "39397  3869439   871.097534\n",
       "39398  3869539   977.871338\n",
       "39399  3869639  1040.983032\n",
       "39400  3869739   967.386658\n",
       "39401  3869839   867.960632\n",
       "39402  3869939   864.527100\n",
       "39403  3870039   919.776123\n",
       "39404  3870139  1052.503906\n",
       "39405  3870239   974.959106\n",
       "39406  3870339   964.703125\n",
       "39407  3870439   977.084229\n",
       "39408  3870539  1057.921021\n",
       "39409  3870639  1127.106323\n",
       "39410  3870739  1130.328491\n",
       "39411  3870839  1015.235962\n",
       "39412  3870939  1083.489380\n",
       "39413  3871039  1001.459290\n",
       "39414  3871139  1104.403809\n",
       "39415  3871239   959.921387\n",
       "39416  3871339   820.444824\n",
       "39417  3871439   916.882812\n",
       "39418  3871539   842.637024\n",
       "39419  3871639  1051.103271\n",
       "\n",
       "[39420 rows x 2 columns]"
      ]
     },
     "execution_count": 151,
     "metadata": {},
     "output_type": "execute_result"
    }
   ],
   "source": [
    "solution"
   ]
  },
  {
   "cell_type": "code",
   "execution_count": 152,
   "metadata": {
    "collapsed": true
   },
   "outputs": [],
   "source": [
    "solution.to_csv('solution.csv', index=False)"
   ]
  },
  {
   "cell_type": "code",
   "execution_count": 105,
   "metadata": {
    "collapsed": false
   },
   "outputs": [],
   "source": [
    "# from collections import defaultdict\n",
    "# from glob import glob\n",
    "# import sys\n",
    "\n",
    "# glob_files = 'solution_xgb_116*.csv'\n",
    "# loc_outfile = 'ensemble.csv'\n",
    "\n",
    "# def kaggle_bag(glob_files, loc_outfile, method=\"average\", weights=\"uniform\"):\n",
    "#   if method == \"average\":\n",
    "#     scores = defaultdict(float)\n",
    "#   with open(loc_outfile,\"wb\") as outfile:\n",
    "#     for i, glob_file in enumerate( glob(glob_files) ):\n",
    "#       print \"parsing:\", glob_file\n",
    "#       # sort glob_file by first column, ignoring the first line\n",
    "#       lines = open(glob_file).readlines()\n",
    "#       lines = [lines[0]] + sorted(lines[1:])\n",
    "#       for e, line in enumerate( lines ):\n",
    "#         if i == 0 and e == 0:\n",
    "#           outfile.write(line)\n",
    "#         if e > 0:\n",
    "#           row = line.strip().split(\",\")\n",
    "#           scores[(e,row[0])] += float(row[1])\n",
    "#     for j,k in sorted(scores):\n",
    "#       outfile.write(\"%s,%f\\n\"%(k,scores[(j,k)]/(i+1)))\n",
    "#     print(\"wrote to %s\"%loc_outfile)\n",
    "\n",
    "# kaggle_bag(glob_files, loc_outfile)"
   ]
  },
  {
   "cell_type": "code",
   "execution_count": null,
   "metadata": {
    "collapsed": true
   },
   "outputs": [],
   "source": []
  }
 ],
 "metadata": {
  "kernelspec": {
   "display_name": "Python [Root]",
   "language": "python",
   "name": "Python [Root]"
  },
  "language_info": {
   "codemirror_mode": {
    "name": "ipython",
    "version": 2
   },
   "file_extension": ".py",
   "mimetype": "text/x-python",
   "name": "python",
   "nbconvert_exporter": "python",
   "pygments_lexer": "ipython2",
   "version": "2.7.12"
  }
 },
 "nbformat": 4,
 "nbformat_minor": 0
}
